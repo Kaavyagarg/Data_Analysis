{
  "nbformat": 4,
  "nbformat_minor": 0,
  "metadata": {
    "colab": {
      "provenance": [],
      "authorship_tag": "ABX9TyOjfrTsO8STfNMEo+KSOoih",
      "include_colab_link": true
    },
    "kernelspec": {
      "name": "python3",
      "display_name": "Python 3"
    },
    "language_info": {
      "name": "python"
    }
  },
  "cells": [
    {
      "cell_type": "markdown",
      "metadata": {
        "id": "view-in-github",
        "colab_type": "text"
      },
      "source": [
        "<a href=\"https://colab.research.google.com/github/Kaavyagarg/Data_Analysis/blob/main/EDA(30_04_22).ipynb\" target=\"_parent\"><img src=\"https://colab.research.google.com/assets/colab-badge.svg\" alt=\"Open In Colab\"/></a>"
      ]
    },
    {
      "cell_type": "code",
      "execution_count": null,
      "metadata": {
        "colab": {
          "base_uri": "https://localhost:8080/",
          "height": 398
        },
        "id": "lijO_ubJGhNV",
        "outputId": "406f323d-6689-4eaa-996f-db3122dafd17"
      },
      "outputs": [
        {
          "output_type": "error",
          "ename": "FileNotFoundError",
          "evalue": "ignored",
          "traceback": [
            "\u001b[0;31m---------------------------------------------------------------------------\u001b[0m",
            "\u001b[0;31mFileNotFoundError\u001b[0m                         Traceback (most recent call last)",
            "\u001b[0;32m<ipython-input-19-15d0c3f321f5>\u001b[0m in \u001b[0;36m<module>\u001b[0;34m()\u001b[0m\n\u001b[1;32m      1\u001b[0m \u001b[0;32mimport\u001b[0m \u001b[0mpandas\u001b[0m \u001b[0;32mas\u001b[0m \u001b[0mpd\u001b[0m\u001b[0;34m\u001b[0m\u001b[0;34m\u001b[0m\u001b[0m\n\u001b[1;32m      2\u001b[0m \u001b[0;32mimport\u001b[0m \u001b[0mos\u001b[0m\u001b[0;34m\u001b[0m\u001b[0;34m\u001b[0m\u001b[0m\n\u001b[0;32m----> 3\u001b[0;31m \u001b[0mdf\u001b[0m \u001b[0;34m=\u001b[0m \u001b[0mpd\u001b[0m\u001b[0;34m.\u001b[0m\u001b[0mread_excel\u001b[0m\u001b[0;34m(\u001b[0m\u001b[0;34m'This PC\\\\Downloads\\\\Final Data.xlsx'\u001b[0m\u001b[0;34m)\u001b[0m\u001b[0;34m\u001b[0m\u001b[0;34m\u001b[0m\u001b[0m\n\u001b[0m\u001b[1;32m      4\u001b[0m \u001b[0mprint\u001b[0m\u001b[0;34m(\u001b[0m\u001b[0mdf\u001b[0m\u001b[0;34m)\u001b[0m\u001b[0;34m\u001b[0m\u001b[0;34m\u001b[0m\u001b[0m\n\u001b[1;32m      5\u001b[0m \u001b[0;31m#pd.read_csv(\"../C:Users:DELL:Predictive-Analysis-of-Hit-Songs-Using-Repetitive-Chorus/Final Data.csv\")\u001b[0m\u001b[0;34m\u001b[0m\u001b[0;34m\u001b[0m\u001b[0;34m\u001b[0m\u001b[0m\n",
            "\u001b[0;32m/usr/local/lib/python3.7/dist-packages/pandas/util/_decorators.py\u001b[0m in \u001b[0;36mwrapper\u001b[0;34m(*args, **kwargs)\u001b[0m\n\u001b[1;32m    309\u001b[0m                     \u001b[0mstacklevel\u001b[0m\u001b[0;34m=\u001b[0m\u001b[0mstacklevel\u001b[0m\u001b[0;34m,\u001b[0m\u001b[0;34m\u001b[0m\u001b[0;34m\u001b[0m\u001b[0m\n\u001b[1;32m    310\u001b[0m                 )\n\u001b[0;32m--> 311\u001b[0;31m             \u001b[0;32mreturn\u001b[0m \u001b[0mfunc\u001b[0m\u001b[0;34m(\u001b[0m\u001b[0;34m*\u001b[0m\u001b[0margs\u001b[0m\u001b[0;34m,\u001b[0m \u001b[0;34m**\u001b[0m\u001b[0mkwargs\u001b[0m\u001b[0;34m)\u001b[0m\u001b[0;34m\u001b[0m\u001b[0;34m\u001b[0m\u001b[0m\n\u001b[0m\u001b[1;32m    312\u001b[0m \u001b[0;34m\u001b[0m\u001b[0m\n\u001b[1;32m    313\u001b[0m         \u001b[0;32mreturn\u001b[0m \u001b[0mwrapper\u001b[0m\u001b[0;34m\u001b[0m\u001b[0;34m\u001b[0m\u001b[0m\n",
            "\u001b[0;32m/usr/local/lib/python3.7/dist-packages/pandas/io/excel/_base.py\u001b[0m in \u001b[0;36mread_excel\u001b[0;34m(io, sheet_name, header, names, index_col, usecols, squeeze, dtype, engine, converters, true_values, false_values, skiprows, nrows, na_values, keep_default_na, na_filter, verbose, parse_dates, date_parser, thousands, comment, skipfooter, convert_float, mangle_dupe_cols, storage_options)\u001b[0m\n\u001b[1;32m    362\u001b[0m     \u001b[0;32mif\u001b[0m \u001b[0;32mnot\u001b[0m \u001b[0misinstance\u001b[0m\u001b[0;34m(\u001b[0m\u001b[0mio\u001b[0m\u001b[0;34m,\u001b[0m \u001b[0mExcelFile\u001b[0m\u001b[0;34m)\u001b[0m\u001b[0;34m:\u001b[0m\u001b[0;34m\u001b[0m\u001b[0;34m\u001b[0m\u001b[0m\n\u001b[1;32m    363\u001b[0m         \u001b[0mshould_close\u001b[0m \u001b[0;34m=\u001b[0m \u001b[0;32mTrue\u001b[0m\u001b[0;34m\u001b[0m\u001b[0;34m\u001b[0m\u001b[0m\n\u001b[0;32m--> 364\u001b[0;31m         \u001b[0mio\u001b[0m \u001b[0;34m=\u001b[0m \u001b[0mExcelFile\u001b[0m\u001b[0;34m(\u001b[0m\u001b[0mio\u001b[0m\u001b[0;34m,\u001b[0m \u001b[0mstorage_options\u001b[0m\u001b[0;34m=\u001b[0m\u001b[0mstorage_options\u001b[0m\u001b[0;34m,\u001b[0m \u001b[0mengine\u001b[0m\u001b[0;34m=\u001b[0m\u001b[0mengine\u001b[0m\u001b[0;34m)\u001b[0m\u001b[0;34m\u001b[0m\u001b[0;34m\u001b[0m\u001b[0m\n\u001b[0m\u001b[1;32m    365\u001b[0m     \u001b[0;32melif\u001b[0m \u001b[0mengine\u001b[0m \u001b[0;32mand\u001b[0m \u001b[0mengine\u001b[0m \u001b[0;34m!=\u001b[0m \u001b[0mio\u001b[0m\u001b[0;34m.\u001b[0m\u001b[0mengine\u001b[0m\u001b[0;34m:\u001b[0m\u001b[0;34m\u001b[0m\u001b[0;34m\u001b[0m\u001b[0m\n\u001b[1;32m    366\u001b[0m         raise ValueError(\n",
            "\u001b[0;32m/usr/local/lib/python3.7/dist-packages/pandas/io/excel/_base.py\u001b[0m in \u001b[0;36m__init__\u001b[0;34m(self, path_or_buffer, engine, storage_options)\u001b[0m\n\u001b[1;32m   1190\u001b[0m             \u001b[0;32melse\u001b[0m\u001b[0;34m:\u001b[0m\u001b[0;34m\u001b[0m\u001b[0;34m\u001b[0m\u001b[0m\n\u001b[1;32m   1191\u001b[0m                 ext = inspect_excel_format(\n\u001b[0;32m-> 1192\u001b[0;31m                     \u001b[0mcontent_or_path\u001b[0m\u001b[0;34m=\u001b[0m\u001b[0mpath_or_buffer\u001b[0m\u001b[0;34m,\u001b[0m \u001b[0mstorage_options\u001b[0m\u001b[0;34m=\u001b[0m\u001b[0mstorage_options\u001b[0m\u001b[0;34m\u001b[0m\u001b[0;34m\u001b[0m\u001b[0m\n\u001b[0m\u001b[1;32m   1193\u001b[0m                 )\n\u001b[1;32m   1194\u001b[0m                 \u001b[0;32mif\u001b[0m \u001b[0mext\u001b[0m \u001b[0;32mis\u001b[0m \u001b[0;32mNone\u001b[0m\u001b[0;34m:\u001b[0m\u001b[0;34m\u001b[0m\u001b[0;34m\u001b[0m\u001b[0m\n",
            "\u001b[0;32m/usr/local/lib/python3.7/dist-packages/pandas/io/excel/_base.py\u001b[0m in \u001b[0;36minspect_excel_format\u001b[0;34m(content_or_path, storage_options)\u001b[0m\n\u001b[1;32m   1069\u001b[0m \u001b[0;34m\u001b[0m\u001b[0m\n\u001b[1;32m   1070\u001b[0m     with get_handle(\n\u001b[0;32m-> 1071\u001b[0;31m         \u001b[0mcontent_or_path\u001b[0m\u001b[0;34m,\u001b[0m \u001b[0;34m\"rb\"\u001b[0m\u001b[0;34m,\u001b[0m \u001b[0mstorage_options\u001b[0m\u001b[0;34m=\u001b[0m\u001b[0mstorage_options\u001b[0m\u001b[0;34m,\u001b[0m \u001b[0mis_text\u001b[0m\u001b[0;34m=\u001b[0m\u001b[0;32mFalse\u001b[0m\u001b[0;34m\u001b[0m\u001b[0;34m\u001b[0m\u001b[0m\n\u001b[0m\u001b[1;32m   1072\u001b[0m     ) as handle:\n\u001b[1;32m   1073\u001b[0m         \u001b[0mstream\u001b[0m \u001b[0;34m=\u001b[0m \u001b[0mhandle\u001b[0m\u001b[0;34m.\u001b[0m\u001b[0mhandle\u001b[0m\u001b[0;34m\u001b[0m\u001b[0;34m\u001b[0m\u001b[0m\n",
            "\u001b[0;32m/usr/local/lib/python3.7/dist-packages/pandas/io/common.py\u001b[0m in \u001b[0;36mget_handle\u001b[0;34m(path_or_buf, mode, encoding, compression, memory_map, is_text, errors, storage_options)\u001b[0m\n\u001b[1;32m    709\u001b[0m         \u001b[0;32melse\u001b[0m\u001b[0;34m:\u001b[0m\u001b[0;34m\u001b[0m\u001b[0;34m\u001b[0m\u001b[0m\n\u001b[1;32m    710\u001b[0m             \u001b[0;31m# Binary mode\u001b[0m\u001b[0;34m\u001b[0m\u001b[0;34m\u001b[0m\u001b[0;34m\u001b[0m\u001b[0m\n\u001b[0;32m--> 711\u001b[0;31m             \u001b[0mhandle\u001b[0m \u001b[0;34m=\u001b[0m \u001b[0mopen\u001b[0m\u001b[0;34m(\u001b[0m\u001b[0mhandle\u001b[0m\u001b[0;34m,\u001b[0m \u001b[0mioargs\u001b[0m\u001b[0;34m.\u001b[0m\u001b[0mmode\u001b[0m\u001b[0;34m)\u001b[0m\u001b[0;34m\u001b[0m\u001b[0;34m\u001b[0m\u001b[0m\n\u001b[0m\u001b[1;32m    712\u001b[0m         \u001b[0mhandles\u001b[0m\u001b[0;34m.\u001b[0m\u001b[0mappend\u001b[0m\u001b[0;34m(\u001b[0m\u001b[0mhandle\u001b[0m\u001b[0;34m)\u001b[0m\u001b[0;34m\u001b[0m\u001b[0;34m\u001b[0m\u001b[0m\n\u001b[1;32m    713\u001b[0m \u001b[0;34m\u001b[0m\u001b[0m\n",
            "\u001b[0;31mFileNotFoundError\u001b[0m: [Errno 2] No such file or directory: 'This PC\\\\Downloads\\\\Final Data.xlsx'"
          ]
        }
      ],
      "source": [
        "import pandas as pd\n",
        "import os\n",
        "df = pd.read_excel('This PC\\\\Downloads\\\\Final Data.xlsx')\n",
        "print(df)\n",
        "#pd.read_csv(\"../C:Users:DELL:Predictive-Analysis-of-Hit-Songs-Using-Repetitive-Chorus/Final Data.csv\")"
      ]
    },
    {
      "cell_type": "code",
      "source": [
        "import numpy as np\n",
        "import pandas as pd\n",
        "import matplotlib.pyplot as plt\n",
        "%matplotlib inline\n",
        "import seaborn as sns"
      ],
      "metadata": {
        "id": "WnkyO1r0aeJK"
      },
      "execution_count": null,
      "outputs": []
    },
    {
      "cell_type": "code",
      "source": [
        "from google.colab import files\n",
        "uploaded = files.upload()\n"
      ],
      "metadata": {
        "colab": {
          "base_uri": "https://localhost:8080/",
          "height": 73,
          "resources": {
            "http://localhost:8080/nbextensions/google.colab/files.js": {
              "data": "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",
              "ok": true,
              "headers": [
                [
                  "content-type",
                  "application/javascript"
                ]
              ],
              "status": 200,
              "status_text": ""
            }
          }
        },
        "id": "6sq3Pc2QaiST",
        "outputId": "d7e2e65f-c5a1-4413-9dbb-5cdaa8287d22"
      },
      "execution_count": null,
      "outputs": [
        {
          "output_type": "display_data",
          "data": {
            "text/plain": [
              "<IPython.core.display.HTML object>"
            ],
            "text/html": [
              "\n",
              "     <input type=\"file\" id=\"files-33e7bf38-7086-4550-84aa-7613bc52c0d9\" name=\"files[]\" multiple disabled\n",
              "        style=\"border:none\" />\n",
              "     <output id=\"result-33e7bf38-7086-4550-84aa-7613bc52c0d9\">\n",
              "      Upload widget is only available when the cell has been executed in the\n",
              "      current browser session. Please rerun this cell to enable.\n",
              "      </output>\n",
              "      <script src=\"/nbextensions/google.colab/files.js\"></script> "
            ]
          },
          "metadata": {}
        },
        {
          "output_type": "stream",
          "name": "stdout",
          "text": [
            "Saving Final Data.csv to Final Data.csv\n"
          ]
        }
      ]
    },
    {
      "cell_type": "code",
      "source": [
        "import io\n",
        "df = pd.read_csv(io.BytesIO(uploaded['Final Data.csv']))\n",
        "print(df)"
      ],
      "metadata": {
        "colab": {
          "base_uri": "https://localhost:8080/"
        },
        "id": "uj17nugeeXwa",
        "outputId": "56bbb172-411b-49e7-84af-41c75a90eb31"
      },
      "execution_count": null,
      "outputs": [
        {
          "output_type": "stream",
          "name": "stdout",
          "text": [
            "             Artist                           Title  Label  \\\n",
            "0        The Weeknd                 Blinding Lights      1   \n",
            "1    Olivia Rodrigo                        Good 4 U      1   \n",
            "2    Olivia Rodrigo                 Drivers License      1   \n",
            "3         Lil Nas X  Montero (Call Me By Your Name)      1   \n",
            "4               BTS                          Butter      1   \n",
            "..              ...                             ...    ...   \n",
            "746    Gwen Stefani                           Crash      0   \n",
            "747    Gwen Stefani                       Luxurious      0   \n",
            "748         Rihanna    If It's Lovin' That You Want      0   \n",
            "749     Alicia Keys                     Unbreakable      0   \n",
            "750   Rascal Flatts                 Skin (Sarabeth)      0   \n",
            "\n",
            "                                                  Path  \\\n",
            "0    Songs/The Weeknd - Blinding Lights (Official V...   \n",
            "1    Songs/Olivia Rodrigo - good 4 u (Official Vide...   \n",
            "2    Songs/Olivia Rodrigo - drivers license (Offici...   \n",
            "3    Songs/Lil Nas X - MONTERO (Call Me By Your Nam...   \n",
            "4           Songs/BTS (방탄소년단) 'Butter' Official MV.mp3   \n",
            "..                                                 ...   \n",
            "746                 Unpopular/Gwen Stefani - Crash.mp3   \n",
            "747  Unpopular/Gwen Stefani - Luxurious (Remix Vers...   \n",
            "748  Unpopular/Rihanna - If It's Lovin' That You Wa...   \n",
            "749  Unpopular/Alicia Keys - Unbreakable (Official ...   \n",
            "750  Unpopular/Rascal Flatts - Skin (Sarabeth) (Off...   \n",
            "\n",
            "                                            choruspath  chroma_stft_kew_0  \\\n",
            "0    Songs/RepeatedPopularChorus/The Weeknd - Blind...           0.091806   \n",
            "1    Songs/RepeatedPopularChorus/Olivia Rodrigo - g...           1.025965   \n",
            "2    Songs/RepeatedPopularChorus/Olivia Rodrigo - d...           1.395750   \n",
            "3    Songs/RepeatedPopularChorus/Lil Nas X - MONTER...           0.926616   \n",
            "4    Songs/RepeatedPopularChorus/BTS (방탄소년단) 'Butte...           0.311976   \n",
            "..                                                 ...                ...   \n",
            "746  Unpopular/RepeatedUnpopularChorus/Gwen Stefani...           0.257423   \n",
            "747  Unpopular/RepeatedUnpopularChorus/Gwen Stefani...          -0.020788   \n",
            "748  Unpopular/RepeatedUnpopularChorus/Rihanna - If...           0.560998   \n",
            "749  Unpopular/RepeatedUnpopularChorus/Alicia Keys ...           0.412242   \n",
            "750  Unpopular/RepeatedUnpopularChorus/Rascal Flatt...           1.654606   \n",
            "\n",
            "     chroma_stft_min_0  chroma_stft_max_0  chroma_stft_std_0  \\\n",
            "0             0.049545                1.0           0.306971   \n",
            "1             0.007265                1.0           0.274179   \n",
            "2             0.000648                1.0           0.307888   \n",
            "3             0.003467                1.0           0.242382   \n",
            "4             0.037900                1.0           0.336300   \n",
            "..                 ...                ...                ...   \n",
            "746           0.023126                1.0           0.312051   \n",
            "747           0.013594                1.0           0.327147   \n",
            "748           0.000398                1.0           0.302554   \n",
            "749           0.028240                1.0           0.291556   \n",
            "750           0.007226                1.0           0.226309   \n",
            "\n",
            "     chroma_stft_mean_0  ...  tonnetz_mean_5  tonnetz_median_5  \\\n",
            "0              0.570429  ...        0.007217         -0.000351   \n",
            "1              0.350277  ...       -0.011851         -0.010293   \n",
            "2              0.236975  ...        0.001545         -0.009260   \n",
            "3              0.301311  ...       -0.014834         -0.023444   \n",
            "4              0.517165  ...        0.005743          0.005232   \n",
            "..                  ...  ...             ...               ...   \n",
            "746            0.498186  ...       -0.029707         -0.026805   \n",
            "747            0.570372  ...        0.002858          0.007586   \n",
            "748            0.458398  ...        0.004888          0.000771   \n",
            "749            0.489242  ...        0.017730         -0.001053   \n",
            "750            0.212402  ...        0.031773          0.016269   \n",
            "\n",
            "     tonnetz_kurtosis_5  zero_crossing_rate_kew_0  zero_crossing_rate_min_0  \\\n",
            "0             -0.410349                 -0.604349                  0.022585   \n",
            "1              0.099909                 -0.233246                  0.057460   \n",
            "2              0.360879                  0.742759                  0.023492   \n",
            "3              0.456362                  0.524002                  0.051111   \n",
            "4             -0.153372                  2.700198                  0.046848   \n",
            "..                  ...                       ...                       ...   \n",
            "746            0.892997                  1.622096                  0.057732   \n",
            "747            0.429635                  1.686463                  0.045261   \n",
            "748           -0.075453                  0.344456                  0.025941   \n",
            "749            1.118338                  0.823857                  0.010113   \n",
            "750           -0.560244                  1.163344                  0.022177   \n",
            "\n",
            "     zero_crossing_rate_max_0  zero_crossing_rate_std_0  \\\n",
            "0                    0.102132                  0.017701   \n",
            "1                    0.229705                  0.035304   \n",
            "2                    0.178957                  0.032571   \n",
            "3                    0.277596                  0.045581   \n",
            "4                    0.235737                  0.030815   \n",
            "..                        ...                       ...   \n",
            "746                  0.331247                  0.044447   \n",
            "747                  0.415374                  0.070371   \n",
            "748                  0.214603                  0.035465   \n",
            "749                  0.067619                  0.012221   \n",
            "750                  0.128571                  0.024907   \n",
            "\n",
            "     zero_crossing_rate_mean_0  zero_crossing_rate_median_0  \\\n",
            "0                     0.072071                     0.074626   \n",
            "1                     0.147578                     0.157302   \n",
            "2                     0.077563                     0.066463   \n",
            "3                     0.147997                     0.142472   \n",
            "4                     0.097298                     0.090204   \n",
            "..                         ...                          ...   \n",
            "746                   0.155034                     0.142721   \n",
            "747                   0.156106                     0.137642   \n",
            "748                   0.114828                     0.112834   \n",
            "749                   0.029605                     0.029252   \n",
            "750                   0.057123                     0.050000   \n",
            "\n",
            "     zero_crossing_rate_kurtosis_0  \n",
            "0                         0.012681  \n",
            "1                        -0.281870  \n",
            "2                        -0.180427  \n",
            "3                        -0.344706  \n",
            "4                         7.939578  \n",
            "..                             ...  \n",
            "746                       3.141514  \n",
            "747                       3.006131  \n",
            "748                       0.024774  \n",
            "749                       0.587163  \n",
            "750                       0.813294  \n",
            "\n",
            "[751 rows x 523 columns]\n"
          ]
        }
      ]
    },
    {
      "cell_type": "code",
      "source": [
        "import sklearn\n",
        "from sklearn.datasets import load_boston\n",
        "import pandas as pd\n",
        "import matplotlib.pyplot as plt\n",
        "#from google.colab import files\n",
        "#uploaded = files.upload()\n",
        "#import io\n",
        "#df = pd.read_csv(io.BytesIO(uploaded['Final Data.csv']))\n",
        "df.head()"
      ],
      "metadata": {
        "colab": {
          "base_uri": "https://localhost:8080/",
          "height": 206
        },
        "id": "QvHV9dCLYArT",
        "outputId": "d24a1402-64f4-442f-adef-b50f89586791"
      },
      "execution_count": null,
      "outputs": [
        {
          "output_type": "execute_result",
          "data": {
            "text/plain": [
              "   chroma_cqt_kew_1\n",
              "0          0.792314\n",
              "1          0.650982\n",
              "2          3.400486\n",
              "3          0.779224\n",
              "4         -0.541300"
            ],
            "text/html": [
              "\n",
              "  <div id=\"df-62da69c0-76eb-478a-a5a8-67837c2c60a6\">\n",
              "    <div class=\"colab-df-container\">\n",
              "      <div>\n",
              "<style scoped>\n",
              "    .dataframe tbody tr th:only-of-type {\n",
              "        vertical-align: middle;\n",
              "    }\n",
              "\n",
              "    .dataframe tbody tr th {\n",
              "        vertical-align: top;\n",
              "    }\n",
              "\n",
              "    .dataframe thead th {\n",
              "        text-align: right;\n",
              "    }\n",
              "</style>\n",
              "<table border=\"1\" class=\"dataframe\">\n",
              "  <thead>\n",
              "    <tr style=\"text-align: right;\">\n",
              "      <th></th>\n",
              "      <th>chroma_cqt_kew_1</th>\n",
              "    </tr>\n",
              "  </thead>\n",
              "  <tbody>\n",
              "    <tr>\n",
              "      <th>0</th>\n",
              "      <td>0.792314</td>\n",
              "    </tr>\n",
              "    <tr>\n",
              "      <th>1</th>\n",
              "      <td>0.650982</td>\n",
              "    </tr>\n",
              "    <tr>\n",
              "      <th>2</th>\n",
              "      <td>3.400486</td>\n",
              "    </tr>\n",
              "    <tr>\n",
              "      <th>3</th>\n",
              "      <td>0.779224</td>\n",
              "    </tr>\n",
              "    <tr>\n",
              "      <th>4</th>\n",
              "      <td>-0.541300</td>\n",
              "    </tr>\n",
              "  </tbody>\n",
              "</table>\n",
              "</div>\n",
              "      <button class=\"colab-df-convert\" onclick=\"convertToInteractive('df-62da69c0-76eb-478a-a5a8-67837c2c60a6')\"\n",
              "              title=\"Convert this dataframe to an interactive table.\"\n",
              "              style=\"display:none;\">\n",
              "        \n",
              "  <svg xmlns=\"http://www.w3.org/2000/svg\" height=\"24px\"viewBox=\"0 0 24 24\"\n",
              "       width=\"24px\">\n",
              "    <path d=\"M0 0h24v24H0V0z\" fill=\"none\"/>\n",
              "    <path d=\"M18.56 5.44l.94 2.06.94-2.06 2.06-.94-2.06-.94-.94-2.06-.94 2.06-2.06.94zm-11 1L8.5 8.5l.94-2.06 2.06-.94-2.06-.94L8.5 2.5l-.94 2.06-2.06.94zm10 10l.94 2.06.94-2.06 2.06-.94-2.06-.94-.94-2.06-.94 2.06-2.06.94z\"/><path d=\"M17.41 7.96l-1.37-1.37c-.4-.4-.92-.59-1.43-.59-.52 0-1.04.2-1.43.59L10.3 9.45l-7.72 7.72c-.78.78-.78 2.05 0 2.83L4 21.41c.39.39.9.59 1.41.59.51 0 1.02-.2 1.41-.59l7.78-7.78 2.81-2.81c.8-.78.8-2.07 0-2.86zM5.41 20L4 18.59l7.72-7.72 1.47 1.35L5.41 20z\"/>\n",
              "  </svg>\n",
              "      </button>\n",
              "      \n",
              "  <style>\n",
              "    .colab-df-container {\n",
              "      display:flex;\n",
              "      flex-wrap:wrap;\n",
              "      gap: 12px;\n",
              "    }\n",
              "\n",
              "    .colab-df-convert {\n",
              "      background-color: #E8F0FE;\n",
              "      border: none;\n",
              "      border-radius: 50%;\n",
              "      cursor: pointer;\n",
              "      display: none;\n",
              "      fill: #1967D2;\n",
              "      height: 32px;\n",
              "      padding: 0 0 0 0;\n",
              "      width: 32px;\n",
              "    }\n",
              "\n",
              "    .colab-df-convert:hover {\n",
              "      background-color: #E2EBFA;\n",
              "      box-shadow: 0px 1px 2px rgba(60, 64, 67, 0.3), 0px 1px 3px 1px rgba(60, 64, 67, 0.15);\n",
              "      fill: #174EA6;\n",
              "    }\n",
              "\n",
              "    [theme=dark] .colab-df-convert {\n",
              "      background-color: #3B4455;\n",
              "      fill: #D2E3FC;\n",
              "    }\n",
              "\n",
              "    [theme=dark] .colab-df-convert:hover {\n",
              "      background-color: #434B5C;\n",
              "      box-shadow: 0px 1px 3px 1px rgba(0, 0, 0, 0.15);\n",
              "      filter: drop-shadow(0px 1px 2px rgba(0, 0, 0, 0.3));\n",
              "      fill: #FFFFFF;\n",
              "    }\n",
              "  </style>\n",
              "\n",
              "      <script>\n",
              "        const buttonEl =\n",
              "          document.querySelector('#df-62da69c0-76eb-478a-a5a8-67837c2c60a6 button.colab-df-convert');\n",
              "        buttonEl.style.display =\n",
              "          google.colab.kernel.accessAllowed ? 'block' : 'none';\n",
              "\n",
              "        async function convertToInteractive(key) {\n",
              "          const element = document.querySelector('#df-62da69c0-76eb-478a-a5a8-67837c2c60a6');\n",
              "          const dataTable =\n",
              "            await google.colab.kernel.invokeFunction('convertToInteractive',\n",
              "                                                     [key], {});\n",
              "          if (!dataTable) return;\n",
              "\n",
              "          const docLinkHtml = 'Like what you see? Visit the ' +\n",
              "            '<a target=\"_blank\" href=https://colab.research.google.com/notebooks/data_table.ipynb>data table notebook</a>'\n",
              "            + ' to learn more about interactive tables.';\n",
              "          element.innerHTML = '';\n",
              "          dataTable['output_type'] = 'display_data';\n",
              "          await google.colab.output.renderOutput(dataTable, element);\n",
              "          const docLink = document.createElement('div');\n",
              "          docLink.innerHTML = docLinkHtml;\n",
              "          element.appendChild(docLink);\n",
              "        }\n",
              "      </script>\n",
              "    </div>\n",
              "  </div>\n",
              "  "
            ]
          },
          "metadata": {},
          "execution_count": 23
        }
      ]
    },
    {
      "cell_type": "code",
      "source": [
        "import plotly.express as px\n",
        "fig = px.histogram(df, x='chroma_cqt_kew_1')\n",
        "fig.show()"
      ],
      "metadata": {
        "colab": {
          "base_uri": "https://localhost:8080/",
          "height": 542
        },
        "id": "AoyKK7QcTMhp",
        "outputId": "ba8c8f7d-22b5-44c0-f5d0-57f1ec07ad9f"
      },
      "execution_count": null,
      "outputs": [
        {
          "output_type": "display_data",
          "data": {
            "text/html": [
              "<html>\n",
              "<head><meta charset=\"utf-8\" /></head>\n",
              "<body>\n",
              "    <div>            <script src=\"https://cdnjs.cloudflare.com/ajax/libs/mathjax/2.7.5/MathJax.js?config=TeX-AMS-MML_SVG\"></script><script type=\"text/javascript\">if (window.MathJax) {MathJax.Hub.Config({SVG: {font: \"STIX-Web\"}});}</script>                <script type=\"text/javascript\">window.PlotlyConfig = {MathJaxConfig: 'local'};</script>\n",
              "        <script src=\"https://cdn.plot.ly/plotly-2.8.3.min.js\"></script>                <div id=\"76ec95ea-d44a-49ec-aa5f-7ca9e69193eb\" class=\"plotly-graph-div\" style=\"height:525px; width:100%;\"></div>            <script type=\"text/javascript\">                                    window.PLOTLYENV=window.PLOTLYENV || {};                                    if (document.getElementById(\"76ec95ea-d44a-49ec-aa5f-7ca9e69193eb\")) {                    Plotly.newPlot(                        \"76ec95ea-d44a-49ec-aa5f-7ca9e69193eb\",                        [{\"alignmentgroup\":\"True\",\"bingroup\":\"x\",\"hovertemplate\":\"chroma_cqt_kew_1=%{x}<br>count=%{y}<extra></extra>\",\"legendgroup\":\"\",\"marker\":{\"color\":\"#636efa\",\"pattern\":{\"shape\":\"\"}},\"name\":\"\",\"offsetgroup\":\"\",\"orientation\":\"v\",\"showlegend\":false,\"x\":[0.7923136353492737,0.6509819030761719,3.4004855155944824,0.7792240381240845,-0.5412996411323547,0.0798237919807434,-0.1789656430482864,0.5943660140037537,0.9997856020927428,1.341163158416748,0.5740907192230225,1.220011591911316,1.2401223182678225,-0.0113199148327112,1.1442153453826904,0.1795747131109237,1.2291637659072876,1.1536402702331543,-0.0007210772600956,0.3931109011173248,1.0670841932296753,-0.4623704254627228,2.5292484760284424,0.6310948729515076,0.1505786627531051,1.5499669313430786,0.0305529925972223,0.4797570705413818,1.5614458322525024,-0.073783628642559,0.1724201291799545,1.2715730667114258,1.655134677886963,0.0189740397036075,0.7326000928878784,0.6288981437683105,1.0978537797927856,-0.3744263052940368,0.7667383551597595,0.3265063464641571,0.7062579393386841,0.3378451466560364,0.8365467190742493,0.6449950933456421,0.9653325080871582,1.005041480064392,0.3991498649120331,0.6940499544143677,0.3015485405921936,0.6823639869689941,0.6569843888282776,0.3094260096549988,-0.7436394095420837,0.6535088419914246,0.7099183797836304,0.1879616975784301,0.7745927572250366,0.35489621758461,1.0199508666992188,0.2410587519407272,0.0757466480135917,1.302141547203064,-0.2011918127536773,-0.5177361965179443,0.5370334982872009,-0.0253877434879541,0.4944920837879181,1.3516210317611694,-0.5853450298309326,2.0806362628936768,0.7952808141708374,0.8095116019248962,-1.5394521951675415,1.5429644584655762,-0.0557210147380828,0.9820337891578674,1.6294466257095337,0.7226229906082153,0.4132959842681885,0.7227542400360107,0.3819446861743927,0.2329599261283874,1.7087472677230835,1.5621521472930908,1.528669357299805,0.4439138770103454,0.0425515063107013,0.1278204470872879,0.0178656931966543,1.0218653678894043,0.4117973148822784,1.181690692901611,-0.7046407461166382,1.4611953496932983,0.5535537600517273,0.6288063526153564,1.0378551483154297,0.978080153465271,-1.1759319305419922,0.7322782278060913,0.1903737336397171,0.7864210605621338,0.9083614349365234,1.222653865814209,0.8031582236289978,1.3196126222610474,0.3543863296508789,0.6362778544425964,0.9183751344680786,0.5637928247451782,0.5673109889030457,0.2119742184877395,1.3839010000228882,0.806726336479187,1.126577615737915,0.4410927593708038,-0.1871086359024047,0.1147141978144645,1.1038103103637695,0.9408077001571656,0.9693151712417604,0.3722080588340759,0.7819856405258179,2.077977180480957,-0.2043685019016266,0.5256437063217163,0.4883130192756653,-0.498630940914154,1.2522034645080566,0.5154585838317871,0.9897469878196716,0.2284527122974395,-0.0870943218469619,-0.1503999084234237,0.7405723929405212,0.1714776456356048,0.6553028225898743,0.3860161900520324,1.5814332962036133,-0.9032273292541504,0.7027100920677185,0.8579543232917786,0.0549058057367801,0.4835405051708221,1.9027137756347656,0.2031414359807968,0.7886236310005188,-0.3743577003479004,0.5684357285499573,2.019318103790283,0.5690469741821289,0.4539907276630401,0.8874877095222473,0.4866267144680023,0.7970729470252991,0.5817899703979492,0.9544016122817992,0.1911696642637252,0.7536727786064148,1.0084646940231323,1.405776858329773,-0.4773766696453094,1.1111294031143188,1.1155726909637451,0.3633277416229248,1.2171475887298584,-0.0994640067219734,0.4057609140872955,0.8018306493759155,0.5811588764190674,0.6593000292778015,1.752963662147522,0.8780084848403931,0.85798180103302,0.4651696979999542,0.5874466300010681,0.033533688634634,0.998781442642212,1.5751184225082395,0.2734566926956177,2.8994033336639404,2.52497673034668,-0.3759814798831939,0.6570911407470703,0.361906498670578,0.075843870639801,1.3436176776885986,0.4215159118175506,0.3053002953529358,0.9314258694648744,0.2823397815227508,0.5497323870658875,0.381905198097229,-0.0688745826482772,0.3027246594429016,0.1076144278049469,-0.0425243005156517,1.07018780708313,-0.7707802653312683,0.13694529235363,1.1662112474441528,0.8840473294258118,1.0116184949874878,0.2346832603216171,1.0138726234436035,0.8970298767089844,0.6841219663619995,1.325641632080078,0.6201001405715942,0.5801008939743042,0.5186558365821838,0.9122852087020874,1.5112396478652954,1.3181439638137815,0.8057969808578491,0.8840216398239136,1.2188864946365356,1.2118537425994873,0.6778544783592224,0.2907057106494903,-0.0138889113441109,0.901578724384308,0.7831183671951294,0.3393530249595642,1.8852721452713013,0.6526184678077698,0.1212188675999641,0.7028779983520508,0.6768580079078674,0.1880883276462555,0.4314517080783844,0.5050066709518433,1.0173561573028564,0.3930624127388,0.5838505625724792,0.1862353235483169,0.3297200798988342,0.8488562107086182,0.2631920874118805,-0.2981662452220917,0.5440270900726318,0.8172554969787598,0.2036998718976974,0.2070787400007248,0.364821046590805,0.807437539100647,-0.443326860666275,0.3254867792129516,-0.313971996307373,-0.8521365523338318,1.0879617929458618,0.2718732953071594,0.5054131150245667,0.7287371754646301,0.0045531713403761,-0.253214418888092,0.7373095750808716,-0.2202762216329574,-0.0321065485477447,-0.4124526977539062,0.5649182796478271,0.458298921585083,0.7932772040367126,1.029266119003296,1.2177903652191162,0.7089401483535767,0.5746892690658569,0.8608754277229309,0.8920245170593262,0.4743251502513885,0.4206287562847137,1.3109887838363647,1.5649526119232178,0.6870629787445068,0.6368147730827332,0.4453354775905609,-1.2164552211761477,0.971495807170868,0.9464009404182434,-0.345263123512268,0.5957831740379333,0.9069074392318726,0.6606274247169495,0.509415328502655,0.4931467473506927,-0.4074053168296814,-0.485679417848587,0.6359314918518066,-3.6804707050323486,0.3946343064308166,0.8112772107124329,0.0923516824841499,0.046570461243391,0.6921263933181763,0.6097443103790283,0.9973093271255492,0.8772805333137512,0.7223882079124451,0.6509231925010681,2.055013656616211,1.0708823204040527,0.5274088382720947,0.5940155982971191,1.1435973644256592,1.4571561813354492,0.3872720003128052,0.5512943267822266,0.512381911277771,0.9041427969932556,1.0855097770690918,-0.8270732760429382,0.6108561158180237,-1.2972174882888794,-0.0180398505181074,0.8073248863220215,1.6755276918411257,1.507869839668274,1.1729320287704468,0.7026340961456299,0.5438436269760132,0.8024978637695312,-0.8000067472457886,1.1818102598190308,0.4284583330154419,1.283448576927185,-0.2170712500810623,-0.5387130379676819,-0.4101155996322632,0.4525831937789917,-0.0835978016257286,0.8304299712181091,0.6870201826095581,0.8746368885040283,0.1818920820951461,1.0115514993667605,0.886639416217804,1.3456233739852903,0.0628459006547927,1.4779531955718994,-0.0110992491245269,-0.1286969929933548,1.0025078058242798,0.8976141810417175,1.1729809045791626,-1.1186426877975464,0.0502448230981826,-0.3169090747833252,1.3669779300689695,0.6166951656341553,0.3697672486305237,0.3251460790634155,0.2363784909248352,0.4101707339286804,0.7997399568557739,0.6347305178642273,0.5191258788108826,0.9257586002349854,0.9141896963119508,0.3096922934055328,0.5972623825073242,1.0099769830703735,1.0773582458496094,0.7524707317352295,0.4780861139297485,0.2129771113395691,0.0220252536237239,0.6328889727592468,0.8251479268074036,-0.3292220532894134,0.2116448432207107,1.8764907121658323,0.3884592056274414,0.4392427504062652,1.004988670349121,1.100033164024353,2.417316198348999,0.8210569620132446,0.0065064332447946,-0.3455725312232971,2.037737846374512,2.138905763626098,0.576011598110199,0.9834423065185548,3.6081383228302,0.2250420749187469,0.3555980622768402,0.4315623641014099,0.8036341667175293,-4.280035495758057,0.4857805669307709,1.1657804250717163,1.3574703931808472,0.8725575804710388,1.0011353492736816,-0.1313866376876831,0.6702659726142883,0.6032491326332092,1.1481168270111084,1.174630045890808,1.707953691482544,1.529868245124817,-0.225817009806633,0.2133560478687286,0.6971350908279419,0.6741033792495728,0.4103225469589233,0.6419731974601746,1.3368632793426514,0.9763270616531372,0.8462408781051636,0.5045866966247559,2.984957218170166,0.4493414759635925,1.5467361211776731,0.7562158703804016,0.3210514783859253,-0.34076789021492,0.3031922578811645,1.066757082939148,1.5588014125823977,0.3123227953910827,0.2003829479217529,0.5772581696510315,0.5211972594261169,0.3393616676330566,0.8512067794799805,1.3995139598846436,1.127050757408142,1.083056926727295,1.331355094909668,1.4219344854354858,-0.1759774833917617,-0.0596479251980781,0.6574891209602356,0.4056950211524963,1.238393783569336,0.7762980461120605,1.4299116134643557,-0.1696770638227462,-0.070509985089302,0.2577187120914459,2.198544979095459,0.2890055775642395,1.1582658290863037,1.382880687713623,0.7179579138755798,0.6252312660217285,1.0912415981292725,1.2815284729003906,2.035555601119995,1.1096173524856567,0.8204702138900757,0.536319375038147,0.5395215749740601,0.3609133660793304,-0.0163297466933727,-0.0045218584127724,0.7189401984214783,0.6716063022613525,0.6693133115768433,0.7991370558738708,0.1904382854700088,1.0926798582077026,0.7273393273353577,0.8687506914138794,-0.1291019469499588,0.2618552446365356,-0.7868000864982605,0.4496935606002807,0.0011850123992189,1.6036254167556765,0.6941474080085754,1.5128179788589478,2.09006667137146,0.598155677318573,0.8151127696037292,0.3951155245304107,-0.3593150377273559,0.7877657413482666,0.9544703364372252,3.0738821029663086,1.40350341796875,1.316339373588562,-0.1474080085754394,0.2006975561380386,0.8571538925170898,0.7268635630607605,0.680569052696228,1.0122020244598389,0.4262318909168243,-0.548574686050415,-1.889846920967102,2.1261537075042725,-0.1265887469053268,0.2183935344219207,0.4700178802013397,0.7689144611358643,0.1889287680387497,-1.1325515508651731,0.4006820619106293,0.6828986406326294,0.5637420415878296,0.1147276014089584,0.6575772166252136,0.9206324219703674,0.6543039083480835,-1.2567169666290283,0.9199458956718444,0.3892278373241424,0.2518643140792846,0.0617417581379413,0.3660508394241333,0.5169002413749695,0.3047834932804107,-0.4451168775558471,0.7762153744697571,0.6983519792556763,-0.6343443393707275,0.1184045374393463,1.0121829509735107,0.0767793133854866,-0.7795543074607849,0.9883665442466736,0.7404425144195557,0.5896614789962769,-0.2445885390043258,0.6929038763046265,0.6095768809318542,-0.399911493062973,0.511210560798645,-0.0608653202652931,1.0340980291366575,1.81842303276062,0.516045331954956,1.9573712348937988,0.3568523526191711,1.714807629585266,-0.6857926249504089,0.6147092580795288,0.3117763102054596,2.2334563732147217,0.3559570908546448,0.907610297203064,0.6205823421478271,0.543626606464386,1.765831470489502,2.65330171585083,2.396920680999756,0.5049446821212769,-0.2461722940206527,-0.2469872683286667,1.532912015914917,0.852562665939331,0.9599109292030334,1.951136589050293,0.4375348389148712,0.6220915913581848,0.3088925778865814,0.8019334673881531,0.6759963035583496,0.8520339131355286,1.5274115800857544,-0.0481642372906208,0.5923580527305603,1.3029102087020874,1.3608486652374268,-0.7912012338638306,0.5502655506134033,1.3874210119247437,1.136845946311951,0.3262393474578857,0.7489511370658875,1.5481467247009275,0.6352397799491882,0.3791437149047851,1.2642496824264526,-0.1866454929113388,-0.0795295014977455,-0.5993806719779968,0.8436572551727295,0.5421280264854431,0.084072008728981,0.829844057559967,0.8609160780906677,0.7843860983848572,0.6616056561470032,1.18731951713562,0.605999767780304,1.5604575872421265,0.4152666926383972,-0.7105251550674438,0.9715907573699952,-0.8103148937225342,1.1321806907653809,0.4234907031059265,0.9651274681091307,0.6819308400154114,0.190247505903244,0.2800985276699066,1.0041157007217407,0.2231750786304474,0.9152365922927856,2.2139551639556885,-0.0371388010680675,0.3208150267601013,0.7440462112426758,1.216957688331604,0.2236018031835556,0.6516628861427307,-0.1924761682748794,0.5384947657585144,0.5468371510505676,0.6359977126121521,0.4315672218799591,0.7479709386825562,-0.4268792569637298,1.0043376684188845,0.3451591432094574,2.5161640644073486,0.2106795012950897,0.0737185254693031,1.0065953731536863,0.4156534075736999,1.3319616317749023,1.352449655532837,0.4255757331848144,0.7278589606285095,-0.1007985025644302,0.4806022942066192,1.073702335357666,0.2171953618526458,0.9150730967521667,0.0899695828557014,1.228525996208191,-0.4453806579113006,1.1900243759155271,0.8358262181282043,-0.0386092476546764,1.612670660018921,0.6456218957901001,0.5864481329917908,1.9903990030288696,0.7158755660057068,0.2406598627567291,1.3103772401809692,0.081810250878334,0.6149045825004578,0.8016307353973389,0.9388645887374878,0.5155360102653503,0.0150108374655246,0.5232118368148804,0.9334787130355836,0.3745550811290741,-0.510955274105072,1.0410616397857666,0.7931622266769409,0.7911528944969177,0.656258225440979,0.7351144552230835,0.5275510549545288,0.3328481614589691,1.6270420551300049,1.0618362426757812,-0.2807145714759826,0.3085509538650512,1.670967698097229,0.6092777848243713,0.8082031607627869,0.6093751788139343,0.5735786557197571,0.6378139853477478,1.232396364212036,0.7995401620864868,0.8842580318450928,0.6358645558357239,0.0617857165634632,1.1417170763015747,-0.3305188119411468,0.6792573928833008,-0.4269841313362121,0.7437524199485779,0.4997989535331726,2.343200206756592,-0.1152383908629417,-0.1406619399785995,-0.9824910163879396,0.6502410769462585,0.0559424981474876,-0.1652235984802246,-0.0446961596608161,0.9810031056404114,2.163588285446167,0.6840659379959106,0.7309812903404236,0.0981222614645958,0.439193844795227,0.0522210150957107,0.8242871165275574,0.618526816368103,1.0874594449996948,0.7527368664741516,0.8575783967971802,0.8397210836410522,1.354055881500244,0.4650892913341522,0.9245087504386902,0.1636625081300735,-0.3700196743011474,0.9520553350448608,0.2223847806453704,1.0452293157577517,0.6367640495300293,0.6250157356262207,0.7567694783210754,1.704614758491516,0.5730170011520386,1.3318058252334597,0.7461206912994385,0.9457936882972716,0.6300926804542542,-0.1246178299188613,1.359041452407837,0.9438412189483644,0.7765628695487976,0.7238292694091797,1.5750311613082886,0.3353807330131531,-0.3288478851318359,0.283261239528656,0.7390002608299255,1.103122591972351,0.1516769975423813,0.8478077054023743,1.258067607879639,0.6488043069839478,1.0544562339782717,0.227705180644989,0.9426540732383728,1.5324976444244385,0.9395614862442015,0.5163214802742004,0.9114528298377992,0.4801061153411865,0.9183536767959596,1.968539357185364,0.5977928638458252,0.8137461543083191,-0.0050582983531057,0.8475319147109985,2.005507707595825],\"xaxis\":\"x\",\"yaxis\":\"y\",\"type\":\"histogram\"}],                        {\"template\":{\"data\":{\"bar\":[{\"error_x\":{\"color\":\"#2a3f5f\"},\"error_y\":{\"color\":\"#2a3f5f\"},\"marker\":{\"line\":{\"color\":\"#E5ECF6\",\"width\":0.5},\"pattern\":{\"fillmode\":\"overlay\",\"size\":10,\"solidity\":0.2}},\"type\":\"bar\"}],\"barpolar\":[{\"marker\":{\"line\":{\"color\":\"#E5ECF6\",\"width\":0.5},\"pattern\":{\"fillmode\":\"overlay\",\"size\":10,\"solidity\":0.2}},\"type\":\"barpolar\"}],\"carpet\":[{\"aaxis\":{\"endlinecolor\":\"#2a3f5f\",\"gridcolor\":\"white\",\"linecolor\":\"white\",\"minorgridcolor\":\"white\",\"startlinecolor\":\"#2a3f5f\"},\"baxis\":{\"endlinecolor\":\"#2a3f5f\",\"gridcolor\":\"white\",\"linecolor\":\"white\",\"minorgridcolor\":\"white\",\"startlinecolor\":\"#2a3f5f\"},\"type\":\"carpet\"}],\"choropleth\":[{\"colorbar\":{\"outlinewidth\":0,\"ticks\":\"\"},\"type\":\"choropleth\"}],\"contour\":[{\"colorbar\":{\"outlinewidth\":0,\"ticks\":\"\"},\"colorscale\":[[0.0,\"#0d0887\"],[0.1111111111111111,\"#46039f\"],[0.2222222222222222,\"#7201a8\"],[0.3333333333333333,\"#9c179e\"],[0.4444444444444444,\"#bd3786\"],[0.5555555555555556,\"#d8576b\"],[0.6666666666666666,\"#ed7953\"],[0.7777777777777778,\"#fb9f3a\"],[0.8888888888888888,\"#fdca26\"],[1.0,\"#f0f921\"]],\"type\":\"contour\"}],\"contourcarpet\":[{\"colorbar\":{\"outlinewidth\":0,\"ticks\":\"\"},\"type\":\"contourcarpet\"}],\"heatmap\":[{\"colorbar\":{\"outlinewidth\":0,\"ticks\":\"\"},\"colorscale\":[[0.0,\"#0d0887\"],[0.1111111111111111,\"#46039f\"],[0.2222222222222222,\"#7201a8\"],[0.3333333333333333,\"#9c179e\"],[0.4444444444444444,\"#bd3786\"],[0.5555555555555556,\"#d8576b\"],[0.6666666666666666,\"#ed7953\"],[0.7777777777777778,\"#fb9f3a\"],[0.8888888888888888,\"#fdca26\"],[1.0,\"#f0f921\"]],\"type\":\"heatmap\"}],\"heatmapgl\":[{\"colorbar\":{\"outlinewidth\":0,\"ticks\":\"\"},\"colorscale\":[[0.0,\"#0d0887\"],[0.1111111111111111,\"#46039f\"],[0.2222222222222222,\"#7201a8\"],[0.3333333333333333,\"#9c179e\"],[0.4444444444444444,\"#bd3786\"],[0.5555555555555556,\"#d8576b\"],[0.6666666666666666,\"#ed7953\"],[0.7777777777777778,\"#fb9f3a\"],[0.8888888888888888,\"#fdca26\"],[1.0,\"#f0f921\"]],\"type\":\"heatmapgl\"}],\"histogram\":[{\"marker\":{\"pattern\":{\"fillmode\":\"overlay\",\"size\":10,\"solidity\":0.2}},\"type\":\"histogram\"}],\"histogram2d\":[{\"colorbar\":{\"outlinewidth\":0,\"ticks\":\"\"},\"colorscale\":[[0.0,\"#0d0887\"],[0.1111111111111111,\"#46039f\"],[0.2222222222222222,\"#7201a8\"],[0.3333333333333333,\"#9c179e\"],[0.4444444444444444,\"#bd3786\"],[0.5555555555555556,\"#d8576b\"],[0.6666666666666666,\"#ed7953\"],[0.7777777777777778,\"#fb9f3a\"],[0.8888888888888888,\"#fdca26\"],[1.0,\"#f0f921\"]],\"type\":\"histogram2d\"}],\"histogram2dcontour\":[{\"colorbar\":{\"outlinewidth\":0,\"ticks\":\"\"},\"colorscale\":[[0.0,\"#0d0887\"],[0.1111111111111111,\"#46039f\"],[0.2222222222222222,\"#7201a8\"],[0.3333333333333333,\"#9c179e\"],[0.4444444444444444,\"#bd3786\"],[0.5555555555555556,\"#d8576b\"],[0.6666666666666666,\"#ed7953\"],[0.7777777777777778,\"#fb9f3a\"],[0.8888888888888888,\"#fdca26\"],[1.0,\"#f0f921\"]],\"type\":\"histogram2dcontour\"}],\"mesh3d\":[{\"colorbar\":{\"outlinewidth\":0,\"ticks\":\"\"},\"type\":\"mesh3d\"}],\"parcoords\":[{\"line\":{\"colorbar\":{\"outlinewidth\":0,\"ticks\":\"\"}},\"type\":\"parcoords\"}],\"pie\":[{\"automargin\":true,\"type\":\"pie\"}],\"scatter\":[{\"marker\":{\"colorbar\":{\"outlinewidth\":0,\"ticks\":\"\"}},\"type\":\"scatter\"}],\"scatter3d\":[{\"line\":{\"colorbar\":{\"outlinewidth\":0,\"ticks\":\"\"}},\"marker\":{\"colorbar\":{\"outlinewidth\":0,\"ticks\":\"\"}},\"type\":\"scatter3d\"}],\"scattercarpet\":[{\"marker\":{\"colorbar\":{\"outlinewidth\":0,\"ticks\":\"\"}},\"type\":\"scattercarpet\"}],\"scattergeo\":[{\"marker\":{\"colorbar\":{\"outlinewidth\":0,\"ticks\":\"\"}},\"type\":\"scattergeo\"}],\"scattergl\":[{\"marker\":{\"colorbar\":{\"outlinewidth\":0,\"ticks\":\"\"}},\"type\":\"scattergl\"}],\"scattermapbox\":[{\"marker\":{\"colorbar\":{\"outlinewidth\":0,\"ticks\":\"\"}},\"type\":\"scattermapbox\"}],\"scatterpolar\":[{\"marker\":{\"colorbar\":{\"outlinewidth\":0,\"ticks\":\"\"}},\"type\":\"scatterpolar\"}],\"scatterpolargl\":[{\"marker\":{\"colorbar\":{\"outlinewidth\":0,\"ticks\":\"\"}},\"type\":\"scatterpolargl\"}],\"scatterternary\":[{\"marker\":{\"colorbar\":{\"outlinewidth\":0,\"ticks\":\"\"}},\"type\":\"scatterternary\"}],\"surface\":[{\"colorbar\":{\"outlinewidth\":0,\"ticks\":\"\"},\"colorscale\":[[0.0,\"#0d0887\"],[0.1111111111111111,\"#46039f\"],[0.2222222222222222,\"#7201a8\"],[0.3333333333333333,\"#9c179e\"],[0.4444444444444444,\"#bd3786\"],[0.5555555555555556,\"#d8576b\"],[0.6666666666666666,\"#ed7953\"],[0.7777777777777778,\"#fb9f3a\"],[0.8888888888888888,\"#fdca26\"],[1.0,\"#f0f921\"]],\"type\":\"surface\"}],\"table\":[{\"cells\":{\"fill\":{\"color\":\"#EBF0F8\"},\"line\":{\"color\":\"white\"}},\"header\":{\"fill\":{\"color\":\"#C8D4E3\"},\"line\":{\"color\":\"white\"}},\"type\":\"table\"}]},\"layout\":{\"annotationdefaults\":{\"arrowcolor\":\"#2a3f5f\",\"arrowhead\":0,\"arrowwidth\":1},\"autotypenumbers\":\"strict\",\"coloraxis\":{\"colorbar\":{\"outlinewidth\":0,\"ticks\":\"\"}},\"colorscale\":{\"diverging\":[[0,\"#8e0152\"],[0.1,\"#c51b7d\"],[0.2,\"#de77ae\"],[0.3,\"#f1b6da\"],[0.4,\"#fde0ef\"],[0.5,\"#f7f7f7\"],[0.6,\"#e6f5d0\"],[0.7,\"#b8e186\"],[0.8,\"#7fbc41\"],[0.9,\"#4d9221\"],[1,\"#276419\"]],\"sequential\":[[0.0,\"#0d0887\"],[0.1111111111111111,\"#46039f\"],[0.2222222222222222,\"#7201a8\"],[0.3333333333333333,\"#9c179e\"],[0.4444444444444444,\"#bd3786\"],[0.5555555555555556,\"#d8576b\"],[0.6666666666666666,\"#ed7953\"],[0.7777777777777778,\"#fb9f3a\"],[0.8888888888888888,\"#fdca26\"],[1.0,\"#f0f921\"]],\"sequentialminus\":[[0.0,\"#0d0887\"],[0.1111111111111111,\"#46039f\"],[0.2222222222222222,\"#7201a8\"],[0.3333333333333333,\"#9c179e\"],[0.4444444444444444,\"#bd3786\"],[0.5555555555555556,\"#d8576b\"],[0.6666666666666666,\"#ed7953\"],[0.7777777777777778,\"#fb9f3a\"],[0.8888888888888888,\"#fdca26\"],[1.0,\"#f0f921\"]]},\"colorway\":[\"#636efa\",\"#EF553B\",\"#00cc96\",\"#ab63fa\",\"#FFA15A\",\"#19d3f3\",\"#FF6692\",\"#B6E880\",\"#FF97FF\",\"#FECB52\"],\"font\":{\"color\":\"#2a3f5f\"},\"geo\":{\"bgcolor\":\"white\",\"lakecolor\":\"white\",\"landcolor\":\"#E5ECF6\",\"showlakes\":true,\"showland\":true,\"subunitcolor\":\"white\"},\"hoverlabel\":{\"align\":\"left\"},\"hovermode\":\"closest\",\"mapbox\":{\"style\":\"light\"},\"paper_bgcolor\":\"white\",\"plot_bgcolor\":\"#E5ECF6\",\"polar\":{\"angularaxis\":{\"gridcolor\":\"white\",\"linecolor\":\"white\",\"ticks\":\"\"},\"bgcolor\":\"#E5ECF6\",\"radialaxis\":{\"gridcolor\":\"white\",\"linecolor\":\"white\",\"ticks\":\"\"}},\"scene\":{\"xaxis\":{\"backgroundcolor\":\"#E5ECF6\",\"gridcolor\":\"white\",\"gridwidth\":2,\"linecolor\":\"white\",\"showbackground\":true,\"ticks\":\"\",\"zerolinecolor\":\"white\"},\"yaxis\":{\"backgroundcolor\":\"#E5ECF6\",\"gridcolor\":\"white\",\"gridwidth\":2,\"linecolor\":\"white\",\"showbackground\":true,\"ticks\":\"\",\"zerolinecolor\":\"white\"},\"zaxis\":{\"backgroundcolor\":\"#E5ECF6\",\"gridcolor\":\"white\",\"gridwidth\":2,\"linecolor\":\"white\",\"showbackground\":true,\"ticks\":\"\",\"zerolinecolor\":\"white\"}},\"shapedefaults\":{\"line\":{\"color\":\"#2a3f5f\"}},\"ternary\":{\"aaxis\":{\"gridcolor\":\"white\",\"linecolor\":\"white\",\"ticks\":\"\"},\"baxis\":{\"gridcolor\":\"white\",\"linecolor\":\"white\",\"ticks\":\"\"},\"bgcolor\":\"#E5ECF6\",\"caxis\":{\"gridcolor\":\"white\",\"linecolor\":\"white\",\"ticks\":\"\"}},\"title\":{\"x\":0.05},\"xaxis\":{\"automargin\":true,\"gridcolor\":\"white\",\"linecolor\":\"white\",\"ticks\":\"\",\"title\":{\"standoff\":15},\"zerolinecolor\":\"white\",\"zerolinewidth\":2},\"yaxis\":{\"automargin\":true,\"gridcolor\":\"white\",\"linecolor\":\"white\",\"ticks\":\"\",\"title\":{\"standoff\":15},\"zerolinecolor\":\"white\",\"zerolinewidth\":2}}},\"xaxis\":{\"anchor\":\"y\",\"domain\":[0.0,1.0],\"title\":{\"text\":\"chroma_cqt_kew_1\"}},\"yaxis\":{\"anchor\":\"x\",\"domain\":[0.0,1.0],\"title\":{\"text\":\"count\"}},\"legend\":{\"tracegroupgap\":0},\"margin\":{\"t\":60},\"barmode\":\"relative\"},                        {\"responsive\": true}                    ).then(function(){\n",
              "                            \n",
              "var gd = document.getElementById('76ec95ea-d44a-49ec-aa5f-7ca9e69193eb');\n",
              "var x = new MutationObserver(function (mutations, observer) {{\n",
              "        var display = window.getComputedStyle(gd).display;\n",
              "        if (!display || display === 'none') {{\n",
              "            console.log([gd, 'removed!']);\n",
              "            Plotly.purge(gd);\n",
              "            observer.disconnect();\n",
              "        }}\n",
              "}});\n",
              "\n",
              "// Listen for the removal of the full notebook cells\n",
              "var notebookContainer = gd.closest('#notebook-container');\n",
              "if (notebookContainer) {{\n",
              "    x.observe(notebookContainer, {childList: true});\n",
              "}}\n",
              "\n",
              "// Listen for the clearing of the current output cell\n",
              "var outputEl = gd.closest('.output');\n",
              "if (outputEl) {{\n",
              "    x.observe(outputEl, {childList: true});\n",
              "}}\n",
              "\n",
              "                        })                };                            </script>        </div>\n",
              "</body>\n",
              "</html>"
            ]
          },
          "metadata": {}
        }
      ]
    },
    {
      "cell_type": "code",
      "source": [
        "fig = px.box(df,y='chroma_cqt_kew_1')\n",
        "fig.show()"
      ],
      "metadata": {
        "colab": {
          "base_uri": "https://localhost:8080/",
          "height": 542
        },
        "id": "BjkfKPfwlCwh",
        "outputId": "29eb0fb3-c97f-4afc-9e43-a5716b393891"
      },
      "execution_count": null,
      "outputs": [
        {
          "output_type": "display_data",
          "data": {
            "text/html": [
              "<html>\n",
              "<head><meta charset=\"utf-8\" /></head>\n",
              "<body>\n",
              "    <div>            <script src=\"https://cdnjs.cloudflare.com/ajax/libs/mathjax/2.7.5/MathJax.js?config=TeX-AMS-MML_SVG\"></script><script type=\"text/javascript\">if (window.MathJax) {MathJax.Hub.Config({SVG: {font: \"STIX-Web\"}});}</script>                <script type=\"text/javascript\">window.PlotlyConfig = {MathJaxConfig: 'local'};</script>\n",
              "        <script src=\"https://cdn.plot.ly/plotly-2.8.3.min.js\"></script>                <div id=\"5d5e6364-bb47-44c3-a7eb-71aa44ab2ae9\" class=\"plotly-graph-div\" style=\"height:525px; width:100%;\"></div>            <script type=\"text/javascript\">                                    window.PLOTLYENV=window.PLOTLYENV || {};                                    if (document.getElementById(\"5d5e6364-bb47-44c3-a7eb-71aa44ab2ae9\")) {                    Plotly.newPlot(                        \"5d5e6364-bb47-44c3-a7eb-71aa44ab2ae9\",                        [{\"alignmentgroup\":\"True\",\"hovertemplate\":\"chroma_cqt_kew_1=%{y}<extra></extra>\",\"legendgroup\":\"\",\"marker\":{\"color\":\"#636efa\"},\"name\":\"\",\"notched\":false,\"offsetgroup\":\"\",\"orientation\":\"v\",\"showlegend\":false,\"x0\":\" \",\"xaxis\":\"x\",\"y\":[0.7923136353492737,0.6509819030761719,3.4004855155944824,0.7792240381240845,-0.5412996411323547,0.0798237919807434,-0.1789656430482864,0.5943660140037537,0.9997856020927428,1.341163158416748,0.5740907192230225,1.220011591911316,1.2401223182678225,-0.0113199148327112,1.1442153453826904,0.1795747131109237,1.2291637659072876,1.1536402702331543,-0.0007210772600956,0.3931109011173248,1.0670841932296753,-0.4623704254627228,2.5292484760284424,0.6310948729515076,0.1505786627531051,1.5499669313430786,0.0305529925972223,0.4797570705413818,1.5614458322525024,-0.073783628642559,0.1724201291799545,1.2715730667114258,1.655134677886963,0.0189740397036075,0.7326000928878784,0.6288981437683105,1.0978537797927856,-0.3744263052940368,0.7667383551597595,0.3265063464641571,0.7062579393386841,0.3378451466560364,0.8365467190742493,0.6449950933456421,0.9653325080871582,1.005041480064392,0.3991498649120331,0.6940499544143677,0.3015485405921936,0.6823639869689941,0.6569843888282776,0.3094260096549988,-0.7436394095420837,0.6535088419914246,0.7099183797836304,0.1879616975784301,0.7745927572250366,0.35489621758461,1.0199508666992188,0.2410587519407272,0.0757466480135917,1.302141547203064,-0.2011918127536773,-0.5177361965179443,0.5370334982872009,-0.0253877434879541,0.4944920837879181,1.3516210317611694,-0.5853450298309326,2.0806362628936768,0.7952808141708374,0.8095116019248962,-1.5394521951675415,1.5429644584655762,-0.0557210147380828,0.9820337891578674,1.6294466257095337,0.7226229906082153,0.4132959842681885,0.7227542400360107,0.3819446861743927,0.2329599261283874,1.7087472677230835,1.5621521472930908,1.528669357299805,0.4439138770103454,0.0425515063107013,0.1278204470872879,0.0178656931966543,1.0218653678894043,0.4117973148822784,1.181690692901611,-0.7046407461166382,1.4611953496932983,0.5535537600517273,0.6288063526153564,1.0378551483154297,0.978080153465271,-1.1759319305419922,0.7322782278060913,0.1903737336397171,0.7864210605621338,0.9083614349365234,1.222653865814209,0.8031582236289978,1.3196126222610474,0.3543863296508789,0.6362778544425964,0.9183751344680786,0.5637928247451782,0.5673109889030457,0.2119742184877395,1.3839010000228882,0.806726336479187,1.126577615737915,0.4410927593708038,-0.1871086359024047,0.1147141978144645,1.1038103103637695,0.9408077001571656,0.9693151712417604,0.3722080588340759,0.7819856405258179,2.077977180480957,-0.2043685019016266,0.5256437063217163,0.4883130192756653,-0.498630940914154,1.2522034645080566,0.5154585838317871,0.9897469878196716,0.2284527122974395,-0.0870943218469619,-0.1503999084234237,0.7405723929405212,0.1714776456356048,0.6553028225898743,0.3860161900520324,1.5814332962036133,-0.9032273292541504,0.7027100920677185,0.8579543232917786,0.0549058057367801,0.4835405051708221,1.9027137756347656,0.2031414359807968,0.7886236310005188,-0.3743577003479004,0.5684357285499573,2.019318103790283,0.5690469741821289,0.4539907276630401,0.8874877095222473,0.4866267144680023,0.7970729470252991,0.5817899703979492,0.9544016122817992,0.1911696642637252,0.7536727786064148,1.0084646940231323,1.405776858329773,-0.4773766696453094,1.1111294031143188,1.1155726909637451,0.3633277416229248,1.2171475887298584,-0.0994640067219734,0.4057609140872955,0.8018306493759155,0.5811588764190674,0.6593000292778015,1.752963662147522,0.8780084848403931,0.85798180103302,0.4651696979999542,0.5874466300010681,0.033533688634634,0.998781442642212,1.5751184225082395,0.2734566926956177,2.8994033336639404,2.52497673034668,-0.3759814798831939,0.6570911407470703,0.361906498670578,0.075843870639801,1.3436176776885986,0.4215159118175506,0.3053002953529358,0.9314258694648744,0.2823397815227508,0.5497323870658875,0.381905198097229,-0.0688745826482772,0.3027246594429016,0.1076144278049469,-0.0425243005156517,1.07018780708313,-0.7707802653312683,0.13694529235363,1.1662112474441528,0.8840473294258118,1.0116184949874878,0.2346832603216171,1.0138726234436035,0.8970298767089844,0.6841219663619995,1.325641632080078,0.6201001405715942,0.5801008939743042,0.5186558365821838,0.9122852087020874,1.5112396478652954,1.3181439638137815,0.8057969808578491,0.8840216398239136,1.2188864946365356,1.2118537425994873,0.6778544783592224,0.2907057106494903,-0.0138889113441109,0.901578724384308,0.7831183671951294,0.3393530249595642,1.8852721452713013,0.6526184678077698,0.1212188675999641,0.7028779983520508,0.6768580079078674,0.1880883276462555,0.4314517080783844,0.5050066709518433,1.0173561573028564,0.3930624127388,0.5838505625724792,0.1862353235483169,0.3297200798988342,0.8488562107086182,0.2631920874118805,-0.2981662452220917,0.5440270900726318,0.8172554969787598,0.2036998718976974,0.2070787400007248,0.364821046590805,0.807437539100647,-0.443326860666275,0.3254867792129516,-0.313971996307373,-0.8521365523338318,1.0879617929458618,0.2718732953071594,0.5054131150245667,0.7287371754646301,0.0045531713403761,-0.253214418888092,0.7373095750808716,-0.2202762216329574,-0.0321065485477447,-0.4124526977539062,0.5649182796478271,0.458298921585083,0.7932772040367126,1.029266119003296,1.2177903652191162,0.7089401483535767,0.5746892690658569,0.8608754277229309,0.8920245170593262,0.4743251502513885,0.4206287562847137,1.3109887838363647,1.5649526119232178,0.6870629787445068,0.6368147730827332,0.4453354775905609,-1.2164552211761477,0.971495807170868,0.9464009404182434,-0.345263123512268,0.5957831740379333,0.9069074392318726,0.6606274247169495,0.509415328502655,0.4931467473506927,-0.4074053168296814,-0.485679417848587,0.6359314918518066,-3.6804707050323486,0.3946343064308166,0.8112772107124329,0.0923516824841499,0.046570461243391,0.6921263933181763,0.6097443103790283,0.9973093271255492,0.8772805333137512,0.7223882079124451,0.6509231925010681,2.055013656616211,1.0708823204040527,0.5274088382720947,0.5940155982971191,1.1435973644256592,1.4571561813354492,0.3872720003128052,0.5512943267822266,0.512381911277771,0.9041427969932556,1.0855097770690918,-0.8270732760429382,0.6108561158180237,-1.2972174882888794,-0.0180398505181074,0.8073248863220215,1.6755276918411257,1.507869839668274,1.1729320287704468,0.7026340961456299,0.5438436269760132,0.8024978637695312,-0.8000067472457886,1.1818102598190308,0.4284583330154419,1.283448576927185,-0.2170712500810623,-0.5387130379676819,-0.4101155996322632,0.4525831937789917,-0.0835978016257286,0.8304299712181091,0.6870201826095581,0.8746368885040283,0.1818920820951461,1.0115514993667605,0.886639416217804,1.3456233739852903,0.0628459006547927,1.4779531955718994,-0.0110992491245269,-0.1286969929933548,1.0025078058242798,0.8976141810417175,1.1729809045791626,-1.1186426877975464,0.0502448230981826,-0.3169090747833252,1.3669779300689695,0.6166951656341553,0.3697672486305237,0.3251460790634155,0.2363784909248352,0.4101707339286804,0.7997399568557739,0.6347305178642273,0.5191258788108826,0.9257586002349854,0.9141896963119508,0.3096922934055328,0.5972623825073242,1.0099769830703735,1.0773582458496094,0.7524707317352295,0.4780861139297485,0.2129771113395691,0.0220252536237239,0.6328889727592468,0.8251479268074036,-0.3292220532894134,0.2116448432207107,1.8764907121658323,0.3884592056274414,0.4392427504062652,1.004988670349121,1.100033164024353,2.417316198348999,0.8210569620132446,0.0065064332447946,-0.3455725312232971,2.037737846374512,2.138905763626098,0.576011598110199,0.9834423065185548,3.6081383228302,0.2250420749187469,0.3555980622768402,0.4315623641014099,0.8036341667175293,-4.280035495758057,0.4857805669307709,1.1657804250717163,1.3574703931808472,0.8725575804710388,1.0011353492736816,-0.1313866376876831,0.6702659726142883,0.6032491326332092,1.1481168270111084,1.174630045890808,1.707953691482544,1.529868245124817,-0.225817009806633,0.2133560478687286,0.6971350908279419,0.6741033792495728,0.4103225469589233,0.6419731974601746,1.3368632793426514,0.9763270616531372,0.8462408781051636,0.5045866966247559,2.984957218170166,0.4493414759635925,1.5467361211776731,0.7562158703804016,0.3210514783859253,-0.34076789021492,0.3031922578811645,1.066757082939148,1.5588014125823977,0.3123227953910827,0.2003829479217529,0.5772581696510315,0.5211972594261169,0.3393616676330566,0.8512067794799805,1.3995139598846436,1.127050757408142,1.083056926727295,1.331355094909668,1.4219344854354858,-0.1759774833917617,-0.0596479251980781,0.6574891209602356,0.4056950211524963,1.238393783569336,0.7762980461120605,1.4299116134643557,-0.1696770638227462,-0.070509985089302,0.2577187120914459,2.198544979095459,0.2890055775642395,1.1582658290863037,1.382880687713623,0.7179579138755798,0.6252312660217285,1.0912415981292725,1.2815284729003906,2.035555601119995,1.1096173524856567,0.8204702138900757,0.536319375038147,0.5395215749740601,0.3609133660793304,-0.0163297466933727,-0.0045218584127724,0.7189401984214783,0.6716063022613525,0.6693133115768433,0.7991370558738708,0.1904382854700088,1.0926798582077026,0.7273393273353577,0.8687506914138794,-0.1291019469499588,0.2618552446365356,-0.7868000864982605,0.4496935606002807,0.0011850123992189,1.6036254167556765,0.6941474080085754,1.5128179788589478,2.09006667137146,0.598155677318573,0.8151127696037292,0.3951155245304107,-0.3593150377273559,0.7877657413482666,0.9544703364372252,3.0738821029663086,1.40350341796875,1.316339373588562,-0.1474080085754394,0.2006975561380386,0.8571538925170898,0.7268635630607605,0.680569052696228,1.0122020244598389,0.4262318909168243,-0.548574686050415,-1.889846920967102,2.1261537075042725,-0.1265887469053268,0.2183935344219207,0.4700178802013397,0.7689144611358643,0.1889287680387497,-1.1325515508651731,0.4006820619106293,0.6828986406326294,0.5637420415878296,0.1147276014089584,0.6575772166252136,0.9206324219703674,0.6543039083480835,-1.2567169666290283,0.9199458956718444,0.3892278373241424,0.2518643140792846,0.0617417581379413,0.3660508394241333,0.5169002413749695,0.3047834932804107,-0.4451168775558471,0.7762153744697571,0.6983519792556763,-0.6343443393707275,0.1184045374393463,1.0121829509735107,0.0767793133854866,-0.7795543074607849,0.9883665442466736,0.7404425144195557,0.5896614789962769,-0.2445885390043258,0.6929038763046265,0.6095768809318542,-0.399911493062973,0.511210560798645,-0.0608653202652931,1.0340980291366575,1.81842303276062,0.516045331954956,1.9573712348937988,0.3568523526191711,1.714807629585266,-0.6857926249504089,0.6147092580795288,0.3117763102054596,2.2334563732147217,0.3559570908546448,0.907610297203064,0.6205823421478271,0.543626606464386,1.765831470489502,2.65330171585083,2.396920680999756,0.5049446821212769,-0.2461722940206527,-0.2469872683286667,1.532912015914917,0.852562665939331,0.9599109292030334,1.951136589050293,0.4375348389148712,0.6220915913581848,0.3088925778865814,0.8019334673881531,0.6759963035583496,0.8520339131355286,1.5274115800857544,-0.0481642372906208,0.5923580527305603,1.3029102087020874,1.3608486652374268,-0.7912012338638306,0.5502655506134033,1.3874210119247437,1.136845946311951,0.3262393474578857,0.7489511370658875,1.5481467247009275,0.6352397799491882,0.3791437149047851,1.2642496824264526,-0.1866454929113388,-0.0795295014977455,-0.5993806719779968,0.8436572551727295,0.5421280264854431,0.084072008728981,0.829844057559967,0.8609160780906677,0.7843860983848572,0.6616056561470032,1.18731951713562,0.605999767780304,1.5604575872421265,0.4152666926383972,-0.7105251550674438,0.9715907573699952,-0.8103148937225342,1.1321806907653809,0.4234907031059265,0.9651274681091307,0.6819308400154114,0.190247505903244,0.2800985276699066,1.0041157007217407,0.2231750786304474,0.9152365922927856,2.2139551639556885,-0.0371388010680675,0.3208150267601013,0.7440462112426758,1.216957688331604,0.2236018031835556,0.6516628861427307,-0.1924761682748794,0.5384947657585144,0.5468371510505676,0.6359977126121521,0.4315672218799591,0.7479709386825562,-0.4268792569637298,1.0043376684188845,0.3451591432094574,2.5161640644073486,0.2106795012950897,0.0737185254693031,1.0065953731536863,0.4156534075736999,1.3319616317749023,1.352449655532837,0.4255757331848144,0.7278589606285095,-0.1007985025644302,0.4806022942066192,1.073702335357666,0.2171953618526458,0.9150730967521667,0.0899695828557014,1.228525996208191,-0.4453806579113006,1.1900243759155271,0.8358262181282043,-0.0386092476546764,1.612670660018921,0.6456218957901001,0.5864481329917908,1.9903990030288696,0.7158755660057068,0.2406598627567291,1.3103772401809692,0.081810250878334,0.6149045825004578,0.8016307353973389,0.9388645887374878,0.5155360102653503,0.0150108374655246,0.5232118368148804,0.9334787130355836,0.3745550811290741,-0.510955274105072,1.0410616397857666,0.7931622266769409,0.7911528944969177,0.656258225440979,0.7351144552230835,0.5275510549545288,0.3328481614589691,1.6270420551300049,1.0618362426757812,-0.2807145714759826,0.3085509538650512,1.670967698097229,0.6092777848243713,0.8082031607627869,0.6093751788139343,0.5735786557197571,0.6378139853477478,1.232396364212036,0.7995401620864868,0.8842580318450928,0.6358645558357239,0.0617857165634632,1.1417170763015747,-0.3305188119411468,0.6792573928833008,-0.4269841313362121,0.7437524199485779,0.4997989535331726,2.343200206756592,-0.1152383908629417,-0.1406619399785995,-0.9824910163879396,0.6502410769462585,0.0559424981474876,-0.1652235984802246,-0.0446961596608161,0.9810031056404114,2.163588285446167,0.6840659379959106,0.7309812903404236,0.0981222614645958,0.439193844795227,0.0522210150957107,0.8242871165275574,0.618526816368103,1.0874594449996948,0.7527368664741516,0.8575783967971802,0.8397210836410522,1.354055881500244,0.4650892913341522,0.9245087504386902,0.1636625081300735,-0.3700196743011474,0.9520553350448608,0.2223847806453704,1.0452293157577517,0.6367640495300293,0.6250157356262207,0.7567694783210754,1.704614758491516,0.5730170011520386,1.3318058252334597,0.7461206912994385,0.9457936882972716,0.6300926804542542,-0.1246178299188613,1.359041452407837,0.9438412189483644,0.7765628695487976,0.7238292694091797,1.5750311613082886,0.3353807330131531,-0.3288478851318359,0.283261239528656,0.7390002608299255,1.103122591972351,0.1516769975423813,0.8478077054023743,1.258067607879639,0.6488043069839478,1.0544562339782717,0.227705180644989,0.9426540732383728,1.5324976444244385,0.9395614862442015,0.5163214802742004,0.9114528298377992,0.4801061153411865,0.9183536767959596,1.968539357185364,0.5977928638458252,0.8137461543083191,-0.0050582983531057,0.8475319147109985,2.005507707595825],\"y0\":\" \",\"yaxis\":\"y\",\"type\":\"box\"}],                        {\"template\":{\"data\":{\"bar\":[{\"error_x\":{\"color\":\"#2a3f5f\"},\"error_y\":{\"color\":\"#2a3f5f\"},\"marker\":{\"line\":{\"color\":\"#E5ECF6\",\"width\":0.5},\"pattern\":{\"fillmode\":\"overlay\",\"size\":10,\"solidity\":0.2}},\"type\":\"bar\"}],\"barpolar\":[{\"marker\":{\"line\":{\"color\":\"#E5ECF6\",\"width\":0.5},\"pattern\":{\"fillmode\":\"overlay\",\"size\":10,\"solidity\":0.2}},\"type\":\"barpolar\"}],\"carpet\":[{\"aaxis\":{\"endlinecolor\":\"#2a3f5f\",\"gridcolor\":\"white\",\"linecolor\":\"white\",\"minorgridcolor\":\"white\",\"startlinecolor\":\"#2a3f5f\"},\"baxis\":{\"endlinecolor\":\"#2a3f5f\",\"gridcolor\":\"white\",\"linecolor\":\"white\",\"minorgridcolor\":\"white\",\"startlinecolor\":\"#2a3f5f\"},\"type\":\"carpet\"}],\"choropleth\":[{\"colorbar\":{\"outlinewidth\":0,\"ticks\":\"\"},\"type\":\"choropleth\"}],\"contour\":[{\"colorbar\":{\"outlinewidth\":0,\"ticks\":\"\"},\"colorscale\":[[0.0,\"#0d0887\"],[0.1111111111111111,\"#46039f\"],[0.2222222222222222,\"#7201a8\"],[0.3333333333333333,\"#9c179e\"],[0.4444444444444444,\"#bd3786\"],[0.5555555555555556,\"#d8576b\"],[0.6666666666666666,\"#ed7953\"],[0.7777777777777778,\"#fb9f3a\"],[0.8888888888888888,\"#fdca26\"],[1.0,\"#f0f921\"]],\"type\":\"contour\"}],\"contourcarpet\":[{\"colorbar\":{\"outlinewidth\":0,\"ticks\":\"\"},\"type\":\"contourcarpet\"}],\"heatmap\":[{\"colorbar\":{\"outlinewidth\":0,\"ticks\":\"\"},\"colorscale\":[[0.0,\"#0d0887\"],[0.1111111111111111,\"#46039f\"],[0.2222222222222222,\"#7201a8\"],[0.3333333333333333,\"#9c179e\"],[0.4444444444444444,\"#bd3786\"],[0.5555555555555556,\"#d8576b\"],[0.6666666666666666,\"#ed7953\"],[0.7777777777777778,\"#fb9f3a\"],[0.8888888888888888,\"#fdca26\"],[1.0,\"#f0f921\"]],\"type\":\"heatmap\"}],\"heatmapgl\":[{\"colorbar\":{\"outlinewidth\":0,\"ticks\":\"\"},\"colorscale\":[[0.0,\"#0d0887\"],[0.1111111111111111,\"#46039f\"],[0.2222222222222222,\"#7201a8\"],[0.3333333333333333,\"#9c179e\"],[0.4444444444444444,\"#bd3786\"],[0.5555555555555556,\"#d8576b\"],[0.6666666666666666,\"#ed7953\"],[0.7777777777777778,\"#fb9f3a\"],[0.8888888888888888,\"#fdca26\"],[1.0,\"#f0f921\"]],\"type\":\"heatmapgl\"}],\"histogram\":[{\"marker\":{\"pattern\":{\"fillmode\":\"overlay\",\"size\":10,\"solidity\":0.2}},\"type\":\"histogram\"}],\"histogram2d\":[{\"colorbar\":{\"outlinewidth\":0,\"ticks\":\"\"},\"colorscale\":[[0.0,\"#0d0887\"],[0.1111111111111111,\"#46039f\"],[0.2222222222222222,\"#7201a8\"],[0.3333333333333333,\"#9c179e\"],[0.4444444444444444,\"#bd3786\"],[0.5555555555555556,\"#d8576b\"],[0.6666666666666666,\"#ed7953\"],[0.7777777777777778,\"#fb9f3a\"],[0.8888888888888888,\"#fdca26\"],[1.0,\"#f0f921\"]],\"type\":\"histogram2d\"}],\"histogram2dcontour\":[{\"colorbar\":{\"outlinewidth\":0,\"ticks\":\"\"},\"colorscale\":[[0.0,\"#0d0887\"],[0.1111111111111111,\"#46039f\"],[0.2222222222222222,\"#7201a8\"],[0.3333333333333333,\"#9c179e\"],[0.4444444444444444,\"#bd3786\"],[0.5555555555555556,\"#d8576b\"],[0.6666666666666666,\"#ed7953\"],[0.7777777777777778,\"#fb9f3a\"],[0.8888888888888888,\"#fdca26\"],[1.0,\"#f0f921\"]],\"type\":\"histogram2dcontour\"}],\"mesh3d\":[{\"colorbar\":{\"outlinewidth\":0,\"ticks\":\"\"},\"type\":\"mesh3d\"}],\"parcoords\":[{\"line\":{\"colorbar\":{\"outlinewidth\":0,\"ticks\":\"\"}},\"type\":\"parcoords\"}],\"pie\":[{\"automargin\":true,\"type\":\"pie\"}],\"scatter\":[{\"marker\":{\"colorbar\":{\"outlinewidth\":0,\"ticks\":\"\"}},\"type\":\"scatter\"}],\"scatter3d\":[{\"line\":{\"colorbar\":{\"outlinewidth\":0,\"ticks\":\"\"}},\"marker\":{\"colorbar\":{\"outlinewidth\":0,\"ticks\":\"\"}},\"type\":\"scatter3d\"}],\"scattercarpet\":[{\"marker\":{\"colorbar\":{\"outlinewidth\":0,\"ticks\":\"\"}},\"type\":\"scattercarpet\"}],\"scattergeo\":[{\"marker\":{\"colorbar\":{\"outlinewidth\":0,\"ticks\":\"\"}},\"type\":\"scattergeo\"}],\"scattergl\":[{\"marker\":{\"colorbar\":{\"outlinewidth\":0,\"ticks\":\"\"}},\"type\":\"scattergl\"}],\"scattermapbox\":[{\"marker\":{\"colorbar\":{\"outlinewidth\":0,\"ticks\":\"\"}},\"type\":\"scattermapbox\"}],\"scatterpolar\":[{\"marker\":{\"colorbar\":{\"outlinewidth\":0,\"ticks\":\"\"}},\"type\":\"scatterpolar\"}],\"scatterpolargl\":[{\"marker\":{\"colorbar\":{\"outlinewidth\":0,\"ticks\":\"\"}},\"type\":\"scatterpolargl\"}],\"scatterternary\":[{\"marker\":{\"colorbar\":{\"outlinewidth\":0,\"ticks\":\"\"}},\"type\":\"scatterternary\"}],\"surface\":[{\"colorbar\":{\"outlinewidth\":0,\"ticks\":\"\"},\"colorscale\":[[0.0,\"#0d0887\"],[0.1111111111111111,\"#46039f\"],[0.2222222222222222,\"#7201a8\"],[0.3333333333333333,\"#9c179e\"],[0.4444444444444444,\"#bd3786\"],[0.5555555555555556,\"#d8576b\"],[0.6666666666666666,\"#ed7953\"],[0.7777777777777778,\"#fb9f3a\"],[0.8888888888888888,\"#fdca26\"],[1.0,\"#f0f921\"]],\"type\":\"surface\"}],\"table\":[{\"cells\":{\"fill\":{\"color\":\"#EBF0F8\"},\"line\":{\"color\":\"white\"}},\"header\":{\"fill\":{\"color\":\"#C8D4E3\"},\"line\":{\"color\":\"white\"}},\"type\":\"table\"}]},\"layout\":{\"annotationdefaults\":{\"arrowcolor\":\"#2a3f5f\",\"arrowhead\":0,\"arrowwidth\":1},\"autotypenumbers\":\"strict\",\"coloraxis\":{\"colorbar\":{\"outlinewidth\":0,\"ticks\":\"\"}},\"colorscale\":{\"diverging\":[[0,\"#8e0152\"],[0.1,\"#c51b7d\"],[0.2,\"#de77ae\"],[0.3,\"#f1b6da\"],[0.4,\"#fde0ef\"],[0.5,\"#f7f7f7\"],[0.6,\"#e6f5d0\"],[0.7,\"#b8e186\"],[0.8,\"#7fbc41\"],[0.9,\"#4d9221\"],[1,\"#276419\"]],\"sequential\":[[0.0,\"#0d0887\"],[0.1111111111111111,\"#46039f\"],[0.2222222222222222,\"#7201a8\"],[0.3333333333333333,\"#9c179e\"],[0.4444444444444444,\"#bd3786\"],[0.5555555555555556,\"#d8576b\"],[0.6666666666666666,\"#ed7953\"],[0.7777777777777778,\"#fb9f3a\"],[0.8888888888888888,\"#fdca26\"],[1.0,\"#f0f921\"]],\"sequentialminus\":[[0.0,\"#0d0887\"],[0.1111111111111111,\"#46039f\"],[0.2222222222222222,\"#7201a8\"],[0.3333333333333333,\"#9c179e\"],[0.4444444444444444,\"#bd3786\"],[0.5555555555555556,\"#d8576b\"],[0.6666666666666666,\"#ed7953\"],[0.7777777777777778,\"#fb9f3a\"],[0.8888888888888888,\"#fdca26\"],[1.0,\"#f0f921\"]]},\"colorway\":[\"#636efa\",\"#EF553B\",\"#00cc96\",\"#ab63fa\",\"#FFA15A\",\"#19d3f3\",\"#FF6692\",\"#B6E880\",\"#FF97FF\",\"#FECB52\"],\"font\":{\"color\":\"#2a3f5f\"},\"geo\":{\"bgcolor\":\"white\",\"lakecolor\":\"white\",\"landcolor\":\"#E5ECF6\",\"showlakes\":true,\"showland\":true,\"subunitcolor\":\"white\"},\"hoverlabel\":{\"align\":\"left\"},\"hovermode\":\"closest\",\"mapbox\":{\"style\":\"light\"},\"paper_bgcolor\":\"white\",\"plot_bgcolor\":\"#E5ECF6\",\"polar\":{\"angularaxis\":{\"gridcolor\":\"white\",\"linecolor\":\"white\",\"ticks\":\"\"},\"bgcolor\":\"#E5ECF6\",\"radialaxis\":{\"gridcolor\":\"white\",\"linecolor\":\"white\",\"ticks\":\"\"}},\"scene\":{\"xaxis\":{\"backgroundcolor\":\"#E5ECF6\",\"gridcolor\":\"white\",\"gridwidth\":2,\"linecolor\":\"white\",\"showbackground\":true,\"ticks\":\"\",\"zerolinecolor\":\"white\"},\"yaxis\":{\"backgroundcolor\":\"#E5ECF6\",\"gridcolor\":\"white\",\"gridwidth\":2,\"linecolor\":\"white\",\"showbackground\":true,\"ticks\":\"\",\"zerolinecolor\":\"white\"},\"zaxis\":{\"backgroundcolor\":\"#E5ECF6\",\"gridcolor\":\"white\",\"gridwidth\":2,\"linecolor\":\"white\",\"showbackground\":true,\"ticks\":\"\",\"zerolinecolor\":\"white\"}},\"shapedefaults\":{\"line\":{\"color\":\"#2a3f5f\"}},\"ternary\":{\"aaxis\":{\"gridcolor\":\"white\",\"linecolor\":\"white\",\"ticks\":\"\"},\"baxis\":{\"gridcolor\":\"white\",\"linecolor\":\"white\",\"ticks\":\"\"},\"bgcolor\":\"#E5ECF6\",\"caxis\":{\"gridcolor\":\"white\",\"linecolor\":\"white\",\"ticks\":\"\"}},\"title\":{\"x\":0.05},\"xaxis\":{\"automargin\":true,\"gridcolor\":\"white\",\"linecolor\":\"white\",\"ticks\":\"\",\"title\":{\"standoff\":15},\"zerolinecolor\":\"white\",\"zerolinewidth\":2},\"yaxis\":{\"automargin\":true,\"gridcolor\":\"white\",\"linecolor\":\"white\",\"ticks\":\"\",\"title\":{\"standoff\":15},\"zerolinecolor\":\"white\",\"zerolinewidth\":2}}},\"xaxis\":{\"anchor\":\"y\",\"domain\":[0.0,1.0]},\"yaxis\":{\"anchor\":\"x\",\"domain\":[0.0,1.0],\"title\":{\"text\":\"chroma_cqt_kew_1\"}},\"legend\":{\"tracegroupgap\":0},\"margin\":{\"t\":60},\"boxmode\":\"group\"},                        {\"responsive\": true}                    ).then(function(){\n",
              "                            \n",
              "var gd = document.getElementById('5d5e6364-bb47-44c3-a7eb-71aa44ab2ae9');\n",
              "var x = new MutationObserver(function (mutations, observer) {{\n",
              "        var display = window.getComputedStyle(gd).display;\n",
              "        if (!display || display === 'none') {{\n",
              "            console.log([gd, 'removed!']);\n",
              "            Plotly.purge(gd);\n",
              "            observer.disconnect();\n",
              "        }}\n",
              "}});\n",
              "\n",
              "// Listen for the removal of the full notebook cells\n",
              "var notebookContainer = gd.closest('#notebook-container');\n",
              "if (notebookContainer) {{\n",
              "    x.observe(notebookContainer, {childList: true});\n",
              "}}\n",
              "\n",
              "// Listen for the clearing of the current output cell\n",
              "var outputEl = gd.closest('.output');\n",
              "if (outputEl) {{\n",
              "    x.observe(outputEl, {childList: true});\n",
              "}}\n",
              "\n",
              "                        })                };                            </script>        </div>\n",
              "</body>\n",
              "</html>"
            ]
          },
          "metadata": {}
        }
      ]
    },
    {
      "cell_type": "code",
      "source": [
        "shape = df.shape\n",
        "print(shape)"
      ],
      "metadata": {
        "colab": {
          "base_uri": "https://localhost:8080/"
        },
        "id": "8uGOFqiHewss",
        "outputId": "1e5674dc-6952-4bd7-f0f5-5a2033882cbd"
      },
      "execution_count": null,
      "outputs": [
        {
          "output_type": "stream",
          "name": "stdout",
          "text": [
            "(751, 523)\n"
          ]
        }
      ]
    },
    {
      "cell_type": "code",
      "source": [
        "data_type = df.type('Artist')\n",
        "print(data_type)"
      ],
      "metadata": {
        "colab": {
          "base_uri": "https://localhost:8080/",
          "height": 305
        },
        "id": "gVe-McINf1L5",
        "outputId": "948f60e5-1001-490d-94a3-46c38943d6cf"
      },
      "execution_count": null,
      "outputs": [
        {
          "output_type": "error",
          "ename": "AttributeError",
          "evalue": "ignored",
          "traceback": [
            "\u001b[0;31m---------------------------------------------------------------------------\u001b[0m",
            "\u001b[0;31mAttributeError\u001b[0m                            Traceback (most recent call last)",
            "\u001b[0;32m<ipython-input-35-f54d902c9fc6>\u001b[0m in \u001b[0;36m<module>\u001b[0;34m()\u001b[0m\n\u001b[0;32m----> 1\u001b[0;31m \u001b[0mdata_type\u001b[0m \u001b[0;34m=\u001b[0m \u001b[0mdf\u001b[0m\u001b[0;34m.\u001b[0m\u001b[0mtype\u001b[0m\u001b[0;34m(\u001b[0m\u001b[0;34m'Artist'\u001b[0m\u001b[0;34m)\u001b[0m\u001b[0;34m\u001b[0m\u001b[0;34m\u001b[0m\u001b[0m\n\u001b[0m\u001b[1;32m      2\u001b[0m \u001b[0mprint\u001b[0m\u001b[0;34m(\u001b[0m\u001b[0mdata_type\u001b[0m\u001b[0;34m)\u001b[0m\u001b[0;34m\u001b[0m\u001b[0;34m\u001b[0m\u001b[0m\n",
            "\u001b[0;32m/usr/local/lib/python3.7/dist-packages/pandas/core/generic.py\u001b[0m in \u001b[0;36m__getattr__\u001b[0;34m(self, name)\u001b[0m\n\u001b[1;32m   5485\u001b[0m         ):\n\u001b[1;32m   5486\u001b[0m             \u001b[0;32mreturn\u001b[0m \u001b[0mself\u001b[0m\u001b[0;34m[\u001b[0m\u001b[0mname\u001b[0m\u001b[0;34m]\u001b[0m\u001b[0;34m\u001b[0m\u001b[0;34m\u001b[0m\u001b[0m\n\u001b[0;32m-> 5487\u001b[0;31m         \u001b[0;32mreturn\u001b[0m \u001b[0mobject\u001b[0m\u001b[0;34m.\u001b[0m\u001b[0m__getattribute__\u001b[0m\u001b[0;34m(\u001b[0m\u001b[0mself\u001b[0m\u001b[0;34m,\u001b[0m \u001b[0mname\u001b[0m\u001b[0;34m)\u001b[0m\u001b[0;34m\u001b[0m\u001b[0;34m\u001b[0m\u001b[0m\n\u001b[0m\u001b[1;32m   5488\u001b[0m \u001b[0;34m\u001b[0m\u001b[0m\n\u001b[1;32m   5489\u001b[0m     \u001b[0;32mdef\u001b[0m \u001b[0m__setattr__\u001b[0m\u001b[0;34m(\u001b[0m\u001b[0mself\u001b[0m\u001b[0;34m,\u001b[0m \u001b[0mname\u001b[0m\u001b[0;34m:\u001b[0m \u001b[0mstr\u001b[0m\u001b[0;34m,\u001b[0m \u001b[0mvalue\u001b[0m\u001b[0;34m)\u001b[0m \u001b[0;34m->\u001b[0m \u001b[0;32mNone\u001b[0m\u001b[0;34m:\u001b[0m\u001b[0;34m\u001b[0m\u001b[0;34m\u001b[0m\u001b[0m\n",
            "\u001b[0;31mAttributeError\u001b[0m: 'DataFrame' object has no attribute 'type'"
          ]
        }
      ]
    },
    {
      "cell_type": "code",
      "source": [
        "df1 =df.dropna(axis =0, how ='any',thresh = None,subset = None, inplace = False)\n",
        "print(df1)"
      ],
      "metadata": {
        "id": "tsO8exG-heyL"
      },
      "execution_count": null,
      "outputs": []
    },
    {
      "cell_type": "code",
      "source": [
        "df.sort_values('Artist',inplace = True)\n",
        "df.drop_duplicates(subset='Artist',keep = False, inplace= True)\n",
        "df"
      ],
      "metadata": {
        "colab": {
          "base_uri": "https://localhost:8080/",
          "height": 292
        },
        "id": "mgupRYYQspYl",
        "outputId": "d41faa3f-3b84-4968-969f-59f86bd2cca3"
      },
      "execution_count": null,
      "outputs": [
        {
          "output_type": "execute_result",
          "data": {
            "text/plain": [
              "               Artist          Title  Label  \\\n",
              "356              T.I.  What You Know      1   \n",
              "106  The Chainsmokers          Paris      1   \n",
              "\n",
              "                                           Path  \\\n",
              "356                     Songs/What You Know.mp3   \n",
              "106  Songs/The Chainsmokers - Paris (Lyric).mp3   \n",
              "\n",
              "                                            choruspath  chroma_stft_kew_0  \\\n",
              "356      Songs/RepeatedPopularChorus/What You Know.wav           0.238595   \n",
              "106  Songs/RepeatedPopularChorus/The Chainsmokers -...           0.628703   \n",
              "\n",
              "     chroma_stft_min_0  chroma_stft_max_0  chroma_stft_std_0  \\\n",
              "356           0.025755                1.0           0.300902   \n",
              "106           0.038364                1.0           0.308499   \n",
              "\n",
              "     chroma_stft_mean_0  ...  tonnetz_mean_5  tonnetz_median_5  \\\n",
              "356            0.527296  ...        0.026679          0.009643   \n",
              "106            0.426123  ...        0.001818         -0.030908   \n",
              "\n",
              "     tonnetz_kurtosis_5  zero_crossing_rate_kew_0  zero_crossing_rate_min_0  \\\n",
              "356           -0.078968                  0.015753                  0.050295   \n",
              "106           -0.649560                  0.083558                  0.022540   \n",
              "\n",
              "     zero_crossing_rate_max_0  zero_crossing_rate_std_0  \\\n",
              "356                  0.146984                  0.015446   \n",
              "106                  0.081451                  0.008976   \n",
              "\n",
              "     zero_crossing_rate_mean_0  zero_crossing_rate_median_0  \\\n",
              "356                   0.104880                      0.10415   \n",
              "106                   0.055887                      0.05610   \n",
              "\n",
              "     zero_crossing_rate_kurtosis_0  \n",
              "356                       0.672166  \n",
              "106                       0.269011  \n",
              "\n",
              "[2 rows x 523 columns]"
            ],
            "text/html": [
              "\n",
              "  <div id=\"df-b3a4b59a-61e9-45ec-980a-9dce3140c35c\">\n",
              "    <div class=\"colab-df-container\">\n",
              "      <div>\n",
              "<style scoped>\n",
              "    .dataframe tbody tr th:only-of-type {\n",
              "        vertical-align: middle;\n",
              "    }\n",
              "\n",
              "    .dataframe tbody tr th {\n",
              "        vertical-align: top;\n",
              "    }\n",
              "\n",
              "    .dataframe thead th {\n",
              "        text-align: right;\n",
              "    }\n",
              "</style>\n",
              "<table border=\"1\" class=\"dataframe\">\n",
              "  <thead>\n",
              "    <tr style=\"text-align: right;\">\n",
              "      <th></th>\n",
              "      <th>Artist</th>\n",
              "      <th>Title</th>\n",
              "      <th>Label</th>\n",
              "      <th>Path</th>\n",
              "      <th>choruspath</th>\n",
              "      <th>chroma_stft_kew_0</th>\n",
              "      <th>chroma_stft_min_0</th>\n",
              "      <th>chroma_stft_max_0</th>\n",
              "      <th>chroma_stft_std_0</th>\n",
              "      <th>chroma_stft_mean_0</th>\n",
              "      <th>...</th>\n",
              "      <th>tonnetz_mean_5</th>\n",
              "      <th>tonnetz_median_5</th>\n",
              "      <th>tonnetz_kurtosis_5</th>\n",
              "      <th>zero_crossing_rate_kew_0</th>\n",
              "      <th>zero_crossing_rate_min_0</th>\n",
              "      <th>zero_crossing_rate_max_0</th>\n",
              "      <th>zero_crossing_rate_std_0</th>\n",
              "      <th>zero_crossing_rate_mean_0</th>\n",
              "      <th>zero_crossing_rate_median_0</th>\n",
              "      <th>zero_crossing_rate_kurtosis_0</th>\n",
              "    </tr>\n",
              "  </thead>\n",
              "  <tbody>\n",
              "    <tr>\n",
              "      <th>356</th>\n",
              "      <td>T.I.</td>\n",
              "      <td>What You Know</td>\n",
              "      <td>1</td>\n",
              "      <td>Songs/What You Know.mp3</td>\n",
              "      <td>Songs/RepeatedPopularChorus/What You Know.wav</td>\n",
              "      <td>0.238595</td>\n",
              "      <td>0.025755</td>\n",
              "      <td>1.0</td>\n",
              "      <td>0.300902</td>\n",
              "      <td>0.527296</td>\n",
              "      <td>...</td>\n",
              "      <td>0.026679</td>\n",
              "      <td>0.009643</td>\n",
              "      <td>-0.078968</td>\n",
              "      <td>0.015753</td>\n",
              "      <td>0.050295</td>\n",
              "      <td>0.146984</td>\n",
              "      <td>0.015446</td>\n",
              "      <td>0.104880</td>\n",
              "      <td>0.10415</td>\n",
              "      <td>0.672166</td>\n",
              "    </tr>\n",
              "    <tr>\n",
              "      <th>106</th>\n",
              "      <td>The Chainsmokers</td>\n",
              "      <td>Paris</td>\n",
              "      <td>1</td>\n",
              "      <td>Songs/The Chainsmokers - Paris (Lyric).mp3</td>\n",
              "      <td>Songs/RepeatedPopularChorus/The Chainsmokers -...</td>\n",
              "      <td>0.628703</td>\n",
              "      <td>0.038364</td>\n",
              "      <td>1.0</td>\n",
              "      <td>0.308499</td>\n",
              "      <td>0.426123</td>\n",
              "      <td>...</td>\n",
              "      <td>0.001818</td>\n",
              "      <td>-0.030908</td>\n",
              "      <td>-0.649560</td>\n",
              "      <td>0.083558</td>\n",
              "      <td>0.022540</td>\n",
              "      <td>0.081451</td>\n",
              "      <td>0.008976</td>\n",
              "      <td>0.055887</td>\n",
              "      <td>0.05610</td>\n",
              "      <td>0.269011</td>\n",
              "    </tr>\n",
              "  </tbody>\n",
              "</table>\n",
              "<p>2 rows × 523 columns</p>\n",
              "</div>\n",
              "      <button class=\"colab-df-convert\" onclick=\"convertToInteractive('df-b3a4b59a-61e9-45ec-980a-9dce3140c35c')\"\n",
              "              title=\"Convert this dataframe to an interactive table.\"\n",
              "              style=\"display:none;\">\n",
              "        \n",
              "  <svg xmlns=\"http://www.w3.org/2000/svg\" height=\"24px\"viewBox=\"0 0 24 24\"\n",
              "       width=\"24px\">\n",
              "    <path d=\"M0 0h24v24H0V0z\" fill=\"none\"/>\n",
              "    <path d=\"M18.56 5.44l.94 2.06.94-2.06 2.06-.94-2.06-.94-.94-2.06-.94 2.06-2.06.94zm-11 1L8.5 8.5l.94-2.06 2.06-.94-2.06-.94L8.5 2.5l-.94 2.06-2.06.94zm10 10l.94 2.06.94-2.06 2.06-.94-2.06-.94-.94-2.06-.94 2.06-2.06.94z\"/><path d=\"M17.41 7.96l-1.37-1.37c-.4-.4-.92-.59-1.43-.59-.52 0-1.04.2-1.43.59L10.3 9.45l-7.72 7.72c-.78.78-.78 2.05 0 2.83L4 21.41c.39.39.9.59 1.41.59.51 0 1.02-.2 1.41-.59l7.78-7.78 2.81-2.81c.8-.78.8-2.07 0-2.86zM5.41 20L4 18.59l7.72-7.72 1.47 1.35L5.41 20z\"/>\n",
              "  </svg>\n",
              "      </button>\n",
              "      \n",
              "  <style>\n",
              "    .colab-df-container {\n",
              "      display:flex;\n",
              "      flex-wrap:wrap;\n",
              "      gap: 12px;\n",
              "    }\n",
              "\n",
              "    .colab-df-convert {\n",
              "      background-color: #E8F0FE;\n",
              "      border: none;\n",
              "      border-radius: 50%;\n",
              "      cursor: pointer;\n",
              "      display: none;\n",
              "      fill: #1967D2;\n",
              "      height: 32px;\n",
              "      padding: 0 0 0 0;\n",
              "      width: 32px;\n",
              "    }\n",
              "\n",
              "    .colab-df-convert:hover {\n",
              "      background-color: #E2EBFA;\n",
              "      box-shadow: 0px 1px 2px rgba(60, 64, 67, 0.3), 0px 1px 3px 1px rgba(60, 64, 67, 0.15);\n",
              "      fill: #174EA6;\n",
              "    }\n",
              "\n",
              "    [theme=dark] .colab-df-convert {\n",
              "      background-color: #3B4455;\n",
              "      fill: #D2E3FC;\n",
              "    }\n",
              "\n",
              "    [theme=dark] .colab-df-convert:hover {\n",
              "      background-color: #434B5C;\n",
              "      box-shadow: 0px 1px 3px 1px rgba(0, 0, 0, 0.15);\n",
              "      filter: drop-shadow(0px 1px 2px rgba(0, 0, 0, 0.3));\n",
              "      fill: #FFFFFF;\n",
              "    }\n",
              "  </style>\n",
              "\n",
              "      <script>\n",
              "        const buttonEl =\n",
              "          document.querySelector('#df-b3a4b59a-61e9-45ec-980a-9dce3140c35c button.colab-df-convert');\n",
              "        buttonEl.style.display =\n",
              "          google.colab.kernel.accessAllowed ? 'block' : 'none';\n",
              "\n",
              "        async function convertToInteractive(key) {\n",
              "          const element = document.querySelector('#df-b3a4b59a-61e9-45ec-980a-9dce3140c35c');\n",
              "          const dataTable =\n",
              "            await google.colab.kernel.invokeFunction('convertToInteractive',\n",
              "                                                     [key], {});\n",
              "          if (!dataTable) return;\n",
              "\n",
              "          const docLinkHtml = 'Like what you see? Visit the ' +\n",
              "            '<a target=\"_blank\" href=https://colab.research.google.com/notebooks/data_table.ipynb>data table notebook</a>'\n",
              "            + ' to learn more about interactive tables.';\n",
              "          element.innerHTML = '';\n",
              "          dataTable['output_type'] = 'display_data';\n",
              "          await google.colab.output.renderOutput(dataTable, element);\n",
              "          const docLink = document.createElement('div');\n",
              "          docLink.innerHTML = docLinkHtml;\n",
              "          element.appendChild(docLink);\n",
              "        }\n",
              "      </script>\n",
              "    </div>\n",
              "  </div>\n",
              "  "
            ]
          },
          "metadata": {},
          "execution_count": 38
        }
      ]
    },
    {
      "cell_type": "code",
      "source": [
        "df2 = df['chroma_cens_kew_0'].mean()\n",
        "df2"
      ],
      "metadata": {
        "colab": {
          "base_uri": "https://localhost:8080/"
        },
        "id": "DLTLra3s4cEd",
        "outputId": "efa6db28-75fc-4612-9ec6-9a7a7318424f"
      },
      "execution_count": null,
      "outputs": [
        {
          "output_type": "execute_result",
          "data": {
            "text/plain": [
              "-0.11148783072315101"
            ]
          },
          "metadata": {},
          "execution_count": 51
        }
      ]
    },
    {
      "cell_type": "code",
      "source": [
        "df3 = df['Artist'].dtype\n",
        "df3"
      ],
      "metadata": {
        "colab": {
          "base_uri": "https://localhost:8080/"
        },
        "id": "DFHyJAzj_BZH",
        "outputId": "a4f3e2fe-d981-4269-d671-fe85f31ac224"
      },
      "execution_count": null,
      "outputs": [
        {
          "output_type": "execute_result",
          "data": {
            "text/plain": [
              "dtype('O')"
            ]
          },
          "metadata": {},
          "execution_count": 53
        }
      ]
    },
    {
      "cell_type": "code",
      "source": [
        "df.head()"
      ],
      "metadata": {
        "colab": {
          "base_uri": "https://localhost:8080/",
          "height": 292
        },
        "id": "1bvPReIvA63L",
        "outputId": "41c371e1-c592-40e5-8dc6-4bb8c02bef7e"
      },
      "execution_count": null,
      "outputs": [
        {
          "output_type": "execute_result",
          "data": {
            "text/plain": [
              "               Artist          Title  Label  \\\n",
              "356              T.I.  What You Know      1   \n",
              "106  The Chainsmokers          Paris      1   \n",
              "\n",
              "                                           Path  \\\n",
              "356                     Songs/What You Know.mp3   \n",
              "106  Songs/The Chainsmokers - Paris (Lyric).mp3   \n",
              "\n",
              "                                            choruspath  chroma_stft_kew_0  \\\n",
              "356      Songs/RepeatedPopularChorus/What You Know.wav           0.238595   \n",
              "106  Songs/RepeatedPopularChorus/The Chainsmokers -...           0.628703   \n",
              "\n",
              "     chroma_stft_min_0  chroma_stft_max_0  chroma_stft_std_0  \\\n",
              "356           0.025755                1.0           0.300902   \n",
              "106           0.038364                1.0           0.308499   \n",
              "\n",
              "     chroma_stft_mean_0  ...  tonnetz_mean_5  tonnetz_median_5  \\\n",
              "356            0.527296  ...        0.026679          0.009643   \n",
              "106            0.426123  ...        0.001818         -0.030908   \n",
              "\n",
              "     tonnetz_kurtosis_5  zero_crossing_rate_kew_0  zero_crossing_rate_min_0  \\\n",
              "356           -0.078968                  0.015753                  0.050295   \n",
              "106           -0.649560                  0.083558                  0.022540   \n",
              "\n",
              "     zero_crossing_rate_max_0  zero_crossing_rate_std_0  \\\n",
              "356                  0.146984                  0.015446   \n",
              "106                  0.081451                  0.008976   \n",
              "\n",
              "     zero_crossing_rate_mean_0  zero_crossing_rate_median_0  \\\n",
              "356                   0.104880                      0.10415   \n",
              "106                   0.055887                      0.05610   \n",
              "\n",
              "     zero_crossing_rate_kurtosis_0  \n",
              "356                       0.672166  \n",
              "106                       0.269011  \n",
              "\n",
              "[2 rows x 523 columns]"
            ],
            "text/html": [
              "\n",
              "  <div id=\"df-0214e35f-5130-44c3-92c0-f23add366eea\">\n",
              "    <div class=\"colab-df-container\">\n",
              "      <div>\n",
              "<style scoped>\n",
              "    .dataframe tbody tr th:only-of-type {\n",
              "        vertical-align: middle;\n",
              "    }\n",
              "\n",
              "    .dataframe tbody tr th {\n",
              "        vertical-align: top;\n",
              "    }\n",
              "\n",
              "    .dataframe thead th {\n",
              "        text-align: right;\n",
              "    }\n",
              "</style>\n",
              "<table border=\"1\" class=\"dataframe\">\n",
              "  <thead>\n",
              "    <tr style=\"text-align: right;\">\n",
              "      <th></th>\n",
              "      <th>Artist</th>\n",
              "      <th>Title</th>\n",
              "      <th>Label</th>\n",
              "      <th>Path</th>\n",
              "      <th>choruspath</th>\n",
              "      <th>chroma_stft_kew_0</th>\n",
              "      <th>chroma_stft_min_0</th>\n",
              "      <th>chroma_stft_max_0</th>\n",
              "      <th>chroma_stft_std_0</th>\n",
              "      <th>chroma_stft_mean_0</th>\n",
              "      <th>...</th>\n",
              "      <th>tonnetz_mean_5</th>\n",
              "      <th>tonnetz_median_5</th>\n",
              "      <th>tonnetz_kurtosis_5</th>\n",
              "      <th>zero_crossing_rate_kew_0</th>\n",
              "      <th>zero_crossing_rate_min_0</th>\n",
              "      <th>zero_crossing_rate_max_0</th>\n",
              "      <th>zero_crossing_rate_std_0</th>\n",
              "      <th>zero_crossing_rate_mean_0</th>\n",
              "      <th>zero_crossing_rate_median_0</th>\n",
              "      <th>zero_crossing_rate_kurtosis_0</th>\n",
              "    </tr>\n",
              "  </thead>\n",
              "  <tbody>\n",
              "    <tr>\n",
              "      <th>356</th>\n",
              "      <td>T.I.</td>\n",
              "      <td>What You Know</td>\n",
              "      <td>1</td>\n",
              "      <td>Songs/What You Know.mp3</td>\n",
              "      <td>Songs/RepeatedPopularChorus/What You Know.wav</td>\n",
              "      <td>0.238595</td>\n",
              "      <td>0.025755</td>\n",
              "      <td>1.0</td>\n",
              "      <td>0.300902</td>\n",
              "      <td>0.527296</td>\n",
              "      <td>...</td>\n",
              "      <td>0.026679</td>\n",
              "      <td>0.009643</td>\n",
              "      <td>-0.078968</td>\n",
              "      <td>0.015753</td>\n",
              "      <td>0.050295</td>\n",
              "      <td>0.146984</td>\n",
              "      <td>0.015446</td>\n",
              "      <td>0.104880</td>\n",
              "      <td>0.10415</td>\n",
              "      <td>0.672166</td>\n",
              "    </tr>\n",
              "    <tr>\n",
              "      <th>106</th>\n",
              "      <td>The Chainsmokers</td>\n",
              "      <td>Paris</td>\n",
              "      <td>1</td>\n",
              "      <td>Songs/The Chainsmokers - Paris (Lyric).mp3</td>\n",
              "      <td>Songs/RepeatedPopularChorus/The Chainsmokers -...</td>\n",
              "      <td>0.628703</td>\n",
              "      <td>0.038364</td>\n",
              "      <td>1.0</td>\n",
              "      <td>0.308499</td>\n",
              "      <td>0.426123</td>\n",
              "      <td>...</td>\n",
              "      <td>0.001818</td>\n",
              "      <td>-0.030908</td>\n",
              "      <td>-0.649560</td>\n",
              "      <td>0.083558</td>\n",
              "      <td>0.022540</td>\n",
              "      <td>0.081451</td>\n",
              "      <td>0.008976</td>\n",
              "      <td>0.055887</td>\n",
              "      <td>0.05610</td>\n",
              "      <td>0.269011</td>\n",
              "    </tr>\n",
              "  </tbody>\n",
              "</table>\n",
              "<p>2 rows × 523 columns</p>\n",
              "</div>\n",
              "      <button class=\"colab-df-convert\" onclick=\"convertToInteractive('df-0214e35f-5130-44c3-92c0-f23add366eea')\"\n",
              "              title=\"Convert this dataframe to an interactive table.\"\n",
              "              style=\"display:none;\">\n",
              "        \n",
              "  <svg xmlns=\"http://www.w3.org/2000/svg\" height=\"24px\"viewBox=\"0 0 24 24\"\n",
              "       width=\"24px\">\n",
              "    <path d=\"M0 0h24v24H0V0z\" fill=\"none\"/>\n",
              "    <path d=\"M18.56 5.44l.94 2.06.94-2.06 2.06-.94-2.06-.94-.94-2.06-.94 2.06-2.06.94zm-11 1L8.5 8.5l.94-2.06 2.06-.94-2.06-.94L8.5 2.5l-.94 2.06-2.06.94zm10 10l.94 2.06.94-2.06 2.06-.94-2.06-.94-.94-2.06-.94 2.06-2.06.94z\"/><path d=\"M17.41 7.96l-1.37-1.37c-.4-.4-.92-.59-1.43-.59-.52 0-1.04.2-1.43.59L10.3 9.45l-7.72 7.72c-.78.78-.78 2.05 0 2.83L4 21.41c.39.39.9.59 1.41.59.51 0 1.02-.2 1.41-.59l7.78-7.78 2.81-2.81c.8-.78.8-2.07 0-2.86zM5.41 20L4 18.59l7.72-7.72 1.47 1.35L5.41 20z\"/>\n",
              "  </svg>\n",
              "      </button>\n",
              "      \n",
              "  <style>\n",
              "    .colab-df-container {\n",
              "      display:flex;\n",
              "      flex-wrap:wrap;\n",
              "      gap: 12px;\n",
              "    }\n",
              "\n",
              "    .colab-df-convert {\n",
              "      background-color: #E8F0FE;\n",
              "      border: none;\n",
              "      border-radius: 50%;\n",
              "      cursor: pointer;\n",
              "      display: none;\n",
              "      fill: #1967D2;\n",
              "      height: 32px;\n",
              "      padding: 0 0 0 0;\n",
              "      width: 32px;\n",
              "    }\n",
              "\n",
              "    .colab-df-convert:hover {\n",
              "      background-color: #E2EBFA;\n",
              "      box-shadow: 0px 1px 2px rgba(60, 64, 67, 0.3), 0px 1px 3px 1px rgba(60, 64, 67, 0.15);\n",
              "      fill: #174EA6;\n",
              "    }\n",
              "\n",
              "    [theme=dark] .colab-df-convert {\n",
              "      background-color: #3B4455;\n",
              "      fill: #D2E3FC;\n",
              "    }\n",
              "\n",
              "    [theme=dark] .colab-df-convert:hover {\n",
              "      background-color: #434B5C;\n",
              "      box-shadow: 0px 1px 3px 1px rgba(0, 0, 0, 0.15);\n",
              "      filter: drop-shadow(0px 1px 2px rgba(0, 0, 0, 0.3));\n",
              "      fill: #FFFFFF;\n",
              "    }\n",
              "  </style>\n",
              "\n",
              "      <script>\n",
              "        const buttonEl =\n",
              "          document.querySelector('#df-0214e35f-5130-44c3-92c0-f23add366eea button.colab-df-convert');\n",
              "        buttonEl.style.display =\n",
              "          google.colab.kernel.accessAllowed ? 'block' : 'none';\n",
              "\n",
              "        async function convertToInteractive(key) {\n",
              "          const element = document.querySelector('#df-0214e35f-5130-44c3-92c0-f23add366eea');\n",
              "          const dataTable =\n",
              "            await google.colab.kernel.invokeFunction('convertToInteractive',\n",
              "                                                     [key], {});\n",
              "          if (!dataTable) return;\n",
              "\n",
              "          const docLinkHtml = 'Like what you see? Visit the ' +\n",
              "            '<a target=\"_blank\" href=https://colab.research.google.com/notebooks/data_table.ipynb>data table notebook</a>'\n",
              "            + ' to learn more about interactive tables.';\n",
              "          element.innerHTML = '';\n",
              "          dataTable['output_type'] = 'display_data';\n",
              "          await google.colab.output.renderOutput(dataTable, element);\n",
              "          const docLink = document.createElement('div');\n",
              "          docLink.innerHTML = docLinkHtml;\n",
              "          element.appendChild(docLink);\n",
              "        }\n",
              "      </script>\n",
              "    </div>\n",
              "  </div>\n",
              "  "
            ]
          },
          "metadata": {},
          "execution_count": 56
        }
      ]
    },
    {
      "cell_type": "code",
      "source": [
        "plt.scatter(df['chroma_cens_kew_0'],df['chroma_cens_kew_1'])\n",
        "plt.title('Scatter Plot')\n",
        "plt.xlabel('cck0')\n",
        "plt.ylabel('cck1')\n",
        "plt.show"
      ],
      "metadata": {
        "colab": {
          "base_uri": "https://localhost:8080/",
          "height": 312
        },
        "id": "sk2OVPa8BRLG",
        "outputId": "86a91db8-c335-4f43-d2c1-611ee14981e4"
      },
      "execution_count": null,
      "outputs": [
        {
          "output_type": "execute_result",
          "data": {
            "text/plain": [
              "<function matplotlib.pyplot.show>"
            ]
          },
          "metadata": {},
          "execution_count": 57
        },
        {
          "output_type": "display_data",
          "data": {
            "text/plain": [
              "<Figure size 432x288 with 1 Axes>"
            ],
            "image/png": "[encoded data removed]"
          },
          "metadata": {
            "needs_background": "light"
          }
        }
      ]
    }
  ]
}