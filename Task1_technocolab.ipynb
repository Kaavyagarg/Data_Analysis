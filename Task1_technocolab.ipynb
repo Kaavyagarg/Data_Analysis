{
  "nbformat": 4,
  "nbformat_minor": 0,
  "metadata": {
    "colab": {
      "provenance": [],
      "authorship_tag": "ABX9TyNjrlqUsq8LqFHfHG9n8MCC",
      "include_colab_link": true
    },
    "kernelspec": {
      "name": "python3",
      "display_name": "Python 3"
    },
    "language_info": {
      "name": "python"
    }
  },
  "cells": [
    {
      "cell_type": "markdown",
      "metadata": {
        "id": "view-in-github",
        "colab_type": "text"
      },
      "source": [
        "<a href=\"https://colab.research.google.com/github/Kaavyagarg/Data_Analysis/blob/main/Task1_technocolab.ipynb\" target=\"_parent\"><img src=\"https://colab.research.google.com/assets/colab-badge.svg\" alt=\"Open In Colab\"/></a>"
      ]
    },
    {
      "cell_type": "code",
      "execution_count": null,
      "metadata": {
        "id": "2lsMwUQSGgG5",
        "colab": {
          "base_uri": "https://localhost:8080/"
        },
        "outputId": "c3af45f6-e9fc-4a60-f38c-5f89f1ed6621"
      },
      "outputs": [
        {
          "output_type": "stream",
          "name": "stdout",
          "text": [
            "Collecting billboard.py\n",
            "  Downloading billboard.py-7.0.0-py2.py3-none-any.whl (7.0 kB)\n",
            "Requirement already satisfied: beautifulsoup4>=4.4.1 in /usr/local/lib/python3.7/dist-packages (from billboard.py) (4.6.3)\n",
            "Requirement already satisfied: requests>=2.2.1 in /usr/local/lib/python3.7/dist-packages (from billboard.py) (2.23.0)\n",
            "Requirement already satisfied: urllib3!=1.25.0,!=1.25.1,<1.26,>=1.21.1 in /usr/local/lib/python3.7/dist-packages (from requests>=2.2.1->billboard.py) (1.24.3)\n",
            "Requirement already satisfied: idna<3,>=2.5 in /usr/local/lib/python3.7/dist-packages (from requests>=2.2.1->billboard.py) (2.10)\n",
            "Requirement already satisfied: certifi>=2017.4.17 in /usr/local/lib/python3.7/dist-packages (from requests>=2.2.1->billboard.py) (2021.10.8)\n",
            "Requirement already satisfied: chardet<4,>=3.0.2 in /usr/local/lib/python3.7/dist-packages (from requests>=2.2.1->billboard.py) (3.0.4)\n",
            "Installing collected packages: billboard.py\n",
            "Successfully installed billboard.py-7.0.0\n"
          ]
        }
      ],
      "source": [
        "pip install billboard.py"
      ]
    },
    {
      "cell_type": "code",
      "source": [
        "# billboard to load data from Billboard.com\n",
        "import billboard\n",
        "# pandas to convert data into DataFrame\n",
        "import pandas as pd"
      ],
      "metadata": {
        "id": "CB9ONVG-GwfJ"
      },
      "execution_count": null,
      "outputs": []
    },
    {
      "cell_type": "code",
      "source": [
        "artists = []\n",
        "year = 2021\n",
        "for y in range(2022-2006):\n",
        "    chart = billboard.ChartData('Top-Artists', year=year)\n",
        "    cnt = 0\n",
        "    for chr in chart:\n",
        "        cnt += 1\n",
        "        if chr.artist not in artists:\n",
        "                artists.append(chr.artist)\n",
        "        if cnt == 10:\n",
        "            break\n",
        "\n",
        "    year -= 1\n",
        "\n",
        "len(artists)"
      ],
      "metadata": {
        "colab": {
          "base_uri": "https://localhost:8080/"
        },
        "id": "hMVNP7dIHn3P",
        "outputId": "2eca6c80-8d63-4c75-bd78-2cd39ddd7d15"
      },
      "execution_count": null,
      "outputs": [
        {
          "output_type": "execute_result",
          "data": {
            "text/plain": [
              "80"
            ]
          },
          "metadata": {},
          "execution_count": 3
        }
      ]
    },
    {
      "cell_type": "code",
      "source": [
        "def getData(type, data, artists, titles, year=None, date=None, label=None):\n",
        "    if date==None:\n",
        "        HotChart = billboard.ChartData(type, year=year)\n",
        "    else:\n",
        "        HotChart = billboard.ChartData(type, date=date)\n",
        "    for hot in HotChart:\n",
        "        # To collect the name of artists that exists in the artist's list and choose another song for the same artist.\n",
        "        # This is to avoid repeat songs and enter artist doesn't exist in artists list.\n",
        "        if hot.title not in titles and hot.artist in artists:\n",
        "                titles.append(hot.title)\n",
        "                data.append({'Artist': hot.artist, 'Title': hot.title, 'Label': label})\n",
        "\n",
        "    return data, titles"
      ],
      "metadata": {
        "id": "IIM7aBbZKMWI"
      },
      "execution_count": null,
      "outputs": []
    },
    {
      "cell_type": "code",
      "source": [
        "data = []\n",
        "titles = []\n",
        "year = 2021\n",
        "for i in range(2022-2006):\n",
        "    data, titles = getData('Hot-100-Songs', data, artists, titles, year, label=1) # popular songs\n",
        "    year -= 1"
      ],
      "metadata": {
        "id": "6rfmLJ8iKVmE"
      },
      "execution_count": null,
      "outputs": []
    },
    {
      "cell_type": "code",
      "source": [
        "print(len(data))\n",
        "print(len(artists))\n",
        "print(len(titles))"
      ],
      "metadata": {
        "colab": {
          "base_uri": "https://localhost:8080/"
        },
        "id": "R57NEInhKYai",
        "outputId": "cebd9ad8-98e9-4810-c288-833420b4337f"
      },
      "execution_count": null,
      "outputs": [
        {
          "output_type": "stream",
          "name": "stdout",
          "text": [
            "403\n",
            "80\n",
            "403\n"
          ]
        }
      ]
    },
    {
      "cell_type": "code",
      "source": [
        "dates = ['2021-12-01','2021-08-01','2021-04-01','2021-01-01',\n",
        "        '2020-12-01','2020-08-01','2020-04-01','2020-01-01',\n",
        "        '2019-12-01','2019-08-01','2019-04-01','2019-01-01',\n",
        "        '2018-12-01','2018-08-01','2018-04-01','2018-01-01',\n",
        "        '2017-12-01','2017-08-01','2017-04-01','2017-01-01',\n",
        "        '2016-12-01','2016-08-01','2016-04-01','2016-01-01',\n",
        "        '2015-12-01','2015-08-01','2015-04-01','2015-01-01',\n",
        "        '2014-12-01','2014-08-01','2014-04-01','2014-01-01',\n",
        "        '2013-12-01','2013-08-01','2013-04-01','2013-01-01',\n",
        "        '2012-12-01','2012-08-01','2012-04-01','2012-01-01',\n",
        "        '2011-12-01','2011-08-01','2011-04-01','2011-01-01',\n",
        "        '2010-12-01','2010-08-01','2010-04-01','2010-01-01',\n",
        "        '2009-12-01','2009-08-01','2009-04-01','2009-01-01',\n",
        "        '2008-12-01','2008-08-01','2008-04-01','2008-01-01',\n",
        "        '2007-12-01','2007-08-01','2007-04-01','2007-01-01',\n",
        "        '2006-12-01','2006-08-01','2006-04-01','2006-01-01']\n",
        "for date in dates:\n",
        "    data, titles = getData('hot-100', data, artists, titles, date=date, label=0) # unpopular songs"
      ],
      "metadata": {
        "id": "_43oecNbKc0y"
      },
      "execution_count": null,
      "outputs": []
    },
    {
      "cell_type": "code",
      "source": [
        "print(len(data))\n",
        "print(len(artists))\n",
        "print(len(titles))"
      ],
      "metadata": {
        "colab": {
          "base_uri": "https://localhost:8080/"
        },
        "id": "zLWdMtHIKfs7",
        "outputId": "e14db43a-e714-4b9d-c55e-a3c4a900f6a2"
      },
      "execution_count": null,
      "outputs": [
        {
          "output_type": "stream",
          "name": "stdout",
          "text": [
            "809\n",
            "80\n",
            "809\n"
          ]
        }
      ]
    },
    {
      "cell_type": "code",
      "source": [
        "df = pd.DataFrame(data)\n",
        "df"
      ],
      "metadata": {
        "colab": {
          "base_uri": "https://localhost:8080/",
          "height": 423
        },
        "id": "LpXepL9uKh2s",
        "outputId": "9f4f5749-6ba2-4a7e-b0fa-2847b97be000"
      },
      "execution_count": null,
      "outputs": [
        {
          "output_type": "execute_result",
          "data": {
            "text/plain": [
              "             Artist                           Title  Label\n",
              "0        The Weeknd                 Blinding Lights      1\n",
              "1    Olivia Rodrigo                        Good 4 U      1\n",
              "2    Olivia Rodrigo                 Drivers License      1\n",
              "3         Lil Nas X  Montero (Call Me By Your Name)      1\n",
              "4               BTS                          Butter      1\n",
              "..              ...                             ...    ...\n",
              "804    Gwen Stefani                       Luxurious      0\n",
              "805         Rihanna    If It's Lovin' That You Want      0\n",
              "806       Lil Wayne                         Fireman      0\n",
              "807     Alicia Keys                     Unbreakable      0\n",
              "808   Rascal Flatts                 Skin (Sarabeth)      0\n",
              "\n",
              "[809 rows x 3 columns]"
            ],
            "text/html": [
              "\n",
              "  <div id=\"df-397ebb29-da62-4fca-a1f6-0744a24182cd\">\n",
              "    <div class=\"colab-df-container\">\n",
              "      <div>\n",
              "<style scoped>\n",
              "    .dataframe tbody tr th:only-of-type {\n",
              "        vertical-align: middle;\n",
              "    }\n",
              "\n",
              "    .dataframe tbody tr th {\n",
              "        vertical-align: top;\n",
              "    }\n",
              "\n",
              "    .dataframe thead th {\n",
              "        text-align: right;\n",
              "    }\n",
              "</style>\n",
              "<table border=\"1\" class=\"dataframe\">\n",
              "  <thead>\n",
              "    <tr style=\"text-align: right;\">\n",
              "      <th></th>\n",
              "      <th>Artist</th>\n",
              "      <th>Title</th>\n",
              "      <th>Label</th>\n",
              "    </tr>\n",
              "  </thead>\n",
              "  <tbody>\n",
              "    <tr>\n",
              "      <th>0</th>\n",
              "      <td>The Weeknd</td>\n",
              "      <td>Blinding Lights</td>\n",
              "      <td>1</td>\n",
              "    </tr>\n",
              "    <tr>\n",
              "      <th>1</th>\n",
              "      <td>Olivia Rodrigo</td>\n",
              "      <td>Good 4 U</td>\n",
              "      <td>1</td>\n",
              "    </tr>\n",
              "    <tr>\n",
              "      <th>2</th>\n",
              "      <td>Olivia Rodrigo</td>\n",
              "      <td>Drivers License</td>\n",
              "      <td>1</td>\n",
              "    </tr>\n",
              "    <tr>\n",
              "      <th>3</th>\n",
              "      <td>Lil Nas X</td>\n",
              "      <td>Montero (Call Me By Your Name)</td>\n",
              "      <td>1</td>\n",
              "    </tr>\n",
              "    <tr>\n",
              "      <th>4</th>\n",
              "      <td>BTS</td>\n",
              "      <td>Butter</td>\n",
              "      <td>1</td>\n",
              "    </tr>\n",
              "    <tr>\n",
              "      <th>...</th>\n",
              "      <td>...</td>\n",
              "      <td>...</td>\n",
              "      <td>...</td>\n",
              "    </tr>\n",
              "    <tr>\n",
              "      <th>804</th>\n",
              "      <td>Gwen Stefani</td>\n",
              "      <td>Luxurious</td>\n",
              "      <td>0</td>\n",
              "    </tr>\n",
              "    <tr>\n",
              "      <th>805</th>\n",
              "      <td>Rihanna</td>\n",
              "      <td>If It's Lovin' That You Want</td>\n",
              "      <td>0</td>\n",
              "    </tr>\n",
              "    <tr>\n",
              "      <th>806</th>\n",
              "      <td>Lil Wayne</td>\n",
              "      <td>Fireman</td>\n",
              "      <td>0</td>\n",
              "    </tr>\n",
              "    <tr>\n",
              "      <th>807</th>\n",
              "      <td>Alicia Keys</td>\n",
              "      <td>Unbreakable</td>\n",
              "      <td>0</td>\n",
              "    </tr>\n",
              "    <tr>\n",
              "      <th>808</th>\n",
              "      <td>Rascal Flatts</td>\n",
              "      <td>Skin (Sarabeth)</td>\n",
              "      <td>0</td>\n",
              "    </tr>\n",
              "  </tbody>\n",
              "</table>\n",
              "<p>809 rows × 3 columns</p>\n",
              "</div>\n",
              "      <button class=\"colab-df-convert\" onclick=\"convertToInteractive('df-397ebb29-da62-4fca-a1f6-0744a24182cd')\"\n",
              "              title=\"Convert this dataframe to an interactive table.\"\n",
              "              style=\"display:none;\">\n",
              "        \n",
              "  <svg xmlns=\"http://www.w3.org/2000/svg\" height=\"24px\"viewBox=\"0 0 24 24\"\n",
              "       width=\"24px\">\n",
              "    <path d=\"M0 0h24v24H0V0z\" fill=\"none\"/>\n",
              "    <path d=\"M18.56 5.44l.94 2.06.94-2.06 2.06-.94-2.06-.94-.94-2.06-.94 2.06-2.06.94zm-11 1L8.5 8.5l.94-2.06 2.06-.94-2.06-.94L8.5 2.5l-.94 2.06-2.06.94zm10 10l.94 2.06.94-2.06 2.06-.94-2.06-.94-.94-2.06-.94 2.06-2.06.94z\"/><path d=\"M17.41 7.96l-1.37-1.37c-.4-.4-.92-.59-1.43-.59-.52 0-1.04.2-1.43.59L10.3 9.45l-7.72 7.72c-.78.78-.78 2.05 0 2.83L4 21.41c.39.39.9.59 1.41.59.51 0 1.02-.2 1.41-.59l7.78-7.78 2.81-2.81c.8-.78.8-2.07 0-2.86zM5.41 20L4 18.59l7.72-7.72 1.47 1.35L5.41 20z\"/>\n",
              "  </svg>\n",
              "      </button>\n",
              "      \n",
              "  <style>\n",
              "    .colab-df-container {\n",
              "      display:flex;\n",
              "      flex-wrap:wrap;\n",
              "      gap: 12px;\n",
              "    }\n",
              "\n",
              "    .colab-df-convert {\n",
              "      background-color: #E8F0FE;\n",
              "      border: none;\n",
              "      border-radius: 50%;\n",
              "      cursor: pointer;\n",
              "      display: none;\n",
              "      fill: #1967D2;\n",
              "      height: 32px;\n",
              "      padding: 0 0 0 0;\n",
              "      width: 32px;\n",
              "    }\n",
              "\n",
              "    .colab-df-convert:hover {\n",
              "      background-color: #E2EBFA;\n",
              "      box-shadow: 0px 1px 2px rgba(60, 64, 67, 0.3), 0px 1px 3px 1px rgba(60, 64, 67, 0.15);\n",
              "      fill: #174EA6;\n",
              "    }\n",
              "\n",
              "    [theme=dark] .colab-df-convert {\n",
              "      background-color: #3B4455;\n",
              "      fill: #D2E3FC;\n",
              "    }\n",
              "\n",
              "    [theme=dark] .colab-df-convert:hover {\n",
              "      background-color: #434B5C;\n",
              "      box-shadow: 0px 1px 3px 1px rgba(0, 0, 0, 0.15);\n",
              "      filter: drop-shadow(0px 1px 2px rgba(0, 0, 0, 0.3));\n",
              "      fill: #FFFFFF;\n",
              "    }\n",
              "  </style>\n",
              "\n",
              "      <script>\n",
              "        const buttonEl =\n",
              "          document.querySelector('#df-397ebb29-da62-4fca-a1f6-0744a24182cd button.colab-df-convert');\n",
              "        buttonEl.style.display =\n",
              "          google.colab.kernel.accessAllowed ? 'block' : 'none';\n",
              "\n",
              "        async function convertToInteractive(key) {\n",
              "          const element = document.querySelector('#df-397ebb29-da62-4fca-a1f6-0744a24182cd');\n",
              "          const dataTable =\n",
              "            await google.colab.kernel.invokeFunction('convertToInteractive',\n",
              "                                                     [key], {});\n",
              "          if (!dataTable) return;\n",
              "\n",
              "          const docLinkHtml = 'Like what you see? Visit the ' +\n",
              "            '<a target=\"_blank\" href=https://colab.research.google.com/notebooks/data_table.ipynb>data table notebook</a>'\n",
              "            + ' to learn more about interactive tables.';\n",
              "          element.innerHTML = '';\n",
              "          dataTable['output_type'] = 'display_data';\n",
              "          await google.colab.output.renderOutput(dataTable, element);\n",
              "          const docLink = document.createElement('div');\n",
              "          docLink.innerHTML = docLinkHtml;\n",
              "          element.appendChild(docLink);\n",
              "        }\n",
              "      </script>\n",
              "    </div>\n",
              "  </div>\n",
              "  "
            ]
          },
          "metadata": {},
          "execution_count": 9
        }
      ]
    },
    {
      "cell_type": "code",
      "source": [
        "df.to_csv('Billboard.csv', index=False)"
      ],
      "metadata": {
        "id": "ivh_PkzqKnhh"
      },
      "execution_count": null,
      "outputs": []
    },
    {
      "cell_type": "code",
      "source": [
        "dataset = pd.read_csv('Billboard.csv')\n",
        "dataset"
      ],
      "metadata": {
        "colab": {
          "base_uri": "https://localhost:8080/",
          "height": 423
        },
        "id": "R6Q7tmO6KpeR",
        "outputId": "9a301387-02ef-4b8c-82bd-0692f80cabb2"
      },
      "execution_count": null,
      "outputs": [
        {
          "output_type": "execute_result",
          "data": {
            "text/plain": [
              "             Artist                           Title  Label\n",
              "0        The Weeknd                 Blinding Lights      1\n",
              "1    Olivia Rodrigo                        Good 4 U      1\n",
              "2    Olivia Rodrigo                 Drivers License      1\n",
              "3         Lil Nas X  Montero (Call Me By Your Name)      1\n",
              "4               BTS                          Butter      1\n",
              "..              ...                             ...    ...\n",
              "804    Gwen Stefani                       Luxurious      0\n",
              "805         Rihanna    If It's Lovin' That You Want      0\n",
              "806       Lil Wayne                         Fireman      0\n",
              "807     Alicia Keys                     Unbreakable      0\n",
              "808   Rascal Flatts                 Skin (Sarabeth)      0\n",
              "\n",
              "[809 rows x 3 columns]"
            ],
            "text/html": [
              "\n",
              "  <div id=\"df-bb8f54aa-cb4d-45e9-9b87-fae5eb86f55a\">\n",
              "    <div class=\"colab-df-container\">\n",
              "      <div>\n",
              "<style scoped>\n",
              "    .dataframe tbody tr th:only-of-type {\n",
              "        vertical-align: middle;\n",
              "    }\n",
              "\n",
              "    .dataframe tbody tr th {\n",
              "        vertical-align: top;\n",
              "    }\n",
              "\n",
              "    .dataframe thead th {\n",
              "        text-align: right;\n",
              "    }\n",
              "</style>\n",
              "<table border=\"1\" class=\"dataframe\">\n",
              "  <thead>\n",
              "    <tr style=\"text-align: right;\">\n",
              "      <th></th>\n",
              "      <th>Artist</th>\n",
              "      <th>Title</th>\n",
              "      <th>Label</th>\n",
              "    </tr>\n",
              "  </thead>\n",
              "  <tbody>\n",
              "    <tr>\n",
              "      <th>0</th>\n",
              "      <td>The Weeknd</td>\n",
              "      <td>Blinding Lights</td>\n",
              "      <td>1</td>\n",
              "    </tr>\n",
              "    <tr>\n",
              "      <th>1</th>\n",
              "      <td>Olivia Rodrigo</td>\n",
              "      <td>Good 4 U</td>\n",
              "      <td>1</td>\n",
              "    </tr>\n",
              "    <tr>\n",
              "      <th>2</th>\n",
              "      <td>Olivia Rodrigo</td>\n",
              "      <td>Drivers License</td>\n",
              "      <td>1</td>\n",
              "    </tr>\n",
              "    <tr>\n",
              "      <th>3</th>\n",
              "      <td>Lil Nas X</td>\n",
              "      <td>Montero (Call Me By Your Name)</td>\n",
              "      <td>1</td>\n",
              "    </tr>\n",
              "    <tr>\n",
              "      <th>4</th>\n",
              "      <td>BTS</td>\n",
              "      <td>Butter</td>\n",
              "      <td>1</td>\n",
              "    </tr>\n",
              "    <tr>\n",
              "      <th>...</th>\n",
              "      <td>...</td>\n",
              "      <td>...</td>\n",
              "      <td>...</td>\n",
              "    </tr>\n",
              "    <tr>\n",
              "      <th>804</th>\n",
              "      <td>Gwen Stefani</td>\n",
              "      <td>Luxurious</td>\n",
              "      <td>0</td>\n",
              "    </tr>\n",
              "    <tr>\n",
              "      <th>805</th>\n",
              "      <td>Rihanna</td>\n",
              "      <td>If It's Lovin' That You Want</td>\n",
              "      <td>0</td>\n",
              "    </tr>\n",
              "    <tr>\n",
              "      <th>806</th>\n",
              "      <td>Lil Wayne</td>\n",
              "      <td>Fireman</td>\n",
              "      <td>0</td>\n",
              "    </tr>\n",
              "    <tr>\n",
              "      <th>807</th>\n",
              "      <td>Alicia Keys</td>\n",
              "      <td>Unbreakable</td>\n",
              "      <td>0</td>\n",
              "    </tr>\n",
              "    <tr>\n",
              "      <th>808</th>\n",
              "      <td>Rascal Flatts</td>\n",
              "      <td>Skin (Sarabeth)</td>\n",
              "      <td>0</td>\n",
              "    </tr>\n",
              "  </tbody>\n",
              "</table>\n",
              "<p>809 rows × 3 columns</p>\n",
              "</div>\n",
              "      <button class=\"colab-df-convert\" onclick=\"convertToInteractive('df-bb8f54aa-cb4d-45e9-9b87-fae5eb86f55a')\"\n",
              "              title=\"Convert this dataframe to an interactive table.\"\n",
              "              style=\"display:none;\">\n",
              "        \n",
              "  <svg xmlns=\"http://www.w3.org/2000/svg\" height=\"24px\"viewBox=\"0 0 24 24\"\n",
              "       width=\"24px\">\n",
              "    <path d=\"M0 0h24v24H0V0z\" fill=\"none\"/>\n",
              "    <path d=\"M18.56 5.44l.94 2.06.94-2.06 2.06-.94-2.06-.94-.94-2.06-.94 2.06-2.06.94zm-11 1L8.5 8.5l.94-2.06 2.06-.94-2.06-.94L8.5 2.5l-.94 2.06-2.06.94zm10 10l.94 2.06.94-2.06 2.06-.94-2.06-.94-.94-2.06-.94 2.06-2.06.94z\"/><path d=\"M17.41 7.96l-1.37-1.37c-.4-.4-.92-.59-1.43-.59-.52 0-1.04.2-1.43.59L10.3 9.45l-7.72 7.72c-.78.78-.78 2.05 0 2.83L4 21.41c.39.39.9.59 1.41.59.51 0 1.02-.2 1.41-.59l7.78-7.78 2.81-2.81c.8-.78.8-2.07 0-2.86zM5.41 20L4 18.59l7.72-7.72 1.47 1.35L5.41 20z\"/>\n",
              "  </svg>\n",
              "      </button>\n",
              "      \n",
              "  <style>\n",
              "    .colab-df-container {\n",
              "      display:flex;\n",
              "      flex-wrap:wrap;\n",
              "      gap: 12px;\n",
              "    }\n",
              "\n",
              "    .colab-df-convert {\n",
              "      background-color: #E8F0FE;\n",
              "      border: none;\n",
              "      border-radius: 50%;\n",
              "      cursor: pointer;\n",
              "      display: none;\n",
              "      fill: #1967D2;\n",
              "      height: 32px;\n",
              "      padding: 0 0 0 0;\n",
              "      width: 32px;\n",
              "    }\n",
              "\n",
              "    .colab-df-convert:hover {\n",
              "      background-color: #E2EBFA;\n",
              "      box-shadow: 0px 1px 2px rgba(60, 64, 67, 0.3), 0px 1px 3px 1px rgba(60, 64, 67, 0.15);\n",
              "      fill: #174EA6;\n",
              "    }\n",
              "\n",
              "    [theme=dark] .colab-df-convert {\n",
              "      background-color: #3B4455;\n",
              "      fill: #D2E3FC;\n",
              "    }\n",
              "\n",
              "    [theme=dark] .colab-df-convert:hover {\n",
              "      background-color: #434B5C;\n",
              "      box-shadow: 0px 1px 3px 1px rgba(0, 0, 0, 0.15);\n",
              "      filter: drop-shadow(0px 1px 2px rgba(0, 0, 0, 0.3));\n",
              "      fill: #FFFFFF;\n",
              "    }\n",
              "  </style>\n",
              "\n",
              "      <script>\n",
              "        const buttonEl =\n",
              "          document.querySelector('#df-bb8f54aa-cb4d-45e9-9b87-fae5eb86f55a button.colab-df-convert');\n",
              "        buttonEl.style.display =\n",
              "          google.colab.kernel.accessAllowed ? 'block' : 'none';\n",
              "\n",
              "        async function convertToInteractive(key) {\n",
              "          const element = document.querySelector('#df-bb8f54aa-cb4d-45e9-9b87-fae5eb86f55a');\n",
              "          const dataTable =\n",
              "            await google.colab.kernel.invokeFunction('convertToInteractive',\n",
              "                                                     [key], {});\n",
              "          if (!dataTable) return;\n",
              "\n",
              "          const docLinkHtml = 'Like what you see? Visit the ' +\n",
              "            '<a target=\"_blank\" href=https://colab.research.google.com/notebooks/data_table.ipynb>data table notebook</a>'\n",
              "            + ' to learn more about interactive tables.';\n",
              "          element.innerHTML = '';\n",
              "          dataTable['output_type'] = 'display_data';\n",
              "          await google.colab.output.renderOutput(dataTable, element);\n",
              "          const docLink = document.createElement('div');\n",
              "          docLink.innerHTML = docLinkHtml;\n",
              "          element.appendChild(docLink);\n",
              "        }\n",
              "      </script>\n",
              "    </div>\n",
              "  </div>\n",
              "  "
            ]
          },
          "metadata": {},
          "execution_count": 11
        }
      ]
    },
    {
      "cell_type": "code",
      "source": [
        "pwd!"
      ],
      "metadata": {
        "colab": {
          "base_uri": "https://localhost:8080/",
          "height": 35
        },
        "id": "PAh2WkUf_YcN",
        "outputId": "af5c2295-bb34-46a2-9540-485b80ad49f9"
      },
      "execution_count": null,
      "outputs": [
        {
          "output_type": "execute_result",
          "data": {
            "text/plain": [
              "'/content'"
            ],
            "application/vnd.google.colaboratory.intrinsic+json": {
              "type": "string"
            }
          },
          "metadata": {},
          "execution_count": 12
        }
      ]
    },
    {
      "cell_type": "code",
      "source": [
        "\n",
        "from google.colab import drive\n",
        "drive.mount('/content/drive')"
      ],
      "metadata": {
        "colab": {
          "base_uri": "https://localhost:8080/"
        },
        "id": "HN9WIwqmlFfy",
        "outputId": "eb58263c-7d26-458d-f6f1-80018d42d4c4"
      },
      "execution_count": null,
      "outputs": [
        {
          "output_type": "stream",
          "name": "stdout",
          "text": [
            "Mounted at /content/drive\n"
          ]
        }
      ]
    },
    {
      "cell_type": "code",
      "source": [
        "import pandas as pd\n",
        "dataset = pd.read_csv('Billboard.csv')\n",
        "print(dataset.shape)\n",
        "title = list(dataset['Title'])\n",
        "data =[]\n",
        "df.to_csv('Billboard.csv',index=False)"
      ],
      "metadata": {
        "colab": {
          "base_uri": "https://localhost:8080/"
        },
        "id": "vSXi9IjVX90i",
        "outputId": "a1cd5a5e-869a-4b98-d041-89c9529ec428"
      },
      "execution_count": null,
      "outputs": [
        {
          "output_type": "stream",
          "name": "stdout",
          "text": [
            "(809, 3)\n"
          ]
        }
      ]
    },
    {
      "cell_type": "code",
      "source": [
        "pip install youtube_dl\n"
      ],
      "metadata": {
        "colab": {
          "base_uri": "https://localhost:8080/"
        },
        "id": "Bq3eM__W0vo4",
        "outputId": "4c2b1a04-ba87-46df-ac4f-0a8681f0dac5"
      },
      "execution_count": null,
      "outputs": [
        {
          "output_type": "stream",
          "name": "stdout",
          "text": [
            "Collecting youtube_dl\n",
            "  Downloading youtube_dl-2021.12.17-py2.py3-none-any.whl (1.9 MB)\n",
            "\u001b[?25l\r\u001b[K     |▏                               | 10 kB 15.5 MB/s eta 0:00:01\r\u001b[K     |▍                               | 20 kB 21.8 MB/s eta 0:00:01\r\u001b[K     |▌                               | 30 kB 17.7 MB/s eta 0:00:01\r\u001b[K     |▊                               | 40 kB 7.7 MB/s eta 0:00:01\r\u001b[K     |▉                               | 51 kB 7.8 MB/s eta 0:00:01\r\u001b[K     |█                               | 61 kB 9.2 MB/s eta 0:00:01\r\u001b[K     |█▏                              | 71 kB 8.7 MB/s eta 0:00:01\r\u001b[K     |█▍                              | 81 kB 8.9 MB/s eta 0:00:01\r\u001b[K     |█▌                              | 92 kB 9.8 MB/s eta 0:00:01\r\u001b[K     |█▊                              | 102 kB 8.4 MB/s eta 0:00:01\r\u001b[K     |██                              | 112 kB 8.4 MB/s eta 0:00:01\r\u001b[K     |██                              | 122 kB 8.4 MB/s eta 0:00:01\r\u001b[K     |██▎                             | 133 kB 8.4 MB/s eta 0:00:01\r\u001b[K     |██▍                             | 143 kB 8.4 MB/s eta 0:00:01\r\u001b[K     |██▋                             | 153 kB 8.4 MB/s eta 0:00:01\r\u001b[K     |██▊                             | 163 kB 8.4 MB/s eta 0:00:01\r\u001b[K     |███                             | 174 kB 8.4 MB/s eta 0:00:01\r\u001b[K     |███                             | 184 kB 8.4 MB/s eta 0:00:01\r\u001b[K     |███▎                            | 194 kB 8.4 MB/s eta 0:00:01\r\u001b[K     |███▌                            | 204 kB 8.4 MB/s eta 0:00:01\r\u001b[K     |███▋                            | 215 kB 8.4 MB/s eta 0:00:01\r\u001b[K     |███▉                            | 225 kB 8.4 MB/s eta 0:00:01\r\u001b[K     |████                            | 235 kB 8.4 MB/s eta 0:00:01\r\u001b[K     |████▏                           | 245 kB 8.4 MB/s eta 0:00:01\r\u001b[K     |████▎                           | 256 kB 8.4 MB/s eta 0:00:01\r\u001b[K     |████▌                           | 266 kB 8.4 MB/s eta 0:00:01\r\u001b[K     |████▋                           | 276 kB 8.4 MB/s eta 0:00:01\r\u001b[K     |████▉                           | 286 kB 8.4 MB/s eta 0:00:01\r\u001b[K     |█████                           | 296 kB 8.4 MB/s eta 0:00:01\r\u001b[K     |█████▏                          | 307 kB 8.4 MB/s eta 0:00:01\r\u001b[K     |█████▍                          | 317 kB 8.4 MB/s eta 0:00:01\r\u001b[K     |█████▌                          | 327 kB 8.4 MB/s eta 0:00:01\r\u001b[K     |█████▊                          | 337 kB 8.4 MB/s eta 0:00:01\r\u001b[K     |█████▉                          | 348 kB 8.4 MB/s eta 0:00:01\r\u001b[K     |██████                          | 358 kB 8.4 MB/s eta 0:00:01\r\u001b[K     |██████▏                         | 368 kB 8.4 MB/s eta 0:00:01\r\u001b[K     |██████▍                         | 378 kB 8.4 MB/s eta 0:00:01\r\u001b[K     |██████▌                         | 389 kB 8.4 MB/s eta 0:00:01\r\u001b[K     |██████▊                         | 399 kB 8.4 MB/s eta 0:00:01\r\u001b[K     |███████                         | 409 kB 8.4 MB/s eta 0:00:01\r\u001b[K     |███████                         | 419 kB 8.4 MB/s eta 0:00:01\r\u001b[K     |███████▎                        | 430 kB 8.4 MB/s eta 0:00:01\r\u001b[K     |███████▍                        | 440 kB 8.4 MB/s eta 0:00:01\r\u001b[K     |███████▋                        | 450 kB 8.4 MB/s eta 0:00:01\r\u001b[K     |███████▊                        | 460 kB 8.4 MB/s eta 0:00:01\r\u001b[K     |████████                        | 471 kB 8.4 MB/s eta 0:00:01\r\u001b[K     |████████                        | 481 kB 8.4 MB/s eta 0:00:01\r\u001b[K     |████████▎                       | 491 kB 8.4 MB/s eta 0:00:01\r\u001b[K     |████████▍                       | 501 kB 8.4 MB/s eta 0:00:01\r\u001b[K     |████████▋                       | 512 kB 8.4 MB/s eta 0:00:01\r\u001b[K     |████████▉                       | 522 kB 8.4 MB/s eta 0:00:01\r\u001b[K     |█████████                       | 532 kB 8.4 MB/s eta 0:00:01\r\u001b[K     |█████████▏                      | 542 kB 8.4 MB/s eta 0:00:01\r\u001b[K     |█████████▎                      | 552 kB 8.4 MB/s eta 0:00:01\r\u001b[K     |█████████▌                      | 563 kB 8.4 MB/s eta 0:00:01\r\u001b[K     |█████████▋                      | 573 kB 8.4 MB/s eta 0:00:01\r\u001b[K     |█████████▉                      | 583 kB 8.4 MB/s eta 0:00:01\r\u001b[K     |██████████                      | 593 kB 8.4 MB/s eta 0:00:01\r\u001b[K     |██████████▏                     | 604 kB 8.4 MB/s eta 0:00:01\r\u001b[K     |██████████▍                     | 614 kB 8.4 MB/s eta 0:00:01\r\u001b[K     |██████████▌                     | 624 kB 8.4 MB/s eta 0:00:01\r\u001b[K     |██████████▊                     | 634 kB 8.4 MB/s eta 0:00:01\r\u001b[K     |██████████▉                     | 645 kB 8.4 MB/s eta 0:00:01\r\u001b[K     |███████████                     | 655 kB 8.4 MB/s eta 0:00:01\r\u001b[K     |███████████▏                    | 665 kB 8.4 MB/s eta 0:00:01\r\u001b[K     |███████████▍                    | 675 kB 8.4 MB/s eta 0:00:01\r\u001b[K     |███████████▌                    | 686 kB 8.4 MB/s eta 0:00:01\r\u001b[K     |███████████▊                    | 696 kB 8.4 MB/s eta 0:00:01\r\u001b[K     |███████████▉                    | 706 kB 8.4 MB/s eta 0:00:01\r\u001b[K     |████████████                    | 716 kB 8.4 MB/s eta 0:00:01\r\u001b[K     |████████████▎                   | 727 kB 8.4 MB/s eta 0:00:01\r\u001b[K     |████████████▍                   | 737 kB 8.4 MB/s eta 0:00:01\r\u001b[K     |████████████▋                   | 747 kB 8.4 MB/s eta 0:00:01\r\u001b[K     |████████████▊                   | 757 kB 8.4 MB/s eta 0:00:01\r\u001b[K     |█████████████                   | 768 kB 8.4 MB/s eta 0:00:01\r\u001b[K     |█████████████                   | 778 kB 8.4 MB/s eta 0:00:01\r\u001b[K     |█████████████▎                  | 788 kB 8.4 MB/s eta 0:00:01\r\u001b[K     |█████████████▍                  | 798 kB 8.4 MB/s eta 0:00:01\r\u001b[K     |█████████████▋                  | 808 kB 8.4 MB/s eta 0:00:01\r\u001b[K     |█████████████▉                  | 819 kB 8.4 MB/s eta 0:00:01\r\u001b[K     |██████████████                  | 829 kB 8.4 MB/s eta 0:00:01\r\u001b[K     |██████████████▏                 | 839 kB 8.4 MB/s eta 0:00:01\r\u001b[K     |██████████████▎                 | 849 kB 8.4 MB/s eta 0:00:01\r\u001b[K     |██████████████▌                 | 860 kB 8.4 MB/s eta 0:00:01\r\u001b[K     |██████████████▋                 | 870 kB 8.4 MB/s eta 0:00:01\r\u001b[K     |██████████████▉                 | 880 kB 8.4 MB/s eta 0:00:01\r\u001b[K     |███████████████                 | 890 kB 8.4 MB/s eta 0:00:01\r\u001b[K     |███████████████▏                | 901 kB 8.4 MB/s eta 0:00:01\r\u001b[K     |███████████████▎                | 911 kB 8.4 MB/s eta 0:00:01\r\u001b[K     |███████████████▌                | 921 kB 8.4 MB/s eta 0:00:01\r\u001b[K     |███████████████▊                | 931 kB 8.4 MB/s eta 0:00:01\r\u001b[K     |███████████████▉                | 942 kB 8.4 MB/s eta 0:00:01\r\u001b[K     |████████████████                | 952 kB 8.4 MB/s eta 0:00:01\r\u001b[K     |████████████████▏               | 962 kB 8.4 MB/s eta 0:00:01\r\u001b[K     |████████████████▍               | 972 kB 8.4 MB/s eta 0:00:01\r\u001b[K     |████████████████▌               | 983 kB 8.4 MB/s eta 0:00:01\r\u001b[K     |████████████████▊               | 993 kB 8.4 MB/s eta 0:00:01\r\u001b[K     |████████████████▉               | 1.0 MB 8.4 MB/s eta 0:00:01\r\u001b[K     |█████████████████               | 1.0 MB 8.4 MB/s eta 0:00:01\r\u001b[K     |█████████████████▎              | 1.0 MB 8.4 MB/s eta 0:00:01\r\u001b[K     |█████████████████▍              | 1.0 MB 8.4 MB/s eta 0:00:01\r\u001b[K     |█████████████████▋              | 1.0 MB 8.4 MB/s eta 0:00:01\r\u001b[K     |█████████████████▊              | 1.1 MB 8.4 MB/s eta 0:00:01\r\u001b[K     |██████████████████              | 1.1 MB 8.4 MB/s eta 0:00:01\r\u001b[K     |██████████████████              | 1.1 MB 8.4 MB/s eta 0:00:01\r\u001b[K     |██████████████████▎             | 1.1 MB 8.4 MB/s eta 0:00:01\r\u001b[K     |██████████████████▍             | 1.1 MB 8.4 MB/s eta 0:00:01\r\u001b[K     |██████████████████▋             | 1.1 MB 8.4 MB/s eta 0:00:01\r\u001b[K     |██████████████████▊             | 1.1 MB 8.4 MB/s eta 0:00:01\r\u001b[K     |███████████████████             | 1.1 MB 8.4 MB/s eta 0:00:01\r\u001b[K     |███████████████████▏            | 1.1 MB 8.4 MB/s eta 0:00:01\r\u001b[K     |███████████████████▎            | 1.1 MB 8.4 MB/s eta 0:00:01\r\u001b[K     |███████████████████▌            | 1.2 MB 8.4 MB/s eta 0:00:01\r\u001b[K     |███████████████████▋            | 1.2 MB 8.4 MB/s eta 0:00:01\r\u001b[K     |███████████████████▉            | 1.2 MB 8.4 MB/s eta 0:00:01\r\u001b[K     |████████████████████            | 1.2 MB 8.4 MB/s eta 0:00:01\r\u001b[K     |████████████████████▏           | 1.2 MB 8.4 MB/s eta 0:00:01\r\u001b[K     |████████████████████▎           | 1.2 MB 8.4 MB/s eta 0:00:01\r\u001b[K     |████████████████████▌           | 1.2 MB 8.4 MB/s eta 0:00:01\r\u001b[K     |████████████████████▊           | 1.2 MB 8.4 MB/s eta 0:00:01\r\u001b[K     |████████████████████▉           | 1.2 MB 8.4 MB/s eta 0:00:01\r\u001b[K     |█████████████████████           | 1.2 MB 8.4 MB/s eta 0:00:01\r\u001b[K     |█████████████████████▏          | 1.3 MB 8.4 MB/s eta 0:00:01\r\u001b[K     |█████████████████████▍          | 1.3 MB 8.4 MB/s eta 0:00:01\r\u001b[K     |█████████████████████▌          | 1.3 MB 8.4 MB/s eta 0:00:01\r\u001b[K     |█████████████████████▊          | 1.3 MB 8.4 MB/s eta 0:00:01\r\u001b[K     |█████████████████████▉          | 1.3 MB 8.4 MB/s eta 0:00:01\r\u001b[K     |██████████████████████          | 1.3 MB 8.4 MB/s eta 0:00:01\r\u001b[K     |██████████████████████▏         | 1.3 MB 8.4 MB/s eta 0:00:01\r\u001b[K     |██████████████████████▍         | 1.3 MB 8.4 MB/s eta 0:00:01\r\u001b[K     |██████████████████████▋         | 1.3 MB 8.4 MB/s eta 0:00:01\r\u001b[K     |██████████████████████▊         | 1.4 MB 8.4 MB/s eta 0:00:01\r\u001b[K     |███████████████████████         | 1.4 MB 8.4 MB/s eta 0:00:01\r\u001b[K     |███████████████████████         | 1.4 MB 8.4 MB/s eta 0:00:01\r\u001b[K     |███████████████████████▎        | 1.4 MB 8.4 MB/s eta 0:00:01\r\u001b[K     |███████████████████████▍        | 1.4 MB 8.4 MB/s eta 0:00:01\r\u001b[K     |███████████████████████▋        | 1.4 MB 8.4 MB/s eta 0:00:01\r\u001b[K     |███████████████████████▊        | 1.4 MB 8.4 MB/s eta 0:00:01\r\u001b[K     |████████████████████████        | 1.4 MB 8.4 MB/s eta 0:00:01\r\u001b[K     |████████████████████████▏       | 1.4 MB 8.4 MB/s eta 0:00:01\r\u001b[K     |████████████████████████▎       | 1.4 MB 8.4 MB/s eta 0:00:01\r\u001b[K     |████████████████████████▌       | 1.5 MB 8.4 MB/s eta 0:00:01\r\u001b[K     |████████████████████████▋       | 1.5 MB 8.4 MB/s eta 0:00:01\r\u001b[K     |████████████████████████▉       | 1.5 MB 8.4 MB/s eta 0:00:01\r\u001b[K     |█████████████████████████       | 1.5 MB 8.4 MB/s eta 0:00:01\r\u001b[K     |█████████████████████████▏      | 1.5 MB 8.4 MB/s eta 0:00:01\r\u001b[K     |█████████████████████████▎      | 1.5 MB 8.4 MB/s eta 0:00:01\r\u001b[K     |█████████████████████████▌      | 1.5 MB 8.4 MB/s eta 0:00:01\r\u001b[K     |█████████████████████████▋      | 1.5 MB 8.4 MB/s eta 0:00:01\r\u001b[K     |█████████████████████████▉      | 1.5 MB 8.4 MB/s eta 0:00:01\r\u001b[K     |██████████████████████████      | 1.5 MB 8.4 MB/s eta 0:00:01\r\u001b[K     |██████████████████████████▏     | 1.6 MB 8.4 MB/s eta 0:00:01\r\u001b[K     |██████████████████████████▍     | 1.6 MB 8.4 MB/s eta 0:00:01\r\u001b[K     |██████████████████████████▌     | 1.6 MB 8.4 MB/s eta 0:00:01\r\u001b[K     |██████████████████████████▊     | 1.6 MB 8.4 MB/s eta 0:00:01\r\u001b[K     |██████████████████████████▉     | 1.6 MB 8.4 MB/s eta 0:00:01\r\u001b[K     |███████████████████████████     | 1.6 MB 8.4 MB/s eta 0:00:01\r\u001b[K     |███████████████████████████▏    | 1.6 MB 8.4 MB/s eta 0:00:01\r\u001b[K     |███████████████████████████▍    | 1.6 MB 8.4 MB/s eta 0:00:01\r\u001b[K     |███████████████████████████▋    | 1.6 MB 8.4 MB/s eta 0:00:01\r\u001b[K     |███████████████████████████▊    | 1.6 MB 8.4 MB/s eta 0:00:01\r\u001b[K     |████████████████████████████    | 1.7 MB 8.4 MB/s eta 0:00:01\r\u001b[K     |████████████████████████████    | 1.7 MB 8.4 MB/s eta 0:00:01\r\u001b[K     |████████████████████████████▎   | 1.7 MB 8.4 MB/s eta 0:00:01\r\u001b[K     |████████████████████████████▍   | 1.7 MB 8.4 MB/s eta 0:00:01\r\u001b[K     |████████████████████████████▋   | 1.7 MB 8.4 MB/s eta 0:00:01\r\u001b[K     |████████████████████████████▊   | 1.7 MB 8.4 MB/s eta 0:00:01\r\u001b[K     |█████████████████████████████   | 1.7 MB 8.4 MB/s eta 0:00:01\r\u001b[K     |█████████████████████████████   | 1.7 MB 8.4 MB/s eta 0:00:01\r\u001b[K     |█████████████████████████████▎  | 1.7 MB 8.4 MB/s eta 0:00:01\r\u001b[K     |█████████████████████████████▌  | 1.8 MB 8.4 MB/s eta 0:00:01\r\u001b[K     |█████████████████████████████▋  | 1.8 MB 8.4 MB/s eta 0:00:01\r\u001b[K     |█████████████████████████████▉  | 1.8 MB 8.4 MB/s eta 0:00:01\r\u001b[K     |██████████████████████████████  | 1.8 MB 8.4 MB/s eta 0:00:01\r\u001b[K     |██████████████████████████████▏ | 1.8 MB 8.4 MB/s eta 0:00:01\r\u001b[K     |██████████████████████████████▎ | 1.8 MB 8.4 MB/s eta 0:00:01\r\u001b[K     |██████████████████████████████▌ | 1.8 MB 8.4 MB/s eta 0:00:01\r\u001b[K     |██████████████████████████████▋ | 1.8 MB 8.4 MB/s eta 0:00:01\r\u001b[K     |██████████████████████████████▉ | 1.8 MB 8.4 MB/s eta 0:00:01\r\u001b[K     |███████████████████████████████ | 1.8 MB 8.4 MB/s eta 0:00:01\r\u001b[K     |███████████████████████████████▏| 1.9 MB 8.4 MB/s eta 0:00:01\r\u001b[K     |███████████████████████████████▍| 1.9 MB 8.4 MB/s eta 0:00:01\r\u001b[K     |███████████████████████████████▌| 1.9 MB 8.4 MB/s eta 0:00:01\r\u001b[K     |███████████████████████████████▊| 1.9 MB 8.4 MB/s eta 0:00:01\r\u001b[K     |███████████████████████████████▉| 1.9 MB 8.4 MB/s eta 0:00:01\r\u001b[K     |████████████████████████████████| 1.9 MB 8.4 MB/s \n",
            "\u001b[?25hInstalling collected packages: youtube-dl\n",
            "Successfully installed youtube-dl-2021.12.17\n"
          ]
        }
      ]
    },
    {
      "cell_type": "code",
      "source": [
        "import os\n",
        "from requests import get\n",
        "from youtube_dl import YoutubeDL\n",
        "\n",
        "YDL_options = {'format':'bestaudio','noplaylist':'True'}\n",
        "def search(arg,type):\n",
        "  with YoutubeDL(YDL_options) as ydl :\n",
        "    try:\n",
        "      get(arg)\n",
        "    except:\n",
        "      song = ydl.extract_info(f'ytsearc:{arg}',download =True) ['entries'][0]\n",
        "    else:\n",
        "      song=ydl.extract_info(arg,download = True)\n",
        "  oldpath = song['title'] +'[' + song['id'] + '].' + song['ext']\n",
        "  newpath = f\"{type}/{song['title']}.mp3\"\n",
        "  os.rename(f\"{oldpath}\",newpath)\n",
        "  return song,newpath\n",
        "#def search(arg):\n",
        " #   with YoutubeDL(YDL_OPTIONS) as ydl:\n",
        "  #      try:\n",
        "   #         get(arg)\n",
        "    #    except:\n",
        "     #       video = ydl.extract_info(f\"ytsearch:{arg}\", download=False)['entries'][0]\n",
        "      #  else:\n",
        "       #     video = ydl.extract_info(arg, download=False)\n",
        "\n",
        "    #return video"
      ],
      "metadata": {
        "id": "yWQ51tYQd_CQ"
      },
      "execution_count": null,
      "outputs": []
    },
    {
      "cell_type": "code",
      "source": [
        "dataset.reset_index()\n",
        "del dataset['Title']\n",
        "dataset.to_csv('Data\\DataWithMusic.csv',index=False)"
      ],
      "metadata": {
        "id": "npCXZrSZeLYQ"
      },
      "execution_count": null,
      "outputs": []
    },
    {
      "cell_type": "code",
      "source": [
        "import pandas as pd\n",
        "dataset= pd.read_csv('Data\\DataWithMusic.csv')\n",
        "Paths = list(dataset['Path'])\n",
        "Titles =list(dataset['Title'])\n",
        "data =[]"
      ],
      "metadata": {
        "id": "uQgDYuVYe83y",
        "colab": {
          "base_uri": "https://localhost:8080/",
          "height": 502
        },
        "outputId": "34430941-1b76-4d3d-b321-c33da5c84213"
      },
      "execution_count": null,
      "outputs": [
        {
          "output_type": "error",
          "ename": "KeyError",
          "evalue": "ignored",
          "traceback": [
            "\u001b[0;31m---------------------------------------------------------------------------\u001b[0m",
            "\u001b[0;31mKeyError\u001b[0m                                  Traceback (most recent call last)",
            "\u001b[0;32m/usr/local/lib/python3.7/dist-packages/pandas/core/indexes/base.py\u001b[0m in \u001b[0;36mget_loc\u001b[0;34m(self, key, method, tolerance)\u001b[0m\n\u001b[1;32m   3360\u001b[0m             \u001b[0;32mtry\u001b[0m\u001b[0;34m:\u001b[0m\u001b[0;34m\u001b[0m\u001b[0;34m\u001b[0m\u001b[0m\n\u001b[0;32m-> 3361\u001b[0;31m                 \u001b[0;32mreturn\u001b[0m \u001b[0mself\u001b[0m\u001b[0;34m.\u001b[0m\u001b[0m_engine\u001b[0m\u001b[0;34m.\u001b[0m\u001b[0mget_loc\u001b[0m\u001b[0;34m(\u001b[0m\u001b[0mcasted_key\u001b[0m\u001b[0;34m)\u001b[0m\u001b[0;34m\u001b[0m\u001b[0;34m\u001b[0m\u001b[0m\n\u001b[0m\u001b[1;32m   3362\u001b[0m             \u001b[0;32mexcept\u001b[0m \u001b[0mKeyError\u001b[0m \u001b[0;32mas\u001b[0m \u001b[0merr\u001b[0m\u001b[0;34m:\u001b[0m\u001b[0;34m\u001b[0m\u001b[0;34m\u001b[0m\u001b[0m\n",
            "\u001b[0;32m/usr/local/lib/python3.7/dist-packages/pandas/_libs/index.pyx\u001b[0m in \u001b[0;36mpandas._libs.index.IndexEngine.get_loc\u001b[0;34m()\u001b[0m\n",
            "\u001b[0;32m/usr/local/lib/python3.7/dist-packages/pandas/_libs/index.pyx\u001b[0m in \u001b[0;36mpandas._libs.index.IndexEngine.get_loc\u001b[0;34m()\u001b[0m\n",
            "\u001b[0;32mpandas/_libs/hashtable_class_helper.pxi\u001b[0m in \u001b[0;36mpandas._libs.hashtable.PyObjectHashTable.get_item\u001b[0;34m()\u001b[0m\n",
            "\u001b[0;32mpandas/_libs/hashtable_class_helper.pxi\u001b[0m in \u001b[0;36mpandas._libs.hashtable.PyObjectHashTable.get_item\u001b[0;34m()\u001b[0m\n",
            "\u001b[0;31mKeyError\u001b[0m: 'Path'",
            "\nThe above exception was the direct cause of the following exception:\n",
            "\u001b[0;31mKeyError\u001b[0m                                  Traceback (most recent call last)",
            "\u001b[0;32m<ipython-input-24-684a12eaeeb9>\u001b[0m in \u001b[0;36m<module>\u001b[0;34m()\u001b[0m\n\u001b[1;32m      1\u001b[0m \u001b[0;32mimport\u001b[0m \u001b[0mpandas\u001b[0m \u001b[0;32mas\u001b[0m \u001b[0mpd\u001b[0m\u001b[0;34m\u001b[0m\u001b[0;34m\u001b[0m\u001b[0m\n\u001b[1;32m      2\u001b[0m \u001b[0mdataset\u001b[0m\u001b[0;34m=\u001b[0m \u001b[0mpd\u001b[0m\u001b[0;34m.\u001b[0m\u001b[0mread_csv\u001b[0m\u001b[0;34m(\u001b[0m\u001b[0;34m'Data\\DataWithMusic.csv'\u001b[0m\u001b[0;34m)\u001b[0m\u001b[0;34m\u001b[0m\u001b[0;34m\u001b[0m\u001b[0m\n\u001b[0;32m----> 3\u001b[0;31m \u001b[0mPaths\u001b[0m \u001b[0;34m=\u001b[0m \u001b[0mlist\u001b[0m\u001b[0;34m(\u001b[0m\u001b[0mdataset\u001b[0m\u001b[0;34m[\u001b[0m\u001b[0;34m'Path'\u001b[0m\u001b[0;34m]\u001b[0m\u001b[0;34m)\u001b[0m\u001b[0;34m\u001b[0m\u001b[0;34m\u001b[0m\u001b[0m\n\u001b[0m\u001b[1;32m      4\u001b[0m \u001b[0mTitles\u001b[0m \u001b[0;34m=\u001b[0m\u001b[0mlist\u001b[0m\u001b[0;34m(\u001b[0m\u001b[0mdataset\u001b[0m\u001b[0;34m[\u001b[0m\u001b[0;34m'Title'\u001b[0m\u001b[0;34m]\u001b[0m\u001b[0;34m)\u001b[0m\u001b[0;34m\u001b[0m\u001b[0;34m\u001b[0m\u001b[0m\n\u001b[1;32m      5\u001b[0m \u001b[0mdata\u001b[0m \u001b[0;34m=\u001b[0m\u001b[0;34m[\u001b[0m\u001b[0;34m]\u001b[0m\u001b[0;34m\u001b[0m\u001b[0;34m\u001b[0m\u001b[0m\n",
            "\u001b[0;32m/usr/local/lib/python3.7/dist-packages/pandas/core/frame.py\u001b[0m in \u001b[0;36m__getitem__\u001b[0;34m(self, key)\u001b[0m\n\u001b[1;32m   3456\u001b[0m             \u001b[0;32mif\u001b[0m \u001b[0mself\u001b[0m\u001b[0;34m.\u001b[0m\u001b[0mcolumns\u001b[0m\u001b[0;34m.\u001b[0m\u001b[0mnlevels\u001b[0m \u001b[0;34m>\u001b[0m \u001b[0;36m1\u001b[0m\u001b[0;34m:\u001b[0m\u001b[0;34m\u001b[0m\u001b[0;34m\u001b[0m\u001b[0m\n\u001b[1;32m   3457\u001b[0m                 \u001b[0;32mreturn\u001b[0m \u001b[0mself\u001b[0m\u001b[0;34m.\u001b[0m\u001b[0m_getitem_multilevel\u001b[0m\u001b[0;34m(\u001b[0m\u001b[0mkey\u001b[0m\u001b[0;34m)\u001b[0m\u001b[0;34m\u001b[0m\u001b[0;34m\u001b[0m\u001b[0m\n\u001b[0;32m-> 3458\u001b[0;31m             \u001b[0mindexer\u001b[0m \u001b[0;34m=\u001b[0m \u001b[0mself\u001b[0m\u001b[0;34m.\u001b[0m\u001b[0mcolumns\u001b[0m\u001b[0;34m.\u001b[0m\u001b[0mget_loc\u001b[0m\u001b[0;34m(\u001b[0m\u001b[0mkey\u001b[0m\u001b[0;34m)\u001b[0m\u001b[0;34m\u001b[0m\u001b[0;34m\u001b[0m\u001b[0m\n\u001b[0m\u001b[1;32m   3459\u001b[0m             \u001b[0;32mif\u001b[0m \u001b[0mis_integer\u001b[0m\u001b[0;34m(\u001b[0m\u001b[0mindexer\u001b[0m\u001b[0;34m)\u001b[0m\u001b[0;34m:\u001b[0m\u001b[0;34m\u001b[0m\u001b[0;34m\u001b[0m\u001b[0m\n\u001b[1;32m   3460\u001b[0m                 \u001b[0mindexer\u001b[0m \u001b[0;34m=\u001b[0m \u001b[0;34m[\u001b[0m\u001b[0mindexer\u001b[0m\u001b[0;34m]\u001b[0m\u001b[0;34m\u001b[0m\u001b[0;34m\u001b[0m\u001b[0m\n",
            "\u001b[0;32m/usr/local/lib/python3.7/dist-packages/pandas/core/indexes/base.py\u001b[0m in \u001b[0;36mget_loc\u001b[0;34m(self, key, method, tolerance)\u001b[0m\n\u001b[1;32m   3361\u001b[0m                 \u001b[0;32mreturn\u001b[0m \u001b[0mself\u001b[0m\u001b[0;34m.\u001b[0m\u001b[0m_engine\u001b[0m\u001b[0;34m.\u001b[0m\u001b[0mget_loc\u001b[0m\u001b[0;34m(\u001b[0m\u001b[0mcasted_key\u001b[0m\u001b[0;34m)\u001b[0m\u001b[0;34m\u001b[0m\u001b[0;34m\u001b[0m\u001b[0m\n\u001b[1;32m   3362\u001b[0m             \u001b[0;32mexcept\u001b[0m \u001b[0mKeyError\u001b[0m \u001b[0;32mas\u001b[0m \u001b[0merr\u001b[0m\u001b[0;34m:\u001b[0m\u001b[0;34m\u001b[0m\u001b[0;34m\u001b[0m\u001b[0m\n\u001b[0;32m-> 3363\u001b[0;31m                 \u001b[0;32mraise\u001b[0m \u001b[0mKeyError\u001b[0m\u001b[0;34m(\u001b[0m\u001b[0mkey\u001b[0m\u001b[0;34m)\u001b[0m \u001b[0;32mfrom\u001b[0m \u001b[0merr\u001b[0m\u001b[0;34m\u001b[0m\u001b[0;34m\u001b[0m\u001b[0m\n\u001b[0m\u001b[1;32m   3364\u001b[0m \u001b[0;34m\u001b[0m\u001b[0m\n\u001b[1;32m   3365\u001b[0m         \u001b[0;32mif\u001b[0m \u001b[0mis_scalar\u001b[0m\u001b[0;34m(\u001b[0m\u001b[0mkey\u001b[0m\u001b[0;34m)\u001b[0m \u001b[0;32mand\u001b[0m \u001b[0misna\u001b[0m\u001b[0;34m(\u001b[0m\u001b[0mkey\u001b[0m\u001b[0;34m)\u001b[0m \u001b[0;32mand\u001b[0m \u001b[0;32mnot\u001b[0m \u001b[0mself\u001b[0m\u001b[0;34m.\u001b[0m\u001b[0mhasnans\u001b[0m\u001b[0;34m:\u001b[0m\u001b[0;34m\u001b[0m\u001b[0;34m\u001b[0m\u001b[0m\n",
            "\u001b[0;31mKeyError\u001b[0m: 'Path'"
          ]
        }
      ]
    },
    {
      "cell_type": "code",
      "source": [
        "import warnings\n",
        "\n",
        "warnings.filterwarnings('ignore')\n",
        "from pychorus import find_and_output_chorus\n",
        "def extract_chorus(path,main):\n",
        "  songname = path.split('/',2)[1].split('.')[0]\n",
        "  Newpath = main +'/'+ songname + '.wav'\n",
        "  chorus = find_and_ouput_chorus(path,Newpath,15)\n",
        "  if chorus == None:\n",
        "    return None\n",
        "  else:\n",
        "    return Newpath"
      ],
      "metadata": {
        "id": "Sw-NrObwfkZT",
        "colab": {
          "base_uri": "https://localhost:8080/",
          "height": 374
        },
        "outputId": "5e62da17-5023-4c8f-a244-48034c37882b"
      },
      "execution_count": null,
      "outputs": [
        {
          "output_type": "error",
          "ename": "ModuleNotFoundError",
          "evalue": "ignored",
          "traceback": [
            "\u001b[0;31m---------------------------------------------------------------------------\u001b[0m",
            "\u001b[0;31mModuleNotFoundError\u001b[0m                       Traceback (most recent call last)",
            "\u001b[0;32m<ipython-input-26-2dd3de1bb425>\u001b[0m in \u001b[0;36m<module>\u001b[0;34m()\u001b[0m\n\u001b[1;32m      2\u001b[0m \u001b[0;34m\u001b[0m\u001b[0m\n\u001b[1;32m      3\u001b[0m \u001b[0mwarnings\u001b[0m\u001b[0;34m.\u001b[0m\u001b[0mfilterwarnings\u001b[0m\u001b[0;34m(\u001b[0m\u001b[0;34m'ignore'\u001b[0m\u001b[0;34m)\u001b[0m\u001b[0;34m\u001b[0m\u001b[0;34m\u001b[0m\u001b[0m\n\u001b[0;32m----> 4\u001b[0;31m \u001b[0;32mfrom\u001b[0m \u001b[0mpychorus\u001b[0m \u001b[0;32mimport\u001b[0m \u001b[0mfind_and_output_chorus\u001b[0m\u001b[0;34m\u001b[0m\u001b[0;34m\u001b[0m\u001b[0m\n\u001b[0m\u001b[1;32m      5\u001b[0m \u001b[0;32mdef\u001b[0m \u001b[0mextract_chorus\u001b[0m\u001b[0;34m(\u001b[0m\u001b[0mpath\u001b[0m\u001b[0;34m,\u001b[0m\u001b[0mmain\u001b[0m\u001b[0;34m)\u001b[0m\u001b[0;34m:\u001b[0m\u001b[0;34m\u001b[0m\u001b[0;34m\u001b[0m\u001b[0m\n\u001b[1;32m      6\u001b[0m   \u001b[0msongname\u001b[0m \u001b[0;34m=\u001b[0m \u001b[0mpath\u001b[0m\u001b[0;34m.\u001b[0m\u001b[0msplit\u001b[0m\u001b[0;34m(\u001b[0m\u001b[0;34m'/'\u001b[0m\u001b[0;34m,\u001b[0m\u001b[0;36m2\u001b[0m\u001b[0;34m)\u001b[0m\u001b[0;34m[\u001b[0m\u001b[0;36m1\u001b[0m\u001b[0;34m]\u001b[0m\u001b[0;34m.\u001b[0m\u001b[0msplit\u001b[0m\u001b[0;34m(\u001b[0m\u001b[0;34m'.'\u001b[0m\u001b[0;34m)\u001b[0m\u001b[0;34m[\u001b[0m\u001b[0;36m0\u001b[0m\u001b[0;34m]\u001b[0m\u001b[0;34m\u001b[0m\u001b[0;34m\u001b[0m\u001b[0m\n",
            "\u001b[0;31mModuleNotFoundError\u001b[0m: No module named 'pychorus'",
            "",
            "\u001b[0;31m---------------------------------------------------------------------------\u001b[0;32m\nNOTE: If your import is failing due to a missing package, you can\nmanually install dependencies using either !pip or !apt.\n\nTo view examples of installing some common dependencies, click the\n\"Open Examples\" button below.\n\u001b[0;31m---------------------------------------------------------------------------\u001b[0m\n"
          ],
          "errorDetails": {
            "actions": [
              {
                "action": "open_url",
                "actionText": "Open Examples",
                "url": "/notebooks/snippets/importing_libraries.ipynb"
              }
            ]
          }
        }
      ]
    },
    {
      "cell_type": "code",
      "source": [
        "import pandas as pd\n",
        "df = pd.read_csv('Data\\chorusData.csv')\n",
        "print(df.shape)\n",
        "df.head()\n"
      ],
      "metadata": {
        "id": "RQ7ugxIVlnup",
        "colab": {
          "base_uri": "https://localhost:8080/",
          "height": 381
        },
        "outputId": "23f33fee-32dd-42a2-f248-e3785b327d95"
      },
      "execution_count": null,
      "outputs": [
        {
          "output_type": "error",
          "ename": "FileNotFoundError",
          "evalue": "ignored",
          "traceback": [
            "\u001b[0;31m---------------------------------------------------------------------------\u001b[0m",
            "\u001b[0;31mFileNotFoundError\u001b[0m                         Traceback (most recent call last)",
            "\u001b[0;32m<ipython-input-29-946105ca02a3>\u001b[0m in \u001b[0;36m<module>\u001b[0;34m()\u001b[0m\n\u001b[1;32m      1\u001b[0m \u001b[0;32mimport\u001b[0m \u001b[0mpandas\u001b[0m \u001b[0;32mas\u001b[0m \u001b[0mpd\u001b[0m\u001b[0;34m\u001b[0m\u001b[0;34m\u001b[0m\u001b[0m\n\u001b[0;32m----> 2\u001b[0;31m \u001b[0mdf\u001b[0m \u001b[0;34m=\u001b[0m \u001b[0mpd\u001b[0m\u001b[0;34m.\u001b[0m\u001b[0mread_csv\u001b[0m\u001b[0;34m(\u001b[0m\u001b[0;34m'Data\\chorusData.csv'\u001b[0m\u001b[0;34m)\u001b[0m\u001b[0;34m\u001b[0m\u001b[0;34m\u001b[0m\u001b[0m\n\u001b[0m\u001b[1;32m      3\u001b[0m \u001b[0mprint\u001b[0m\u001b[0;34m(\u001b[0m\u001b[0mdf\u001b[0m\u001b[0;34m.\u001b[0m\u001b[0mshape\u001b[0m\u001b[0;34m)\u001b[0m\u001b[0;34m\u001b[0m\u001b[0;34m\u001b[0m\u001b[0m\n\u001b[1;32m      4\u001b[0m \u001b[0mdf\u001b[0m\u001b[0;34m.\u001b[0m\u001b[0mhead\u001b[0m\u001b[0;34m(\u001b[0m\u001b[0;34m)\u001b[0m\u001b[0;34m\u001b[0m\u001b[0;34m\u001b[0m\u001b[0m\n",
            "\u001b[0;32m/usr/local/lib/python3.7/dist-packages/pandas/util/_decorators.py\u001b[0m in \u001b[0;36mwrapper\u001b[0;34m(*args, **kwargs)\u001b[0m\n\u001b[1;32m    309\u001b[0m                     \u001b[0mstacklevel\u001b[0m\u001b[0;34m=\u001b[0m\u001b[0mstacklevel\u001b[0m\u001b[0;34m,\u001b[0m\u001b[0;34m\u001b[0m\u001b[0;34m\u001b[0m\u001b[0m\n\u001b[1;32m    310\u001b[0m                 )\n\u001b[0;32m--> 311\u001b[0;31m             \u001b[0;32mreturn\u001b[0m \u001b[0mfunc\u001b[0m\u001b[0;34m(\u001b[0m\u001b[0;34m*\u001b[0m\u001b[0margs\u001b[0m\u001b[0;34m,\u001b[0m \u001b[0;34m**\u001b[0m\u001b[0mkwargs\u001b[0m\u001b[0;34m)\u001b[0m\u001b[0;34m\u001b[0m\u001b[0;34m\u001b[0m\u001b[0m\n\u001b[0m\u001b[1;32m    312\u001b[0m \u001b[0;34m\u001b[0m\u001b[0m\n\u001b[1;32m    313\u001b[0m         \u001b[0;32mreturn\u001b[0m \u001b[0mwrapper\u001b[0m\u001b[0;34m\u001b[0m\u001b[0;34m\u001b[0m\u001b[0m\n",
            "\u001b[0;32m/usr/local/lib/python3.7/dist-packages/pandas/io/parsers/readers.py\u001b[0m in \u001b[0;36mread_csv\u001b[0;34m(filepath_or_buffer, sep, delimiter, header, names, index_col, usecols, squeeze, prefix, mangle_dupe_cols, dtype, engine, converters, true_values, false_values, skipinitialspace, skiprows, skipfooter, nrows, na_values, keep_default_na, na_filter, verbose, skip_blank_lines, parse_dates, infer_datetime_format, keep_date_col, date_parser, dayfirst, cache_dates, iterator, chunksize, compression, thousands, decimal, lineterminator, quotechar, quoting, doublequote, escapechar, comment, encoding, encoding_errors, dialect, error_bad_lines, warn_bad_lines, on_bad_lines, delim_whitespace, low_memory, memory_map, float_precision, storage_options)\u001b[0m\n\u001b[1;32m    584\u001b[0m     \u001b[0mkwds\u001b[0m\u001b[0;34m.\u001b[0m\u001b[0mupdate\u001b[0m\u001b[0;34m(\u001b[0m\u001b[0mkwds_defaults\u001b[0m\u001b[0;34m)\u001b[0m\u001b[0;34m\u001b[0m\u001b[0;34m\u001b[0m\u001b[0m\n\u001b[1;32m    585\u001b[0m \u001b[0;34m\u001b[0m\u001b[0m\n\u001b[0;32m--> 586\u001b[0;31m     \u001b[0;32mreturn\u001b[0m \u001b[0m_read\u001b[0m\u001b[0;34m(\u001b[0m\u001b[0mfilepath_or_buffer\u001b[0m\u001b[0;34m,\u001b[0m \u001b[0mkwds\u001b[0m\u001b[0;34m)\u001b[0m\u001b[0;34m\u001b[0m\u001b[0;34m\u001b[0m\u001b[0m\n\u001b[0m\u001b[1;32m    587\u001b[0m \u001b[0;34m\u001b[0m\u001b[0m\n\u001b[1;32m    588\u001b[0m \u001b[0;34m\u001b[0m\u001b[0m\n",
            "\u001b[0;32m/usr/local/lib/python3.7/dist-packages/pandas/io/parsers/readers.py\u001b[0m in \u001b[0;36m_read\u001b[0;34m(filepath_or_buffer, kwds)\u001b[0m\n\u001b[1;32m    480\u001b[0m \u001b[0;34m\u001b[0m\u001b[0m\n\u001b[1;32m    481\u001b[0m     \u001b[0;31m# Create the parser.\u001b[0m\u001b[0;34m\u001b[0m\u001b[0;34m\u001b[0m\u001b[0;34m\u001b[0m\u001b[0m\n\u001b[0;32m--> 482\u001b[0;31m     \u001b[0mparser\u001b[0m \u001b[0;34m=\u001b[0m \u001b[0mTextFileReader\u001b[0m\u001b[0;34m(\u001b[0m\u001b[0mfilepath_or_buffer\u001b[0m\u001b[0;34m,\u001b[0m \u001b[0;34m**\u001b[0m\u001b[0mkwds\u001b[0m\u001b[0;34m)\u001b[0m\u001b[0;34m\u001b[0m\u001b[0;34m\u001b[0m\u001b[0m\n\u001b[0m\u001b[1;32m    483\u001b[0m \u001b[0;34m\u001b[0m\u001b[0m\n\u001b[1;32m    484\u001b[0m     \u001b[0;32mif\u001b[0m \u001b[0mchunksize\u001b[0m \u001b[0;32mor\u001b[0m \u001b[0miterator\u001b[0m\u001b[0;34m:\u001b[0m\u001b[0;34m\u001b[0m\u001b[0;34m\u001b[0m\u001b[0m\n",
            "\u001b[0;32m/usr/local/lib/python3.7/dist-packages/pandas/io/parsers/readers.py\u001b[0m in \u001b[0;36m__init__\u001b[0;34m(self, f, engine, **kwds)\u001b[0m\n\u001b[1;32m    809\u001b[0m             \u001b[0mself\u001b[0m\u001b[0;34m.\u001b[0m\u001b[0moptions\u001b[0m\u001b[0;34m[\u001b[0m\u001b[0;34m\"has_index_names\"\u001b[0m\u001b[0;34m]\u001b[0m \u001b[0;34m=\u001b[0m \u001b[0mkwds\u001b[0m\u001b[0;34m[\u001b[0m\u001b[0;34m\"has_index_names\"\u001b[0m\u001b[0;34m]\u001b[0m\u001b[0;34m\u001b[0m\u001b[0;34m\u001b[0m\u001b[0m\n\u001b[1;32m    810\u001b[0m \u001b[0;34m\u001b[0m\u001b[0m\n\u001b[0;32m--> 811\u001b[0;31m         \u001b[0mself\u001b[0m\u001b[0;34m.\u001b[0m\u001b[0m_engine\u001b[0m \u001b[0;34m=\u001b[0m \u001b[0mself\u001b[0m\u001b[0;34m.\u001b[0m\u001b[0m_make_engine\u001b[0m\u001b[0;34m(\u001b[0m\u001b[0mself\u001b[0m\u001b[0;34m.\u001b[0m\u001b[0mengine\u001b[0m\u001b[0;34m)\u001b[0m\u001b[0;34m\u001b[0m\u001b[0;34m\u001b[0m\u001b[0m\n\u001b[0m\u001b[1;32m    812\u001b[0m \u001b[0;34m\u001b[0m\u001b[0m\n\u001b[1;32m    813\u001b[0m     \u001b[0;32mdef\u001b[0m \u001b[0mclose\u001b[0m\u001b[0;34m(\u001b[0m\u001b[0mself\u001b[0m\u001b[0;34m)\u001b[0m\u001b[0;34m:\u001b[0m\u001b[0;34m\u001b[0m\u001b[0;34m\u001b[0m\u001b[0m\n",
            "\u001b[0;32m/usr/local/lib/python3.7/dist-packages/pandas/io/parsers/readers.py\u001b[0m in \u001b[0;36m_make_engine\u001b[0;34m(self, engine)\u001b[0m\n\u001b[1;32m   1038\u001b[0m             )\n\u001b[1;32m   1039\u001b[0m         \u001b[0;31m# error: Too many arguments for \"ParserBase\"\u001b[0m\u001b[0;34m\u001b[0m\u001b[0;34m\u001b[0m\u001b[0;34m\u001b[0m\u001b[0m\n\u001b[0;32m-> 1040\u001b[0;31m         \u001b[0;32mreturn\u001b[0m \u001b[0mmapping\u001b[0m\u001b[0;34m[\u001b[0m\u001b[0mengine\u001b[0m\u001b[0;34m]\u001b[0m\u001b[0;34m(\u001b[0m\u001b[0mself\u001b[0m\u001b[0;34m.\u001b[0m\u001b[0mf\u001b[0m\u001b[0;34m,\u001b[0m \u001b[0;34m**\u001b[0m\u001b[0mself\u001b[0m\u001b[0;34m.\u001b[0m\u001b[0moptions\u001b[0m\u001b[0;34m)\u001b[0m  \u001b[0;31m# type: ignore[call-arg]\u001b[0m\u001b[0;34m\u001b[0m\u001b[0;34m\u001b[0m\u001b[0m\n\u001b[0m\u001b[1;32m   1041\u001b[0m \u001b[0;34m\u001b[0m\u001b[0m\n\u001b[1;32m   1042\u001b[0m     \u001b[0;32mdef\u001b[0m \u001b[0m_failover_to_python\u001b[0m\u001b[0;34m(\u001b[0m\u001b[0mself\u001b[0m\u001b[0;34m)\u001b[0m\u001b[0;34m:\u001b[0m\u001b[0;34m\u001b[0m\u001b[0;34m\u001b[0m\u001b[0m\n",
            "\u001b[0;32m/usr/local/lib/python3.7/dist-packages/pandas/io/parsers/c_parser_wrapper.py\u001b[0m in \u001b[0;36m__init__\u001b[0;34m(self, src, **kwds)\u001b[0m\n\u001b[1;32m     49\u001b[0m \u001b[0;34m\u001b[0m\u001b[0m\n\u001b[1;32m     50\u001b[0m         \u001b[0;31m# open handles\u001b[0m\u001b[0;34m\u001b[0m\u001b[0;34m\u001b[0m\u001b[0;34m\u001b[0m\u001b[0m\n\u001b[0;32m---> 51\u001b[0;31m         \u001b[0mself\u001b[0m\u001b[0;34m.\u001b[0m\u001b[0m_open_handles\u001b[0m\u001b[0;34m(\u001b[0m\u001b[0msrc\u001b[0m\u001b[0;34m,\u001b[0m \u001b[0mkwds\u001b[0m\u001b[0;34m)\u001b[0m\u001b[0;34m\u001b[0m\u001b[0;34m\u001b[0m\u001b[0m\n\u001b[0m\u001b[1;32m     52\u001b[0m         \u001b[0;32massert\u001b[0m \u001b[0mself\u001b[0m\u001b[0;34m.\u001b[0m\u001b[0mhandles\u001b[0m \u001b[0;32mis\u001b[0m \u001b[0;32mnot\u001b[0m \u001b[0;32mNone\u001b[0m\u001b[0;34m\u001b[0m\u001b[0;34m\u001b[0m\u001b[0m\n\u001b[1;32m     53\u001b[0m \u001b[0;34m\u001b[0m\u001b[0m\n",
            "\u001b[0;32m/usr/local/lib/python3.7/dist-packages/pandas/io/parsers/base_parser.py\u001b[0m in \u001b[0;36m_open_handles\u001b[0;34m(self, src, kwds)\u001b[0m\n\u001b[1;32m    227\u001b[0m             \u001b[0mmemory_map\u001b[0m\u001b[0;34m=\u001b[0m\u001b[0mkwds\u001b[0m\u001b[0;34m.\u001b[0m\u001b[0mget\u001b[0m\u001b[0;34m(\u001b[0m\u001b[0;34m\"memory_map\"\u001b[0m\u001b[0;34m,\u001b[0m \u001b[0;32mFalse\u001b[0m\u001b[0;34m)\u001b[0m\u001b[0;34m,\u001b[0m\u001b[0;34m\u001b[0m\u001b[0;34m\u001b[0m\u001b[0m\n\u001b[1;32m    228\u001b[0m             \u001b[0mstorage_options\u001b[0m\u001b[0;34m=\u001b[0m\u001b[0mkwds\u001b[0m\u001b[0;34m.\u001b[0m\u001b[0mget\u001b[0m\u001b[0;34m(\u001b[0m\u001b[0;34m\"storage_options\"\u001b[0m\u001b[0;34m,\u001b[0m \u001b[0;32mNone\u001b[0m\u001b[0;34m)\u001b[0m\u001b[0;34m,\u001b[0m\u001b[0;34m\u001b[0m\u001b[0;34m\u001b[0m\u001b[0m\n\u001b[0;32m--> 229\u001b[0;31m             \u001b[0merrors\u001b[0m\u001b[0;34m=\u001b[0m\u001b[0mkwds\u001b[0m\u001b[0;34m.\u001b[0m\u001b[0mget\u001b[0m\u001b[0;34m(\u001b[0m\u001b[0;34m\"encoding_errors\"\u001b[0m\u001b[0;34m,\u001b[0m \u001b[0;34m\"strict\"\u001b[0m\u001b[0;34m)\u001b[0m\u001b[0;34m,\u001b[0m\u001b[0;34m\u001b[0m\u001b[0;34m\u001b[0m\u001b[0m\n\u001b[0m\u001b[1;32m    230\u001b[0m         )\n\u001b[1;32m    231\u001b[0m \u001b[0;34m\u001b[0m\u001b[0m\n",
            "\u001b[0;32m/usr/local/lib/python3.7/dist-packages/pandas/io/common.py\u001b[0m in \u001b[0;36mget_handle\u001b[0;34m(path_or_buf, mode, encoding, compression, memory_map, is_text, errors, storage_options)\u001b[0m\n\u001b[1;32m    705\u001b[0m                 \u001b[0mencoding\u001b[0m\u001b[0;34m=\u001b[0m\u001b[0mioargs\u001b[0m\u001b[0;34m.\u001b[0m\u001b[0mencoding\u001b[0m\u001b[0;34m,\u001b[0m\u001b[0;34m\u001b[0m\u001b[0;34m\u001b[0m\u001b[0m\n\u001b[1;32m    706\u001b[0m                 \u001b[0merrors\u001b[0m\u001b[0;34m=\u001b[0m\u001b[0merrors\u001b[0m\u001b[0;34m,\u001b[0m\u001b[0;34m\u001b[0m\u001b[0;34m\u001b[0m\u001b[0m\n\u001b[0;32m--> 707\u001b[0;31m                 \u001b[0mnewline\u001b[0m\u001b[0;34m=\u001b[0m\u001b[0;34m\"\"\u001b[0m\u001b[0;34m,\u001b[0m\u001b[0;34m\u001b[0m\u001b[0;34m\u001b[0m\u001b[0m\n\u001b[0m\u001b[1;32m    708\u001b[0m             )\n\u001b[1;32m    709\u001b[0m         \u001b[0;32melse\u001b[0m\u001b[0;34m:\u001b[0m\u001b[0;34m\u001b[0m\u001b[0;34m\u001b[0m\u001b[0m\n",
            "\u001b[0;31mFileNotFoundError\u001b[0m: [Errno 2] No such file or directory: 'Data\\\\chorusData.csv'"
          ]
        }
      ]
    },
    {
      "cell_type": "code",
      "source": [
        ", zero_crossing_rate\n",
        ", tonnetz\n",
        "from librosa.feature.spectral import spectral_contrast\n",
        "import librosa\n",
        "import numpy as np\n",
        "from scipy.stats import skew,kurtosis\n",
        "def statistics(list,feature,columns_name,data):\n",
        "  i=0\n",
        "  for ele in list:\n",
        "    _skew = skew(ele)\n",
        "    columns_name.append(f'{feature}_kew_{i}')\n",
        "    min = np.min(ele)\n",
        "    columns_name.append(f'{feature}_min_{i}')\n",
        "    max = np.max(ele)\n",
        "    columns_name.append(f'{feature}_max_{i}')\n",
        "    std = np.std(ele)\n",
        "    columns_name.append(f'{feature}_std_{i}')\n",
        "    mean = np.mean(ele)\n",
        "    columns_name.append(f'{feature}_mean_{i}')\n",
        "    median = np.median(ele)\n",
        "    columns_name.append(f'{feature}_median_{i}')\n",
        "    _kurtosis= kurtosis(ele)\n",
        "    columns_name.append(f'{feature}_kurtosis_{i}')\n",
        "    i+=1\n",
        "     data.append(_skew)\n",
        "     data.append(min)\n",
        "     data.append(max)\n",
        "     data.append(std)\n",
        "     data.append(mean)\n",
        "     data.append(median)\n",
        "     data.append(_kurtosis)\n",
        "return data\n",
        "def extract_features(audio_path,title):\n",
        " data =[]\n",
        " columns_name=['title']\n",
        " data.append('title')\n",
        " x,sr = librosa.load(audio_path)\n",
        "\n",
        " chroma_stft = librosa.feature.chroma(x,sr)\n",
        " statistics(chroma_stft,'chroma_stft',columns_name,data)\n",
        "\n",
        " chroma_cqt = librosa.feature.chroma_cqt(x,sr)\n",
        " statistics(chroma_cqt,'chroma_cqt',columns_name,data)\n",
        "\n",
        " chroma_cens = librosa.feature.chroma_cens(x,sr)\n",
        " statistics(chroma_cens,'chroma_cens',columns_name,data)\n",
        "\n",
        " mfcc = librosa.feature.mfcc(x,sr)\n",
        " statistics(mfcc,'mfcc',columns_name,data)\n",
        "\n",
        " rms = librosa.feature.rms(x,sr)\n",
        " statistics(rms,'rms',column_name,data)\n",
        "\n",
        " spectral_centroid = librosa.feature.spectral_centroid(x,sr)\n",
        " statistics(spectral_centroid,'spectral_centroid',column_name,data)\n",
        "\n",
        " spectral_bandwidth = librosa.feature.spectral_bandwidth(x,sr)\n",
        " statistics(spectral_bandwidth,'spectral_bandwidth',columns_name,data)\n",
        "\n",
        " spectral_contrast=librosa.feature.spectral_contrast(x,sr)\n",
        " statistics(spectral_contrast,'spectral_contrast',columns_name,data)\n",
        "\n",
        " spectral_rolloff = librosa.feature.spectral_rolloff(x,sr)\n",
        " statistics(spectral_rolloff,'spectral_rolloff',columns_name,data)\n",
        "\n",
        " tonnetz = librosa.feature.tonnetz(x,sr)\n",
        " statistics(tonnetz,'tonnetz',columns_name,data)\n",
        "\n",
        " zero_crossing_rate = librosa.feature.zero_crossing_rate(x,sr)\n",
        " statistics(zero_crossing_rate,'zero_crossing_rate',columns_name,data)\n",
        "\n",
        " return data,columns_name\n",
        "\n",
        "\n",
        "\n"
      ],
      "metadata": {
        "id": "8vCT7W9WmIXV",
        "colab": {
          "base_uri": "https://localhost:8080/",
          "height": 131
        },
        "outputId": "5cb97965-0f1d-4031-8d5e-19c1996445cf"
      },
      "execution_count": null,
      "outputs": [
        {
          "output_type": "error",
          "ename": "IndentationError",
          "evalue": "ignored",
          "traceback": [
            "\u001b[0;36m  File \u001b[0;32m\"<ipython-input-25-fde257da6edc>\"\u001b[0;36m, line \u001b[0;32m24\u001b[0m\n\u001b[0;31m    i+=1\u001b[0m\n\u001b[0m    ^\u001b[0m\n\u001b[0;31mIndentationError\u001b[0m\u001b[0;31m:\u001b[0m unexpected indent\n"
          ]
        }
      ]
    }
  ]
}