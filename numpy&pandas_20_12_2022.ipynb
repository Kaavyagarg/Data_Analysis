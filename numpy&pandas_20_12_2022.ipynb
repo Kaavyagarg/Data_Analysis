{
  "nbformat": 4,
  "nbformat_minor": 0,
  "metadata": {
    "colab": {
      "provenance": [],
      "authorship_tag": "ABX9TyNIwni8Eb66/2kLWXx56Yum",
      "include_colab_link": true
    },
    "kernelspec": {
      "name": "python3",
      "display_name": "Python 3"
    },
    "language_info": {
      "name": "python"
    }
  },
  "cells": [
    {
      "cell_type": "markdown",
      "metadata": {
        "id": "view-in-github",
        "colab_type": "text"
      },
      "source": [
        "<a href=\"https://colab.research.google.com/github/Kaavyagarg/Data_Analysis/blob/main/numpy%26pandas_20_12_2022.ipynb\" target=\"_parent\"><img src=\"https://colab.research.google.com/assets/colab-badge.svg\" alt=\"Open In Colab\"/></a>"
      ]
    },
    {
      "cell_type": "code",
      "execution_count": null,
      "metadata": {
        "colab": {
          "base_uri": "https://localhost:8080/"
        },
        "id": "TGpCDFrjdI3-",
        "outputId": "5945c7c2-f5bd-4d23-f03e-573770f1eb04"
      },
      "outputs": [
        {
          "output_type": "stream",
          "name": "stdout",
          "text": [
            "[1, 2, 34, 45]\n"
          ]
        },
        {
          "output_type": "execute_result",
          "data": {
            "text/plain": [
              "array([ 1,  2, 34, 45])"
            ]
          },
          "metadata": {},
          "execution_count": 2
        }
      ],
      "source": [
        "import numpy as np\n",
        "l1=[1,2,34,45]\n",
        "print(l1)\n",
        "na1 = np.array(l1)\n",
        "na1"
      ]
    },
    {
      "cell_type": "code",
      "source": [
        "array_3 = np.array([1,2,3,4.4], dtype='U')\n",
        "print(array_3)"
      ],
      "metadata": {
        "colab": {
          "base_uri": "https://localhost:8080/"
        },
        "id": "4CxhecbCn6Tx",
        "outputId": "8ec47c23-d2dd-4b3e-8391-9bc68a782739"
      },
      "execution_count": null,
      "outputs": [
        {
          "output_type": "stream",
          "name": "stdout",
          "text": [
            "['1' '2' '3' '4.4']\n"
          ]
        }
      ]
    },
    {
      "cell_type": "code",
      "source": [
        "arr = np.array([0,1,2])\n",
        "arr * 2"
      ],
      "metadata": {
        "colab": {
          "base_uri": "https://localhost:8080/"
        },
        "id": "T-B3gGNmn9xy",
        "outputId": "7cd5bc69-e194-40ef-d0b5-7bf15f8228d2"
      },
      "execution_count": null,
      "outputs": [
        {
          "output_type": "execute_result",
          "data": {
            "text/plain": [
              "array([0, 2, 4])"
            ]
          },
          "metadata": {},
          "execution_count": 5
        }
      ]
    },
    {
      "cell_type": "code",
      "source": [
        "arr1 = np.array([1,3,5,7,9])\n",
        "print(type(arr1))\n",
        "l1 = list(arr1)\n",
        "print(type(l1))\n",
        "list_1\n",
        "print(np.multiply(list_1,2))\n",
        "\n",
        "print(list(np.multiply(list_1,2)))"
      ],
      "metadata": {
        "colab": {
          "base_uri": "https://localhost:8080/"
        },
        "id": "gH7dX3NXpVnf",
        "outputId": "44ca3ca1-dcf6-4a4a-b0dd-3c5be864bbfa"
      },
      "execution_count": null,
      "outputs": [
        {
          "output_type": "stream",
          "name": "stdout",
          "text": [
            "<class 'numpy.ndarray'>\n",
            "<class 'list'>\n",
            "[0 2 4]\n",
            "[0, 2, 4]\n"
          ]
        }
      ]
    },
    {
      "cell_type": "code",
      "source": [
        "float_array = np.array([[10, 34, 35], [125, 851, 0]], dtype='f')\n",
        "print (\"Float numbers array created from list\", float_array)"
      ],
      "metadata": {
        "colab": {
          "base_uri": "https://localhost:8080/"
        },
        "id": "9Lh3vBNTsRcb",
        "outputId": "104b3bac-6994-49d9-c1d4-39e50546a478"
      },
      "execution_count": null,
      "outputs": [
        {
          "output_type": "stream",
          "name": "stdout",
          "text": [
            "Float numbers array created from list [[ 10.  34.  35.]\n",
            " [125. 851.   0.]]\n"
          ]
        }
      ]
    },
    {
      "cell_type": "code",
      "source": [
        "arrange_array= np.arange(0,5,1) #arranging array by giving end value\n",
        "print(\"arranging array from 0 to 4:\\n\",arrange_array)"
      ],
      "metadata": {
        "colab": {
          "base_uri": "https://localhost:8080/"
        },
        "id": "a_AqUVQxvqBR",
        "outputId": "356a1385-a906-4e0f-886a-45e44275b9bd"
      },
      "execution_count": null,
      "outputs": [
        {
          "output_type": "stream",
          "name": "stdout",
          "text": [
            "arranging array from 0 to 4:\n",
            " [0 1 2 3 4]\n"
          ]
        }
      ]
    },
    {
      "cell_type": "code",
      "source": [
        "arrange_array2=  np.arange(6, dtype='f')\n",
        "print(\"arranging array with given end point:\\n\",arrange_array2)"
      ],
      "metadata": {
        "colab": {
          "base_uri": "https://localhost:8080/"
        },
        "id": "H-oWwDQyvq5Q",
        "outputId": "dcf101a7-0742-45c8-c9ad-43d1ca069d54"
      },
      "execution_count": null,
      "outputs": [
        {
          "output_type": "stream",
          "name": "stdout",
          "text": [
            "arranging array with given end point:\n",
            " [0. 1. 2. 3. 4. 5.]\n"
          ]
        }
      ]
    },
    {
      "cell_type": "code",
      "source": [
        "arrange_array2=  np.array(range(6), dtype='U')\n",
        "print(\"arranging array with given end point:\\n\",arrange_array2)"
      ],
      "metadata": {
        "colab": {
          "base_uri": "https://localhost:8080/"
        },
        "id": "TzKTGjH6wLYJ",
        "outputId": "be752441-14c1-44d4-a307-c37c5e69aa90"
      },
      "execution_count": null,
      "outputs": [
        {
          "output_type": "stream",
          "name": "stdout",
          "text": [
            "arranging array with given end point:\n",
            " ['0' '1' '2' '3' '4' '5']\n"
          ]
        }
      ]
    },
    {
      "cell_type": "code",
      "source": [
        "array_with_ones= np.ones(5, dtype='i')\n",
        "print(\"arranging array with all ones given rows and columns:\\n\",array_with_ones)\n",
        "array_with_zeros = np.zeros(4, dtype = 'i')\n",
        "print (\"\\n Array of defined size initialized with zeros:\\n\", array_with_zeros)\n",
        "array_with_zeros = np.zeros((3,2))\n",
        "print (\"\\n Array of defined size initialized with zeros:\\n\", array_with_zeros)\n"
      ],
      "metadata": {
        "colab": {
          "base_uri": "https://localhost:8080/"
        },
        "id": "X49tnqY1wiLf",
        "outputId": "d980cb46-f4b5-4633-f270-42ba2c80aa0f"
      },
      "execution_count": null,
      "outputs": [
        {
          "output_type": "stream",
          "name": "stdout",
          "text": [
            "arranging array with all ones given rows and columns:\n",
            " [1 1 1 1 1]\n",
            "\n",
            " Array of defined size initialized with zeros:\n",
            " [0 0 0 0]\n",
            "\n",
            " Array of defined size initialized with zeros:\n",
            " [[0. 0.]\n",
            " [0. 0.]\n",
            " [0. 0.]]\n"
          ]
        }
      ]
    },
    {
      "cell_type": "code",
      "source": [
        "Random_array = np.random.random((3,3))\n",
        "print (\"\\n Random numbers array:\\n\", Random_array)\n",
        "\n",
        "print(np.random.randint(10,25, size = (5,6)))"
      ],
      "metadata": {
        "colab": {
          "base_uri": "https://localhost:8080/"
        },
        "id": "usPQxfRwxoAu",
        "outputId": "b5e832e1-b0ad-4ee0-895f-89d989096e1a"
      },
      "execution_count": null,
      "outputs": [
        {
          "output_type": "stream",
          "name": "stdout",
          "text": [
            "\n",
            " Random numbers array:\n",
            " [[0.39180617 0.14640376 0.75341603]\n",
            " [0.24744749 0.03680817 0.96924782]\n",
            " [0.36003226 0.17076459 0.21067666]]\n",
            "[[12 13 10 12 19 12]\n",
            " [23 14 22 19 11 23]\n",
            " [14 10 22 12 19 10]\n",
            " [10 18 13 23 13 23]\n",
            " [22 24 17 17 12 11]]\n"
          ]
        }
      ]
    },
    {
      "cell_type": "code",
      "source": [
        "new_array = np.linspace(10, 20, 5)\n",
        "print (\"\\nA sequential array with 8 values between\"\n",
        "                                        \"20 and 50:\\n\", new_array)\n",
        "print(np.linspace(1,10,4))"
      ],
      "metadata": {
        "colab": {
          "base_uri": "https://localhost:8080/"
        },
        "id": "6Sim68a4yONz",
        "outputId": "85257a46-9bbe-406f-f541-08d947c95db0"
      },
      "execution_count": null,
      "outputs": [
        {
          "output_type": "stream",
          "name": "stdout",
          "text": [
            "\n",
            "A sequential array with 8 values between20 and 50:\n",
            " [10.  12.5 15.  17.5 20. ]\n",
            "[ 1.  4.  7. 10.]\n"
          ]
        }
      ]
    },
    {
      "cell_type": "code",
      "source": [
        "array_1 = np.array([[1,2,3,4],[5,4,6,7],[2,3,4,6]])\n",
        "print(array_1)\n",
        "# Syntax.arrayname.shape\n",
        "array_1.shape\n",
        "  # shape (the size of each dimension)"
      ],
      "metadata": {
        "colab": {
          "base_uri": "https://localhost:8080/"
        },
        "id": "GZispsAe1-Lc",
        "outputId": "fcb0604b-0e08-4ece-e2f5-8bbf1a24d324"
      },
      "execution_count": null,
      "outputs": [
        {
          "output_type": "stream",
          "name": "stdout",
          "text": [
            "[[1 2 3 4]\n",
            " [5 4 6 7]\n",
            " [2 3 4 6]]\n"
          ]
        },
        {
          "output_type": "execute_result",
          "data": {
            "text/plain": [
              "(3, 4)"
            ]
          },
          "metadata": {},
          "execution_count": 23
        }
      ]
    },
    {
      "cell_type": "code",
      "source": [
        "orig_arr_1 = np.array([10, 32, 36, 34, 4, 55]) ## 1D array\n",
        "reshaped_arr_1 = orig_arr_1.reshape(3, 2)\n",
        "print (\"\\nOriginal array:\\n\", orig_arr_1)\n",
        "print (\"\\n Reshaped array:\\n\", reshaped_arr_1)\n",
        "print (\"\\n Dimension of original array:\\n\", orig_arr_1.ndim)\n",
        "print (\"\\n dimension of Reshaped array:\\n\", reshaped_arr_1.ndim)"
      ],
      "metadata": {
        "colab": {
          "base_uri": "https://localhost:8080/"
        },
        "id": "7AcmJbK52rwq",
        "outputId": "5bc32f9a-039e-4343-d91a-63c644215bb6"
      },
      "execution_count": null,
      "outputs": [
        {
          "output_type": "stream",
          "name": "stdout",
          "text": [
            "\n",
            "Original array:\n",
            " [10 32 36 34  4 55]\n",
            "\n",
            " Reshaped array:\n",
            " [[10 32]\n",
            " [36 34]\n",
            " [ 4 55]]\n",
            "\n",
            " Dimension of original array:\n",
            " 1\n",
            "\n",
            " dimension of Reshaped array:\n",
            " 2\n"
          ]
        }
      ]
    },
    {
      "cell_type": "code",
      "source": [
        "orig_arr_2 = np.array([[10, 32, 36], [34, 4, 55], [4,77,67]])   ## 2D Array\n",
        "\n",
        "reshaped_arr_2 = orig_arr_2.reshape(9)\n",
        "print (\"\\nOriginal array:\\n\", orig_arr_2)\n",
        "print (\"\\n Reshaped array:\\n\", reshaped_arr_2)\n",
        "print (\"\\n dimension of original array:\\n\", orig_arr_2.ndim)\n",
        "print (\"\\n dimension of Reshaped array:\\n\", reshaped_arr_2.ndim)"
      ],
      "metadata": {
        "colab": {
          "base_uri": "https://localhost:8080/"
        },
        "id": "n0ZRn1pg3mbF",
        "outputId": "28a3d8df-6d27-464a-b17b-0306da6a07c2"
      },
      "execution_count": null,
      "outputs": [
        {
          "output_type": "stream",
          "name": "stdout",
          "text": [
            "\n",
            "Original array:\n",
            " [[10 32 36]\n",
            " [34  4 55]\n",
            " [ 4 77 67]]\n",
            "\n",
            " Reshaped array:\n",
            " [10 32 36 34  4 55  4 77 67]\n",
            "\n",
            " dimension of original array:\n",
            " 2\n",
            "\n",
            " dimension of Reshaped array:\n",
            " 1\n"
          ]
        }
      ]
    },
    {
      "cell_type": "code",
      "source": [
        "# Flatten array\n",
        "arr = np.array([[[1, 2, 3], [4, 5, 6]]])\n",
        "flarr = arr.flatten()\n",
        "\n",
        "print (\"\\nOriginal array:\\n\", arr)\n",
        "print (\"Fattened array:\\n\", flarr)"
      ],
      "metadata": {
        "colab": {
          "base_uri": "https://localhost:8080/"
        },
        "id": "6fmNcKf24GgA",
        "outputId": "0d4286a0-ffc9-4f32-9b33-980e1de2bcbf"
      },
      "execution_count": null,
      "outputs": [
        {
          "output_type": "stream",
          "name": "stdout",
          "text": [
            "\n",
            "Original array:\n",
            " [[[1 2 3]\n",
            "  [4 5 6]]]\n",
            "Fattened array:\n",
            " [1 2 3 4 5 6]\n"
          ]
        }
      ]
    },
    {
      "cell_type": "code",
      "source": [
        "array_multiD = np.array([\n",
        "                [100, 14, 76, 54],\n",
        "                [125, 81, 0, -24],\n",
        "                [566, 159, 175, 20],\n",
        "                [38, -47, 84, 22.0]],dtype = int)\n",
        "\n",
        "print(\"Shape of the array is: \", array_multiD.ndim, array_multiD.shape)\n",
        "\n",
        "## 81 is in the 1st row and 1st column\n",
        "print(\"Accessing 1st row: \", array_multiD[0])\n",
        "print(\"Accessing 1st column: \", array_multiD[:, 1])  ## : indicates all the rows\n",
        "print(\"Accessing (1st row, 1st column): \", array_multiD[2,1])  # calling 159"
      ],
      "metadata": {
        "colab": {
          "base_uri": "https://localhost:8080/"
        },
        "id": "ai8nHd1h4o3V",
        "outputId": "b4ef448c-3f88-4d3d-c355-ee26b6e490ef"
      },
      "execution_count": null,
      "outputs": [
        {
          "output_type": "stream",
          "name": "stdout",
          "text": [
            "Shape of the array is:  2 (4, 4)\n",
            "Accessing 1st row:  [100  14  76  54]\n",
            "Accessing 1st column:  [ 14  81 159 -47]\n",
            "Accessing (1st row, 1st column):  159\n"
          ]
        }
      ]
    },
    {
      "cell_type": "code",
      "source": [
        "array_example = np.array([[10, 32, 36, 34],\n",
        "                [125, 851, 0, -24],\n",
        "                [56, 19, 75, 20],\n",
        "                [3, -7, 4, 2.0]])\n",
        "\n",
        "# Slicing array\n",
        "## Access first 2 rows\n",
        "sliced_array = array_example[0:2, :]   #:2 returns the 0,1 indexed row\n",
        "print(sliced_array)"
      ],
      "metadata": {
        "colab": {
          "base_uri": "https://localhost:8080/"
        },
        "id": "T8KkRDNK5jEK",
        "outputId": "e9d01b2f-09bf-4f6c-afd0-3f44eeb7f68d"
      },
      "execution_count": null,
      "outputs": [
        {
          "output_type": "stream",
          "name": "stdout",
          "text": [
            "[[ 10.  32.  36.  34.]\n",
            " [125. 851.   0. -24.]]\n"
          ]
        }
      ]
    },
    {
      "cell_type": "code",
      "source": [
        "#Items of an array can be modified in any place of an array like below\n",
        "array = np.ones((4, 5))\n",
        "print(\"original array\\n\",array)\n",
        "\n",
        "## Replace a value at 2nd row, 2nd column to 10\n",
        "array[2, 2] = 10\n",
        "print(\"modified array\\n\",array)"
      ],
      "metadata": {
        "colab": {
          "base_uri": "https://localhost:8080/"
        },
        "id": "GgYNx2ko9B0O",
        "outputId": "47d4d108-bc13-4682-d7c9-795bd00a5464"
      },
      "execution_count": null,
      "outputs": [
        {
          "output_type": "stream",
          "name": "stdout",
          "text": [
            "original array\n",
            " [[1. 1. 1. 1. 1.]\n",
            " [1. 1. 1. 1. 1.]\n",
            " [1. 1. 1. 1. 1.]\n",
            " [1. 1. 1. 1. 1.]]\n",
            "modified array\n",
            " [[ 1.  1.  1.  1.  1.]\n",
            " [ 1.  1.  1.  1.  1.]\n",
            " [ 1.  1. 10.  1.  1.]\n",
            " [ 1.  1.  1.  1.  1.]]\n"
          ]
        }
      ]
    },
    {
      "cell_type": "code",
      "source": [
        "sample_arr = np.array([[5, 215, 69],\n",
        "                       [44, 74, 21],\n",
        "                       [30, 12, 94]])\n",
        "\n",
        "# maximum element of array\n",
        "print (\"Largest element of array :\", sample_arr.max())\n",
        "print (\"Row-wise maximum elements:\",\n",
        "                    sample_arr.max(axis = 1))"
      ],
      "metadata": {
        "colab": {
          "base_uri": "https://localhost:8080/"
        },
        "id": "nc1VA6j9VOi6",
        "outputId": "9abcc690-2585-4407-f916-1a9f97b48b98"
      },
      "execution_count": null,
      "outputs": [
        {
          "output_type": "stream",
          "name": "stdout",
          "text": [
            "Largest element of array : 215\n",
            "Row-wise maximum elements: [215  74  94]\n"
          ]
        }
      ]
    },
    {
      "cell_type": "code",
      "source": [
        "sample_arr = np.array([[1, 4, 2],\n",
        "                       [3, 4, 6],\n",
        "                       [0, -1, 5]])\n",
        "\n",
        "# sorted array\n",
        "print (\"Array elements in sorted order:\\n\",np.sort(sample_arr, axis = None))"
      ],
      "metadata": {
        "colab": {
          "base_uri": "https://localhost:8080/"
        },
        "id": "VslbxEMMVik1",
        "outputId": "2a6c63e6-70a0-466b-fbfc-a4541f4e1f34"
      },
      "execution_count": null,
      "outputs": [
        {
          "output_type": "stream",
          "name": "stdout",
          "text": [
            "Array elements in sorted order:\n",
            " [-1  0  1  2  3  4  4  5  6]\n"
          ]
        }
      ]
    },
    {
      "cell_type": "code",
      "source": [
        "converted_arr = arr.astype('bool')\n",
        "print(arr)\n",
        "print(converted_arr.dtype)\n",
        "print(converted_arr)\n"
      ],
      "metadata": {
        "colab": {
          "base_uri": "https://localhost:8080/"
        },
        "id": "mlVLpVSHb9mC",
        "outputId": "a6cc4dbd-2eb9-4203-e574-64a3c511640e"
      },
      "execution_count": null,
      "outputs": [
        {
          "output_type": "stream",
          "name": "stdout",
          "text": [
            "[[[1 2 3]\n",
            "  [4 5 6]]]\n",
            "bool\n",
            "[[[ True  True  True]\n",
            "  [ True  True  True]]]\n"
          ]
        }
      ]
    },
    {
      "cell_type": "code",
      "source": [
        "arr_concat1 = np.array([2, 2, 6, 8])\n",
        "arr_concat2 = np.array([1, 3, 5, 7])\n",
        "final_arr = np.concatenate((arr_concat1, arr_concat2))\n",
        "print(\"1d concatenated array : \\n\",final_arr)\n"
      ],
      "metadata": {
        "colab": {
          "base_uri": "https://localhost:8080/"
        },
        "id": "byMx5DESdeDx",
        "outputId": "2f44e4c3-64fc-40e9-d37b-cd3a6371a6f5"
      },
      "execution_count": null,
      "outputs": [
        {
          "output_type": "stream",
          "name": "stdout",
          "text": [
            "1d concatenated array : \n",
            " [2 2 6 8 1 3 5 7]\n"
          ]
        }
      ]
    },
    {
      "cell_type": "code",
      "source": [
        "a = np.array([[1, 2], [3, 4]])\n",
        "b = np.array([[5, 6]])\n",
        "\n",
        "print(np.concatenate((a, b.T), axis=1))\n",
        "print(np.concatenate((a, b), axis=None))\n",
        "\n",
        "print(b.T)\n",
        "print(a)"
      ],
      "metadata": {
        "colab": {
          "base_uri": "https://localhost:8080/"
        },
        "id": "TgLxhCbAd0ZB",
        "outputId": "23b78755-2d4c-4280-9310-feff305a94a6"
      },
      "execution_count": null,
      "outputs": [
        {
          "output_type": "stream",
          "name": "stdout",
          "text": [
            "[[1 2 5]\n",
            " [3 4 6]]\n",
            "[1 2 3 4 5 6]\n",
            "[[5]\n",
            " [6]]\n",
            "[[1 2]\n",
            " [3 4]]\n"
          ]
        }
      ]
    },
    {
      "cell_type": "code",
      "source": [
        "import numpy as np\n",
        "arr_all = np.array([123, 345, 29, 24, 80, 61, 79, 84])\n",
        "\n",
        "arr_odd_index = np.where(arr_all%2 == 1)\n",
        "\n",
        "print(arr_odd_index)"
      ],
      "metadata": {
        "id": "ChCqZXeqeT8O",
        "colab": {
          "base_uri": "https://localhost:8080/"
        },
        "outputId": "c5975b1c-1a90-4b90-a55e-192c69fbfa22"
      },
      "execution_count": null,
      "outputs": [
        {
          "output_type": "stream",
          "name": "stdout",
          "text": [
            "(array([0, 1, 2, 5, 6]),)\n"
          ]
        }
      ]
    },
    {
      "cell_type": "code",
      "source": [
        "array_to_split = np.array([6, 1, 7, 9, 10, 4, 43, 28, 54])\n",
        "\n",
        "split_array = np.array_split(array_to_split , 3)\n",
        "\n",
        "print(split_array)\n",
        "\n",
        "print(split_array[0])\n",
        "print(split_array[1])\n",
        "print(split_array[2])"
      ],
      "metadata": {
        "colab": {
          "base_uri": "https://localhost:8080/"
        },
        "id": "JL-twA65yxeI",
        "outputId": "a0d126d6-f74e-4f1f-daed-9e2001146f1c"
      },
      "execution_count": null,
      "outputs": [
        {
          "output_type": "stream",
          "name": "stdout",
          "text": [
            "[array([6, 1, 7]), array([ 9, 10,  4]), array([43, 28, 54])]\n",
            "[6 1 7]\n",
            "[ 9 10  4]\n",
            "[43 28 54]\n"
          ]
        }
      ]
    },
    {
      "cell_type": "code",
      "source": [
        "array = np.arange(36.0).reshape(6, 6)\n",
        "\n",
        "hsplit_arr = np.hsplit(array, 3)\n",
        "\n",
        "print(\"Array before splitting : \\n\", array)\n",
        "print(\"\\n Array after horizontal split : \\n \\n\",hsplit_arr)\n",
        "\n",
        "print(type(np.hsplit(array, 3)))\n",
        "print(len(np.hsplit(array, 3)))\n",
        "\n",
        "print(type(hsplit_arr))\n",
        "hsplit_arr[0]"
      ],
      "metadata": {
        "colab": {
          "base_uri": "https://localhost:8080/"
        },
        "id": "8hTi7goezAhQ",
        "outputId": "72078cb0-cb16-43e5-b2fb-4697da388476"
      },
      "execution_count": null,
      "outputs": [
        {
          "output_type": "stream",
          "name": "stdout",
          "text": [
            "Array before splitting : \n",
            " [[ 0.  1.  2.  3.  4.  5.]\n",
            " [ 6.  7.  8.  9. 10. 11.]\n",
            " [12. 13. 14. 15. 16. 17.]\n",
            " [18. 19. 20. 21. 22. 23.]\n",
            " [24. 25. 26. 27. 28. 29.]\n",
            " [30. 31. 32. 33. 34. 35.]]\n",
            "\n",
            " Array after horizontal split : \n",
            " \n",
            " [array([[ 0.,  1.],\n",
            "       [ 6.,  7.],\n",
            "       [12., 13.],\n",
            "       [18., 19.],\n",
            "       [24., 25.],\n",
            "       [30., 31.]]), array([[ 2.,  3.],\n",
            "       [ 8.,  9.],\n",
            "       [14., 15.],\n",
            "       [20., 21.],\n",
            "       [26., 27.],\n",
            "       [32., 33.]]), array([[ 4.,  5.],\n",
            "       [10., 11.],\n",
            "       [16., 17.],\n",
            "       [22., 23.],\n",
            "       [28., 29.],\n",
            "       [34., 35.]])]\n",
            "<class 'list'>\n",
            "3\n",
            "<class 'list'>\n"
          ]
        },
        {
          "output_type": "execute_result",
          "data": {
            "text/plain": [
              "array([[ 0.,  1.],\n",
              "       [ 6.,  7.],\n",
              "       [12., 13.],\n",
              "       [18., 19.],\n",
              "       [24., 25.],\n",
              "       [30., 31.]])"
            ]
          },
          "metadata": {},
          "execution_count": 4
        }
      ]
    },
    {
      "cell_type": "code",
      "source": [
        "arr_1 = np.array([[7, 3],\n",
        "                 [1, 4]])\n",
        "\n",
        "arr_2 = np.array([[1, 9],\n",
        "                  [4, 0]])\n",
        "column = [5, 6]\n",
        "print(\"Vertical stacking:\\n\", np.vstack((arr_1, arr_2)))\n",
        "print(\"\\nColumn stacking:\\n\", np.column_stack((arr_1, column)))"
      ],
      "metadata": {
        "colab": {
          "base_uri": "https://localhost:8080/"
        },
        "id": "GnoGPXGbzPIv",
        "outputId": "4def73d9-5688-4973-ff8d-68355c29550f"
      },
      "execution_count": null,
      "outputs": [
        {
          "output_type": "stream",
          "name": "stdout",
          "text": [
            "Vertical stacking:\n",
            " [[7 3]\n",
            " [1 4]\n",
            " [1 9]\n",
            " [4 0]]\n",
            "\n",
            "Column stacking:\n",
            " [[7 3 5]\n",
            " [1 4 6]]\n"
          ]
        }
      ]
    },
    {
      "cell_type": "code",
      "source": [
        "import numpy as np\n",
        "array = np.array([5, 6, 7])\n",
        "array_2 = [2.0, 2.0, 2.0]\n",
        "print(\"output on arrays multiplication :\",array * array_2)\n",
        "\n",
        "array_2 - np.ones((1,3))*2\n"
      ],
      "metadata": {
        "colab": {
          "base_uri": "https://localhost:8080/"
        },
        "id": "VccIcC4l1ldd",
        "outputId": "e3965d00-52d9-4594-8549-7a42f91757cc"
      },
      "execution_count": null,
      "outputs": [
        {
          "output_type": "stream",
          "name": "stdout",
          "text": [
            "output on arrays multiplication : [10. 12. 14.]\n"
          ]
        },
        {
          "output_type": "execute_result",
          "data": {
            "text/plain": [
              "array([[0., 0., 0.]])"
            ]
          },
          "metadata": {},
          "execution_count": 3
        }
      ]
    },
    {
      "cell_type": "code",
      "source": [
        "a = np.arange(3)\n",
        "b = np.arange(2)[:, np.newaxis] #it is equal to b.reshape(2,1)\n",
        "c = a+b\n",
        "print(c)\n",
        "print(c.shape)"
      ],
      "metadata": {
        "colab": {
          "base_uri": "https://localhost:8080/"
        },
        "id": "MOLArnoaVlvp",
        "outputId": "257c10b2-3482-42e1-d54b-cc75ff685054"
      },
      "execution_count": null,
      "outputs": [
        {
          "output_type": "stream",
          "name": "stdout",
          "text": [
            "[[0 1 2]\n",
            " [1 2 3]]\n",
            "(2, 3)\n"
          ]
        }
      ]
    },
    {
      "cell_type": "markdown",
      "source": [
        "Intro to pandas_21.12.2022"
      ],
      "metadata": {
        "id": "fyd0spN3bkuX"
      }
    },
    {
      "cell_type": "code",
      "source": [
        "import pandas as pd\n",
        "\n",
        "# Create empty series and check its data type\n",
        "s1 = pd.Series()\n",
        "# Check its type and print series\n",
        "type(s1)"
      ],
      "metadata": {
        "colab": {
          "base_uri": "https://localhost:8080/"
        },
        "id": "0GXkpSEvac65",
        "outputId": "20063f57-0910-41e7-ec4e-ba5809e34746"
      },
      "execution_count": null,
      "outputs": [
        {
          "output_type": "stream",
          "name": "stderr",
          "text": [
            "<ipython-input-5-34b9730812db>:4: DeprecationWarning: The default dtype for empty Series will be 'object' instead of 'float64' in a future version. Specify a dtype explicitly to silence this warning.\n",
            "  s1 = pd.Series()\n"
          ]
        },
        {
          "output_type": "execute_result",
          "data": {
            "text/plain": [
              "pandas.core.series.Series"
            ]
          },
          "metadata": {},
          "execution_count": 5
        }
      ]
    },
    {
      "cell_type": "code",
      "source": [
        "import pandas as pd\n",
        "import numpy as np\n",
        "\n",
        "array = ['r', 'e', 'l', 'e', 'v','e','l']\n",
        "# Convert the given array to pandas series and print the series\n",
        "series = pd.Series(array)\n",
        "print(series)"
      ],
      "metadata": {
        "colab": {
          "base_uri": "https://localhost:8080/"
        },
        "id": "atWLNic1b5nK",
        "outputId": "250bf1f1-5b08-480d-8f5b-c83c3f537306"
      },
      "execution_count": null,
      "outputs": [
        {
          "output_type": "stream",
          "name": "stdout",
          "text": [
            "0    r\n",
            "1    e\n",
            "2    l\n",
            "3    e\n",
            "4    v\n",
            "5    e\n",
            "6    l\n",
            "dtype: object\n"
          ]
        }
      ]
    },
    {
      "cell_type": "code",
      "source": [
        "### Creating a series from array with index\n",
        "data = np.array(['r', 'e', 'l', 5, 'v','e','l'])\n",
        "\n",
        "# Giving an index [1, 10, 20, 30, 40, 50, 60] to series\n",
        "series = pd.Series(data, index = [101, 10, 20, 30, 40, 50, 60])\n",
        "print(series)"
      ],
      "metadata": {
        "colab": {
          "base_uri": "https://localhost:8080/"
        },
        "id": "9MMJxPvxcFpK",
        "outputId": "b580decb-d9f2-4365-a112-cce4fea97856"
      },
      "execution_count": null,
      "outputs": [
        {
          "output_type": "stream",
          "name": "stdout",
          "text": [
            "101    r\n",
            "10     e\n",
            "20     l\n",
            "30     5\n",
            "40     v\n",
            "50     e\n",
            "60     l\n",
            "dtype: object\n"
          ]
        }
      ]
    },
    {
      "cell_type": "code",
      "source": [
        "dict_to_convert = {'Monday' : 0,\n",
        "                   'Tuesday' : 2,\n",
        "                    'Wednesday' : 4}\n",
        "\n",
        "# create series from dictionary\n",
        "series = pd.Series(dict_to_convert)\n",
        "\n",
        "print(series)"
      ],
      "metadata": {
        "colab": {
          "base_uri": "https://localhost:8080/"
        },
        "id": "UNphqtYUo9Q2",
        "outputId": "91e909c0-9bb8-4a7c-bdd4-526022beb767"
      },
      "execution_count": null,
      "outputs": [
        {
          "output_type": "stream",
          "name": "stdout",
          "text": [
            "Monday       0\n",
            "Tuesday      2\n",
            "Wednesday    4\n",
            "dtype: int64\n"
          ]
        }
      ]
    },
    {
      "cell_type": "code",
      "source": [
        "df = pd.DataFrame()\n",
        "print(df)\n",
        "type(df)"
      ],
      "metadata": {
        "colab": {
          "base_uri": "https://localhost:8080/"
        },
        "id": "M_WSCntBo93-",
        "outputId": "09955f8e-b173-44c5-e1aa-1873e71775ac"
      },
      "execution_count": null,
      "outputs": [
        {
          "output_type": "stream",
          "name": "stdout",
          "text": [
            "Empty DataFrame\n",
            "Columns: []\n",
            "Index: []\n"
          ]
        },
        {
          "output_type": "execute_result",
          "data": {
            "text/plain": [
              "pandas.core.frame.DataFrame"
            ]
          },
          "metadata": {},
          "execution_count": 9
        }
      ]
    },
    {
      "cell_type": "code",
      "source": [
        "# Calling DataFrame constructor on list\n",
        "# Syntax: pandas.DataFrame(data=None, index=None, columns=None)\n",
        "sentence_token = ['Relevel', 'is', 'the', 'best',\n",
        "            'platform', 'to', 'learn','python']\n",
        "df = pd.DataFrame(sentence_token, index = ['o', 'i', 'ii', 'iii', 'iv', 'v', 'vi', 'vii'], columns = ['string11'])\n",
        "print(df)\n",
        "print(type(df))\n",
        "df['string11']['i']\n",
        "\n",
        "print(df['string11']['o'])\n",
        "print(type(df))\n",
        "print(type(df['string11']))"
      ],
      "metadata": {
        "colab": {
          "base_uri": "https://localhost:8080/"
        },
        "id": "M1F00EOxpI0U",
        "outputId": "0c62fee5-2bcd-416b-968b-633fdc7bbbb4"
      },
      "execution_count": null,
      "outputs": [
        {
          "output_type": "stream",
          "name": "stdout",
          "text": [
            "     string11\n",
            "o     Relevel\n",
            "i          is\n",
            "ii        the\n",
            "iii      best\n",
            "iv   platform\n",
            "v          to\n",
            "vi      learn\n",
            "vii    python\n",
            "<class 'pandas.core.frame.DataFrame'>\n",
            "Relevel\n",
            "<class 'pandas.core.frame.DataFrame'>\n",
            "<class 'pandas.core.series.Series'>\n"
          ]
        }
      ]
    },
    {
      "cell_type": "code",
      "source": [
        "import pandas as pd\n",
        "state_data = {'State':['MP', 'UP', 'DL', None], 'Code': [10,15,19,24]}\n",
        "pd.DataFrame({'State':'MP', 'capital': 'bhopal'}, index = [1, 2, 3])\n",
        "\n",
        "# Create DataFrame with index value ['City 1', 'City 2', 'City 3', 'City 4']\n",
        "df_2 = pd.DataFrame(data = state_data, index=['City 1', 'City 2', 'City 3', 'City 4'])\n",
        "\n",
        "# Print the output.\n",
        "print(df_2)"
      ],
      "metadata": {
        "colab": {
          "base_uri": "https://localhost:8080/"
        },
        "id": "oMZFNR_2phiF",
        "outputId": "2c8b7c66-a58f-4aff-ffc3-cedf6fb71f17"
      },
      "execution_count": null,
      "outputs": [
        {
          "output_type": "stream",
          "name": "stdout",
          "text": [
            "       State  Code\n",
            "City 1    MP    10\n",
            "City 2    UP    15\n",
            "City 3    DL    19\n",
            "City 4  None    24\n"
          ]
        }
      ]
    },
    {
      "cell_type": "code",
      "source": [
        "# Create a numpy array\n",
        "nparray = np.array(\n",
        "    [['Amar', 'Akbar', 'Ram', 'Ravi'],\n",
        "     [29, 25, 33, 24],\n",
        "     ['PR', 'Marketing', 'IT', 'Finance']])\n",
        "\n",
        "# Create a dictionary of nparray\n",
        "dictionary_of_nparray = {\n",
        "    'Name': nparray[0],\n",
        "    'Age': nparray[1],\n",
        "    'Department': nparray[2]}\n",
        "\n",
        "# Create the DataFrame\n",
        "df1 = pd.DataFrame(nparray)\n",
        "print(df1)\n",
        "print(df1.shape)\n",
        "\n",
        "df2 = pd.DataFrame(dictionary_of_nparray)\n",
        "print(df2)\n",
        "print(df2.shape)"
      ],
      "metadata": {
        "colab": {
          "base_uri": "https://localhost:8080/"
        },
        "id": "w23jzCU_sBLp",
        "outputId": "0dc8a1c8-619e-4429-a902-3865bd29e6ab"
      },
      "execution_count": null,
      "outputs": [
        {
          "output_type": "stream",
          "name": "stdout",
          "text": [
            "      0          1    2        3\n",
            "0  Amar      Akbar  Ram     Ravi\n",
            "1    29         25   33       24\n",
            "2    PR  Marketing   IT  Finance\n",
            "(3, 4)\n",
            "    Name Age Department\n",
            "0   Amar  29         PR\n",
            "1  Akbar  25  Marketing\n",
            "2    Ram  33         IT\n",
            "3   Ravi  24    Finance\n",
            "(4, 3)\n"
          ]
        }
      ]
    },
    {
      "cell_type": "code",
      "source": [
        "# Define a dictionary containing data\n",
        "data = {'Name':['Hari', 'Ronak', 'Harleen', 'Parveen'],\n",
        "        'Gender':[\"M\", \"M\", \"F\", \"F\"],\n",
        "        'Address':['Delhi', 'Kanpur', 'Allahabad', 'Kannauj'],\n",
        "        'Age':[24, 26, 21, 30]}\n",
        "\n",
        "# Convert the dictionary into DataFrame\n",
        "df = pd.DataFrame(data)\n",
        "\n",
        "# print name column\n",
        "print(df.columns.tolist())\n",
        "print(list(df.columns))"
      ],
      "metadata": {
        "colab": {
          "base_uri": "https://localhost:8080/"
        },
        "id": "D1-72ce7wqeC",
        "outputId": "87138dd4-0b2e-4d5e-ab7f-db32f7f64baa"
      },
      "execution_count": null,
      "outputs": [
        {
          "output_type": "stream",
          "name": "stdout",
          "text": [
            "['Name', 'Gender', 'Address', 'Age']\n",
            "['Name', 'Gender', 'Address', 'Age']\n"
          ]
        }
      ]
    },
    {
      "cell_type": "code",
      "source": [
        "# Define a dictionary containing data\n",
        "data = {'Name':['Hari', 'Ronak', 'Harleen', 'Parveen'],\n",
        "        'Gender':[\"M\", \"M\", \"F\", \"F\"],\n",
        "        'Age':[24, 26, 21, 30]}\n",
        "\n",
        "# Convert the dictionary into DataFrame\n",
        "df = pd.DataFrame(data)\n",
        "print(df)\n",
        "# Declare a list that is to be converted into a column\n",
        "address = ['Mumbai', 'Vellore', 'Pune', 'Agra']\n",
        "\n",
        "## Add address column from address variable mentioned above\n",
        "df['Address'] = address\n",
        "print(df)"
      ],
      "metadata": {
        "colab": {
          "base_uri": "https://localhost:8080/"
        },
        "id": "IalfLf2H10eZ",
        "outputId": "575b9954-9a58-4a78-8eb1-92ad571a2013"
      },
      "execution_count": null,
      "outputs": [
        {
          "output_type": "stream",
          "name": "stdout",
          "text": [
            "      Name Gender  Age\n",
            "0     Hari      M   24\n",
            "1    Ronak      M   26\n",
            "2  Harleen      F   21\n",
            "3  Parveen      F   30\n",
            "      Name Gender  Age  Address\n",
            "0     Hari      M   24   Mumbai\n",
            "1    Ronak      M   26  Vellore\n",
            "2  Harleen      F   21     Pune\n",
            "3  Parveen      F   30     Agra\n"
          ]
        }
      ]
    },
    {
      "cell_type": "code",
      "source": [
        "import pandas as pd\n",
        "\n",
        "dict_for_df  = {'Fruits':['Mango', 'Banana', 'Watermelon', 'Grapes'],\n",
        "                    'Number of Kgs sold':[5, 10, 8, 4],\n",
        "                    'Cost per Kg':[500, 80, 100, 170],\n",
        "                   'Selling price per kg': [700, 120, 150, 200]}\n",
        "\n",
        "# Creating the DataFrame\n",
        "df = pd.DataFrame(dict_for_df)\n",
        "\n",
        "# Print the dataframe\n",
        "df\n",
        "\n",
        "# create a new column based on the following formula\n",
        "# Number of Kgs sold * (Selling price per kg - Cost per Kg)\n",
        "df['Profit'] = df['Number of Kgs sold'] * (df['Selling price per kg'] - df['Cost per Kg'])\n",
        "\n",
        "# Print the DataFrame after\n",
        "# addition of new column\n",
        "df\n",
        "\n",
        "df1 = df.assign(profit = lambda x: x['Number of Kgs sold'] * (x['Selling price per kg'] - x['Cost per Kg']))\n",
        "df1"
      ],
      "metadata": {
        "colab": {
          "base_uri": "https://localhost:8080/",
          "height": 175
        },
        "id": "JhitTa6v3LnA",
        "outputId": "2d27c3aa-3784-47e6-febc-297583e30bad"
      },
      "execution_count": null,
      "outputs": [
        {
          "output_type": "execute_result",
          "data": {
            "text/plain": [
              "       Fruits  Number of Kgs sold  Cost per Kg  Selling price per kg  Profit  \\\n",
              "0       Mango                   5          500                   700    1000   \n",
              "1      Banana                  10           80                   120     400   \n",
              "2  Watermelon                   8          100                   150     400   \n",
              "3      Grapes                   4          170                   200     120   \n",
              "\n",
              "   profit  \n",
              "0    1000  \n",
              "1     400  \n",
              "2     400  \n",
              "3     120  "
            ],
            "text/html": [
              "\n",
              "  <div id=\"df-f6940b81-7dcf-4d41-8bcf-334289a1e71a\">\n",
              "    <div class=\"colab-df-container\">\n",
              "      <div>\n",
              "<style scoped>\n",
              "    .dataframe tbody tr th:only-of-type {\n",
              "        vertical-align: middle;\n",
              "    }\n",
              "\n",
              "    .dataframe tbody tr th {\n",
              "        vertical-align: top;\n",
              "    }\n",
              "\n",
              "    .dataframe thead th {\n",
              "        text-align: right;\n",
              "    }\n",
              "</style>\n",
              "<table border=\"1\" class=\"dataframe\">\n",
              "  <thead>\n",
              "    <tr style=\"text-align: right;\">\n",
              "      <th></th>\n",
              "      <th>Fruits</th>\n",
              "      <th>Number of Kgs sold</th>\n",
              "      <th>Cost per Kg</th>\n",
              "      <th>Selling price per kg</th>\n",
              "      <th>Profit</th>\n",
              "      <th>profit</th>\n",
              "    </tr>\n",
              "  </thead>\n",
              "  <tbody>\n",
              "    <tr>\n",
              "      <th>0</th>\n",
              "      <td>Mango</td>\n",
              "      <td>5</td>\n",
              "      <td>500</td>\n",
              "      <td>700</td>\n",
              "      <td>1000</td>\n",
              "      <td>1000</td>\n",
              "    </tr>\n",
              "    <tr>\n",
              "      <th>1</th>\n",
              "      <td>Banana</td>\n",
              "      <td>10</td>\n",
              "      <td>80</td>\n",
              "      <td>120</td>\n",
              "      <td>400</td>\n",
              "      <td>400</td>\n",
              "    </tr>\n",
              "    <tr>\n",
              "      <th>2</th>\n",
              "      <td>Watermelon</td>\n",
              "      <td>8</td>\n",
              "      <td>100</td>\n",
              "      <td>150</td>\n",
              "      <td>400</td>\n",
              "      <td>400</td>\n",
              "    </tr>\n",
              "    <tr>\n",
              "      <th>3</th>\n",
              "      <td>Grapes</td>\n",
              "      <td>4</td>\n",
              "      <td>170</td>\n",
              "      <td>200</td>\n",
              "      <td>120</td>\n",
              "      <td>120</td>\n",
              "    </tr>\n",
              "  </tbody>\n",
              "</table>\n",
              "</div>\n",
              "      <button class=\"colab-df-convert\" onclick=\"convertToInteractive('df-f6940b81-7dcf-4d41-8bcf-334289a1e71a')\"\n",
              "              title=\"Convert this dataframe to an interactive table.\"\n",
              "              style=\"display:none;\">\n",
              "        \n",
              "  <svg xmlns=\"http://www.w3.org/2000/svg\" height=\"24px\"viewBox=\"0 0 24 24\"\n",
              "       width=\"24px\">\n",
              "    <path d=\"M0 0h24v24H0V0z\" fill=\"none\"/>\n",
              "    <path d=\"M18.56 5.44l.94 2.06.94-2.06 2.06-.94-2.06-.94-.94-2.06-.94 2.06-2.06.94zm-11 1L8.5 8.5l.94-2.06 2.06-.94-2.06-.94L8.5 2.5l-.94 2.06-2.06.94zm10 10l.94 2.06.94-2.06 2.06-.94-2.06-.94-.94-2.06-.94 2.06-2.06.94z\"/><path d=\"M17.41 7.96l-1.37-1.37c-.4-.4-.92-.59-1.43-.59-.52 0-1.04.2-1.43.59L10.3 9.45l-7.72 7.72c-.78.78-.78 2.05 0 2.83L4 21.41c.39.39.9.59 1.41.59.51 0 1.02-.2 1.41-.59l7.78-7.78 2.81-2.81c.8-.78.8-2.07 0-2.86zM5.41 20L4 18.59l7.72-7.72 1.47 1.35L5.41 20z\"/>\n",
              "  </svg>\n",
              "      </button>\n",
              "      \n",
              "  <style>\n",
              "    .colab-df-container {\n",
              "      display:flex;\n",
              "      flex-wrap:wrap;\n",
              "      gap: 12px;\n",
              "    }\n",
              "\n",
              "    .colab-df-convert {\n",
              "      background-color: #E8F0FE;\n",
              "      border: none;\n",
              "      border-radius: 50%;\n",
              "      cursor: pointer;\n",
              "      display: none;\n",
              "      fill: #1967D2;\n",
              "      height: 32px;\n",
              "      padding: 0 0 0 0;\n",
              "      width: 32px;\n",
              "    }\n",
              "\n",
              "    .colab-df-convert:hover {\n",
              "      background-color: #E2EBFA;\n",
              "      box-shadow: 0px 1px 2px rgba(60, 64, 67, 0.3), 0px 1px 3px 1px rgba(60, 64, 67, 0.15);\n",
              "      fill: #174EA6;\n",
              "    }\n",
              "\n",
              "    [theme=dark] .colab-df-convert {\n",
              "      background-color: #3B4455;\n",
              "      fill: #D2E3FC;\n",
              "    }\n",
              "\n",
              "    [theme=dark] .colab-df-convert:hover {\n",
              "      background-color: #434B5C;\n",
              "      box-shadow: 0px 1px 3px 1px rgba(0, 0, 0, 0.15);\n",
              "      filter: drop-shadow(0px 1px 2px rgba(0, 0, 0, 0.3));\n",
              "      fill: #FFFFFF;\n",
              "    }\n",
              "  </style>\n",
              "\n",
              "      <script>\n",
              "        const buttonEl =\n",
              "          document.querySelector('#df-f6940b81-7dcf-4d41-8bcf-334289a1e71a button.colab-df-convert');\n",
              "        buttonEl.style.display =\n",
              "          google.colab.kernel.accessAllowed ? 'block' : 'none';\n",
              "\n",
              "        async function convertToInteractive(key) {\n",
              "          const element = document.querySelector('#df-f6940b81-7dcf-4d41-8bcf-334289a1e71a');\n",
              "          const dataTable =\n",
              "            await google.colab.kernel.invokeFunction('convertToInteractive',\n",
              "                                                     [key], {});\n",
              "          if (!dataTable) return;\n",
              "\n",
              "          const docLinkHtml = 'Like what you see? Visit the ' +\n",
              "            '<a target=\"_blank\" href=https://colab.research.google.com/notebooks/data_table.ipynb>data table notebook</a>'\n",
              "            + ' to learn more about interactive tables.';\n",
              "          element.innerHTML = '';\n",
              "          dataTable['output_type'] = 'display_data';\n",
              "          await google.colab.output.renderOutput(dataTable, element);\n",
              "          const docLink = document.createElement('div');\n",
              "          docLink.innerHTML = docLinkHtml;\n",
              "          element.appendChild(docLink);\n",
              "        }\n",
              "      </script>\n",
              "    </div>\n",
              "  </div>\n",
              "  "
            ]
          },
          "metadata": {},
          "execution_count": 18
        }
      ]
    },
    {
      "cell_type": "code",
      "source": [
        "### Deleting Column\"\"\"\n",
        "\n",
        "# Define a dictionary containing data\n",
        "data = {'Name':['Hari', 'Ronak', 'Harleen', 'Parveen'],\n",
        "        'Gender':[\"M\", \"M\", \"F\", \"F\"],\n",
        "        'Address':['Delhi', 'Kanpur', 'Allahabad', 'Kannauj'],\n",
        "        'Age':[24, 26, 21, 30]}\n",
        "\n",
        "# Convert the dictionary into DataFrame\n",
        "df = pd.DataFrame(data)\n",
        "\n",
        "# dropping Gender columns\n",
        "fd1 = df.drop(['Age', 'Gender'], axis = 1)\n",
        "print(fd1)"
      ],
      "metadata": {
        "colab": {
          "base_uri": "https://localhost:8080/"
        },
        "id": "f7mqk59l3y49",
        "outputId": "809425e0-b767-47ec-be5b-5d53c9e57317"
      },
      "execution_count": null,
      "outputs": [
        {
          "output_type": "stream",
          "name": "stdout",
          "text": [
            "      Name    Address\n",
            "0     Hari      Delhi\n",
            "1    Ronak     Kanpur\n",
            "2  Harleen  Allahabad\n",
            "3  Parveen    Kannauj\n"
          ]
        }
      ]
    },
    {
      "cell_type": "code",
      "source": [
        "### Deleting Rows\n",
        "# Define a dictionary containing data\n",
        "data = {'Name':['Hari', 'Ronak', 'Harleen', 'Parveen'],\n",
        "        'Gender':[\"M\", \"M\", \"F\", \"F\"],\n",
        "        'Address':['Delhi', 'Kanpur', 'Allahabad', 'Kannauj'],\n",
        "        'Age':[24, 26, 21, 30]}\n",
        "\n",
        "# Convert the dictionary into DataFrame\n",
        "df = pd.DataFrame(data)\n",
        "\n",
        "# dropping passed values [\"Avery Bradley\", \"John Holland\"]\n",
        "\n",
        "df.drop([0,1]) #by default axis=0\n",
        "df.drop(range(0,2))\n"
      ],
      "metadata": {
        "colab": {
          "base_uri": "https://localhost:8080/",
          "height": 112
        },
        "id": "AFB63sOZ4YwN",
        "outputId": "0a4d6d6c-a30a-4759-867a-c2c221abbc18"
      },
      "execution_count": null,
      "outputs": [
        {
          "output_type": "execute_result",
          "data": {
            "text/plain": [
              "      Name Gender    Address  Age\n",
              "2  Harleen      F  Allahabad   21\n",
              "3  Parveen      F    Kannauj   30"
            ],
            "text/html": [
              "\n",
              "  <div id=\"df-b519d82a-39a9-47ec-baaa-da39e6aac372\">\n",
              "    <div class=\"colab-df-container\">\n",
              "      <div>\n",
              "<style scoped>\n",
              "    .dataframe tbody tr th:only-of-type {\n",
              "        vertical-align: middle;\n",
              "    }\n",
              "\n",
              "    .dataframe tbody tr th {\n",
              "        vertical-align: top;\n",
              "    }\n",
              "\n",
              "    .dataframe thead th {\n",
              "        text-align: right;\n",
              "    }\n",
              "</style>\n",
              "<table border=\"1\" class=\"dataframe\">\n",
              "  <thead>\n",
              "    <tr style=\"text-align: right;\">\n",
              "      <th></th>\n",
              "      <th>Name</th>\n",
              "      <th>Gender</th>\n",
              "      <th>Address</th>\n",
              "      <th>Age</th>\n",
              "    </tr>\n",
              "  </thead>\n",
              "  <tbody>\n",
              "    <tr>\n",
              "      <th>2</th>\n",
              "      <td>Harleen</td>\n",
              "      <td>F</td>\n",
              "      <td>Allahabad</td>\n",
              "      <td>21</td>\n",
              "    </tr>\n",
              "    <tr>\n",
              "      <th>3</th>\n",
              "      <td>Parveen</td>\n",
              "      <td>F</td>\n",
              "      <td>Kannauj</td>\n",
              "      <td>30</td>\n",
              "    </tr>\n",
              "  </tbody>\n",
              "</table>\n",
              "</div>\n",
              "      <button class=\"colab-df-convert\" onclick=\"convertToInteractive('df-b519d82a-39a9-47ec-baaa-da39e6aac372')\"\n",
              "              title=\"Convert this dataframe to an interactive table.\"\n",
              "              style=\"display:none;\">\n",
              "        \n",
              "  <svg xmlns=\"http://www.w3.org/2000/svg\" height=\"24px\"viewBox=\"0 0 24 24\"\n",
              "       width=\"24px\">\n",
              "    <path d=\"M0 0h24v24H0V0z\" fill=\"none\"/>\n",
              "    <path d=\"M18.56 5.44l.94 2.06.94-2.06 2.06-.94-2.06-.94-.94-2.06-.94 2.06-2.06.94zm-11 1L8.5 8.5l.94-2.06 2.06-.94-2.06-.94L8.5 2.5l-.94 2.06-2.06.94zm10 10l.94 2.06.94-2.06 2.06-.94-2.06-.94-.94-2.06-.94 2.06-2.06.94z\"/><path d=\"M17.41 7.96l-1.37-1.37c-.4-.4-.92-.59-1.43-.59-.52 0-1.04.2-1.43.59L10.3 9.45l-7.72 7.72c-.78.78-.78 2.05 0 2.83L4 21.41c.39.39.9.59 1.41.59.51 0 1.02-.2 1.41-.59l7.78-7.78 2.81-2.81c.8-.78.8-2.07 0-2.86zM5.41 20L4 18.59l7.72-7.72 1.47 1.35L5.41 20z\"/>\n",
              "  </svg>\n",
              "      </button>\n",
              "      \n",
              "  <style>\n",
              "    .colab-df-container {\n",
              "      display:flex;\n",
              "      flex-wrap:wrap;\n",
              "      gap: 12px;\n",
              "    }\n",
              "\n",
              "    .colab-df-convert {\n",
              "      background-color: #E8F0FE;\n",
              "      border: none;\n",
              "      border-radius: 50%;\n",
              "      cursor: pointer;\n",
              "      display: none;\n",
              "      fill: #1967D2;\n",
              "      height: 32px;\n",
              "      padding: 0 0 0 0;\n",
              "      width: 32px;\n",
              "    }\n",
              "\n",
              "    .colab-df-convert:hover {\n",
              "      background-color: #E2EBFA;\n",
              "      box-shadow: 0px 1px 2px rgba(60, 64, 67, 0.3), 0px 1px 3px 1px rgba(60, 64, 67, 0.15);\n",
              "      fill: #174EA6;\n",
              "    }\n",
              "\n",
              "    [theme=dark] .colab-df-convert {\n",
              "      background-color: #3B4455;\n",
              "      fill: #D2E3FC;\n",
              "    }\n",
              "\n",
              "    [theme=dark] .colab-df-convert:hover {\n",
              "      background-color: #434B5C;\n",
              "      box-shadow: 0px 1px 3px 1px rgba(0, 0, 0, 0.15);\n",
              "      filter: drop-shadow(0px 1px 2px rgba(0, 0, 0, 0.3));\n",
              "      fill: #FFFFFF;\n",
              "    }\n",
              "  </style>\n",
              "\n",
              "      <script>\n",
              "        const buttonEl =\n",
              "          document.querySelector('#df-b519d82a-39a9-47ec-baaa-da39e6aac372 button.colab-df-convert');\n",
              "        buttonEl.style.display =\n",
              "          google.colab.kernel.accessAllowed ? 'block' : 'none';\n",
              "\n",
              "        async function convertToInteractive(key) {\n",
              "          const element = document.querySelector('#df-b519d82a-39a9-47ec-baaa-da39e6aac372');\n",
              "          const dataTable =\n",
              "            await google.colab.kernel.invokeFunction('convertToInteractive',\n",
              "                                                     [key], {});\n",
              "          if (!dataTable) return;\n",
              "\n",
              "          const docLinkHtml = 'Like what you see? Visit the ' +\n",
              "            '<a target=\"_blank\" href=https://colab.research.google.com/notebooks/data_table.ipynb>data table notebook</a>'\n",
              "            + ' to learn more about interactive tables.';\n",
              "          element.innerHTML = '';\n",
              "          dataTable['output_type'] = 'display_data';\n",
              "          await google.colab.output.renderOutput(dataTable, element);\n",
              "          const docLink = document.createElement('div');\n",
              "          docLink.innerHTML = docLinkHtml;\n",
              "          element.appendChild(docLink);\n",
              "        }\n",
              "      </script>\n",
              "    </div>\n",
              "  </div>\n",
              "  "
            ]
          },
          "metadata": {},
          "execution_count": 27
        }
      ]
    },
    {
      "cell_type": "code",
      "source": [
        "# Convert the dictionary into DataFrame\n",
        "df = pd.DataFrame(data)\n",
        "data1 = pd.DataFrame({'Name': ['Prime', 'JOHN'], 'Gender': ['M','M'], 'Address': ['Pune', 'jkl'], 'Age':[25, 45]})\n",
        "\n",
        "data2 = pd.DataFrame({'Name': ['yee', 'jane'], 'Gender': ['M','F'], 'Address': ['Pune', 'jkl'], 'Age':[12, 8]}, index=[6,7])\n",
        "\n",
        "df.append([data1, data2])\n",
        "#by default the index starts from 0"
      ],
      "metadata": {
        "colab": {
          "base_uri": "https://localhost:8080/",
          "height": 300
        },
        "id": "G64eoI-34kTB",
        "outputId": "06bb42d6-e895-4006-aa32-20fc29bf98c5"
      },
      "execution_count": null,
      "outputs": [
        {
          "output_type": "execute_result",
          "data": {
            "text/plain": [
              "      Name Gender    Address  Age\n",
              "0     Hari      M      Delhi   24\n",
              "1    Ronak      M     Kanpur   26\n",
              "2  Harleen      F  Allahabad   21\n",
              "3  Parveen      F    Kannauj   30\n",
              "0    Prime      M       Pune   25\n",
              "1     JOHN      M        jkl   45\n",
              "6      yee      M       Pune   12\n",
              "7     jane      F        jkl    8"
            ],
            "text/html": [
              "\n",
              "  <div id=\"df-d4f4768c-387b-411f-a598-ddf1ca9e074d\">\n",
              "    <div class=\"colab-df-container\">\n",
              "      <div>\n",
              "<style scoped>\n",
              "    .dataframe tbody tr th:only-of-type {\n",
              "        vertical-align: middle;\n",
              "    }\n",
              "\n",
              "    .dataframe tbody tr th {\n",
              "        vertical-align: top;\n",
              "    }\n",
              "\n",
              "    .dataframe thead th {\n",
              "        text-align: right;\n",
              "    }\n",
              "</style>\n",
              "<table border=\"1\" class=\"dataframe\">\n",
              "  <thead>\n",
              "    <tr style=\"text-align: right;\">\n",
              "      <th></th>\n",
              "      <th>Name</th>\n",
              "      <th>Gender</th>\n",
              "      <th>Address</th>\n",
              "      <th>Age</th>\n",
              "    </tr>\n",
              "  </thead>\n",
              "  <tbody>\n",
              "    <tr>\n",
              "      <th>0</th>\n",
              "      <td>Hari</td>\n",
              "      <td>M</td>\n",
              "      <td>Delhi</td>\n",
              "      <td>24</td>\n",
              "    </tr>\n",
              "    <tr>\n",
              "      <th>1</th>\n",
              "      <td>Ronak</td>\n",
              "      <td>M</td>\n",
              "      <td>Kanpur</td>\n",
              "      <td>26</td>\n",
              "    </tr>\n",
              "    <tr>\n",
              "      <th>2</th>\n",
              "      <td>Harleen</td>\n",
              "      <td>F</td>\n",
              "      <td>Allahabad</td>\n",
              "      <td>21</td>\n",
              "    </tr>\n",
              "    <tr>\n",
              "      <th>3</th>\n",
              "      <td>Parveen</td>\n",
              "      <td>F</td>\n",
              "      <td>Kannauj</td>\n",
              "      <td>30</td>\n",
              "    </tr>\n",
              "    <tr>\n",
              "      <th>0</th>\n",
              "      <td>Prime</td>\n",
              "      <td>M</td>\n",
              "      <td>Pune</td>\n",
              "      <td>25</td>\n",
              "    </tr>\n",
              "    <tr>\n",
              "      <th>1</th>\n",
              "      <td>JOHN</td>\n",
              "      <td>M</td>\n",
              "      <td>jkl</td>\n",
              "      <td>45</td>\n",
              "    </tr>\n",
              "    <tr>\n",
              "      <th>6</th>\n",
              "      <td>yee</td>\n",
              "      <td>M</td>\n",
              "      <td>Pune</td>\n",
              "      <td>12</td>\n",
              "    </tr>\n",
              "    <tr>\n",
              "      <th>7</th>\n",
              "      <td>jane</td>\n",
              "      <td>F</td>\n",
              "      <td>jkl</td>\n",
              "      <td>8</td>\n",
              "    </tr>\n",
              "  </tbody>\n",
              "</table>\n",
              "</div>\n",
              "      <button class=\"colab-df-convert\" onclick=\"convertToInteractive('df-d4f4768c-387b-411f-a598-ddf1ca9e074d')\"\n",
              "              title=\"Convert this dataframe to an interactive table.\"\n",
              "              style=\"display:none;\">\n",
              "        \n",
              "  <svg xmlns=\"http://www.w3.org/2000/svg\" height=\"24px\"viewBox=\"0 0 24 24\"\n",
              "       width=\"24px\">\n",
              "    <path d=\"M0 0h24v24H0V0z\" fill=\"none\"/>\n",
              "    <path d=\"M18.56 5.44l.94 2.06.94-2.06 2.06-.94-2.06-.94-.94-2.06-.94 2.06-2.06.94zm-11 1L8.5 8.5l.94-2.06 2.06-.94-2.06-.94L8.5 2.5l-.94 2.06-2.06.94zm10 10l.94 2.06.94-2.06 2.06-.94-2.06-.94-.94-2.06-.94 2.06-2.06.94z\"/><path d=\"M17.41 7.96l-1.37-1.37c-.4-.4-.92-.59-1.43-.59-.52 0-1.04.2-1.43.59L10.3 9.45l-7.72 7.72c-.78.78-.78 2.05 0 2.83L4 21.41c.39.39.9.59 1.41.59.51 0 1.02-.2 1.41-.59l7.78-7.78 2.81-2.81c.8-.78.8-2.07 0-2.86zM5.41 20L4 18.59l7.72-7.72 1.47 1.35L5.41 20z\"/>\n",
              "  </svg>\n",
              "      </button>\n",
              "      \n",
              "  <style>\n",
              "    .colab-df-container {\n",
              "      display:flex;\n",
              "      flex-wrap:wrap;\n",
              "      gap: 12px;\n",
              "    }\n",
              "\n",
              "    .colab-df-convert {\n",
              "      background-color: #E8F0FE;\n",
              "      border: none;\n",
              "      border-radius: 50%;\n",
              "      cursor: pointer;\n",
              "      display: none;\n",
              "      fill: #1967D2;\n",
              "      height: 32px;\n",
              "      padding: 0 0 0 0;\n",
              "      width: 32px;\n",
              "    }\n",
              "\n",
              "    .colab-df-convert:hover {\n",
              "      background-color: #E2EBFA;\n",
              "      box-shadow: 0px 1px 2px rgba(60, 64, 67, 0.3), 0px 1px 3px 1px rgba(60, 64, 67, 0.15);\n",
              "      fill: #174EA6;\n",
              "    }\n",
              "\n",
              "    [theme=dark] .colab-df-convert {\n",
              "      background-color: #3B4455;\n",
              "      fill: #D2E3FC;\n",
              "    }\n",
              "\n",
              "    [theme=dark] .colab-df-convert:hover {\n",
              "      background-color: #434B5C;\n",
              "      box-shadow: 0px 1px 3px 1px rgba(0, 0, 0, 0.15);\n",
              "      filter: drop-shadow(0px 1px 2px rgba(0, 0, 0, 0.3));\n",
              "      fill: #FFFFFF;\n",
              "    }\n",
              "  </style>\n",
              "\n",
              "      <script>\n",
              "        const buttonEl =\n",
              "          document.querySelector('#df-d4f4768c-387b-411f-a598-ddf1ca9e074d button.colab-df-convert');\n",
              "        buttonEl.style.display =\n",
              "          google.colab.kernel.accessAllowed ? 'block' : 'none';\n",
              "\n",
              "        async function convertToInteractive(key) {\n",
              "          const element = document.querySelector('#df-d4f4768c-387b-411f-a598-ddf1ca9e074d');\n",
              "          const dataTable =\n",
              "            await google.colab.kernel.invokeFunction('convertToInteractive',\n",
              "                                                     [key], {});\n",
              "          if (!dataTable) return;\n",
              "\n",
              "          const docLinkHtml = 'Like what you see? Visit the ' +\n",
              "            '<a target=\"_blank\" href=https://colab.research.google.com/notebooks/data_table.ipynb>data table notebook</a>'\n",
              "            + ' to learn more about interactive tables.';\n",
              "          element.innerHTML = '';\n",
              "          dataTable['output_type'] = 'display_data';\n",
              "          await google.colab.output.renderOutput(dataTable, element);\n",
              "          const docLink = document.createElement('div');\n",
              "          docLink.innerHTML = docLinkHtml;\n",
              "          element.appendChild(docLink);\n",
              "        }\n",
              "      </script>\n",
              "    </div>\n",
              "  </div>\n",
              "  "
            ]
          },
          "metadata": {},
          "execution_count": 28
        }
      ]
    },
    {
      "cell_type": "code",
      "source": [
        "df1 = pd.DataFrame({'ID': [1, 2, 3, 4, 5, 6, 7, 8, 9, 10], 'Name': ['aa', 'bb', 'cc', 'dd', 'ee', 'ff', 'gg', 'hh', 'ii', 'jj'],\n",
        "       'salary': [1407, 1416, 1272, 1803, 1725, 1280, 1651, 1374, 1628, 1512], 'bonus': [158, 192, 113, 105, 117, 151, 103, 139, 160, 108]})\n",
        "df2 = pd.DataFrame({'ID': [11, 12, 13, 14, 15, 16, 17, 18, 19, 20], 'Name': ['aa1', 'bb1', 'cc1', 'dd1', 'ee1', 'ff1', 'gg1', 'hh1', 'ii1', 'jj1'],\n",
        "       'salary': [1607, 1646, 1262, 1063, 1765, 1260, 1661, 1764, 1668, 1562], 'bonus': [128, 122, 123, 205, 127, 121, 123, 129, 102, 182]})\n",
        "\n",
        "pd.concat([df1, df2], ignore_index = True)"
      ],
      "metadata": {
        "colab": {
          "base_uri": "https://localhost:8080/",
          "height": 676
        },
        "id": "Qmlw1EFL6Y8-",
        "outputId": "f2250d98-be84-4935-ad7a-9c5b013b76b2"
      },
      "execution_count": null,
      "outputs": [
        {
          "output_type": "execute_result",
          "data": {
            "text/plain": [
              "    ID Name  salary  bonus\n",
              "0    1   aa    1407    158\n",
              "1    2   bb    1416    192\n",
              "2    3   cc    1272    113\n",
              "3    4   dd    1803    105\n",
              "4    5   ee    1725    117\n",
              "5    6   ff    1280    151\n",
              "6    7   gg    1651    103\n",
              "7    8   hh    1374    139\n",
              "8    9   ii    1628    160\n",
              "9   10   jj    1512    108\n",
              "10  11  aa1    1607    128\n",
              "11  12  bb1    1646    122\n",
              "12  13  cc1    1262    123\n",
              "13  14  dd1    1063    205\n",
              "14  15  ee1    1765    127\n",
              "15  16  ff1    1260    121\n",
              "16  17  gg1    1661    123\n",
              "17  18  hh1    1764    129\n",
              "18  19  ii1    1668    102\n",
              "19  20  jj1    1562    182"
            ],
            "text/html": [
              "\n",
              "  <div id=\"df-f22fe124-da95-4007-aa98-67857eb7a45b\">\n",
              "    <div class=\"colab-df-container\">\n",
              "      <div>\n",
              "<style scoped>\n",
              "    .dataframe tbody tr th:only-of-type {\n",
              "        vertical-align: middle;\n",
              "    }\n",
              "\n",
              "    .dataframe tbody tr th {\n",
              "        vertical-align: top;\n",
              "    }\n",
              "\n",
              "    .dataframe thead th {\n",
              "        text-align: right;\n",
              "    }\n",
              "</style>\n",
              "<table border=\"1\" class=\"dataframe\">\n",
              "  <thead>\n",
              "    <tr style=\"text-align: right;\">\n",
              "      <th></th>\n",
              "      <th>ID</th>\n",
              "      <th>Name</th>\n",
              "      <th>salary</th>\n",
              "      <th>bonus</th>\n",
              "    </tr>\n",
              "  </thead>\n",
              "  <tbody>\n",
              "    <tr>\n",
              "      <th>0</th>\n",
              "      <td>1</td>\n",
              "      <td>aa</td>\n",
              "      <td>1407</td>\n",
              "      <td>158</td>\n",
              "    </tr>\n",
              "    <tr>\n",
              "      <th>1</th>\n",
              "      <td>2</td>\n",
              "      <td>bb</td>\n",
              "      <td>1416</td>\n",
              "      <td>192</td>\n",
              "    </tr>\n",
              "    <tr>\n",
              "      <th>2</th>\n",
              "      <td>3</td>\n",
              "      <td>cc</td>\n",
              "      <td>1272</td>\n",
              "      <td>113</td>\n",
              "    </tr>\n",
              "    <tr>\n",
              "      <th>3</th>\n",
              "      <td>4</td>\n",
              "      <td>dd</td>\n",
              "      <td>1803</td>\n",
              "      <td>105</td>\n",
              "    </tr>\n",
              "    <tr>\n",
              "      <th>4</th>\n",
              "      <td>5</td>\n",
              "      <td>ee</td>\n",
              "      <td>1725</td>\n",
              "      <td>117</td>\n",
              "    </tr>\n",
              "    <tr>\n",
              "      <th>5</th>\n",
              "      <td>6</td>\n",
              "      <td>ff</td>\n",
              "      <td>1280</td>\n",
              "      <td>151</td>\n",
              "    </tr>\n",
              "    <tr>\n",
              "      <th>6</th>\n",
              "      <td>7</td>\n",
              "      <td>gg</td>\n",
              "      <td>1651</td>\n",
              "      <td>103</td>\n",
              "    </tr>\n",
              "    <tr>\n",
              "      <th>7</th>\n",
              "      <td>8</td>\n",
              "      <td>hh</td>\n",
              "      <td>1374</td>\n",
              "      <td>139</td>\n",
              "    </tr>\n",
              "    <tr>\n",
              "      <th>8</th>\n",
              "      <td>9</td>\n",
              "      <td>ii</td>\n",
              "      <td>1628</td>\n",
              "      <td>160</td>\n",
              "    </tr>\n",
              "    <tr>\n",
              "      <th>9</th>\n",
              "      <td>10</td>\n",
              "      <td>jj</td>\n",
              "      <td>1512</td>\n",
              "      <td>108</td>\n",
              "    </tr>\n",
              "    <tr>\n",
              "      <th>10</th>\n",
              "      <td>11</td>\n",
              "      <td>aa1</td>\n",
              "      <td>1607</td>\n",
              "      <td>128</td>\n",
              "    </tr>\n",
              "    <tr>\n",
              "      <th>11</th>\n",
              "      <td>12</td>\n",
              "      <td>bb1</td>\n",
              "      <td>1646</td>\n",
              "      <td>122</td>\n",
              "    </tr>\n",
              "    <tr>\n",
              "      <th>12</th>\n",
              "      <td>13</td>\n",
              "      <td>cc1</td>\n",
              "      <td>1262</td>\n",
              "      <td>123</td>\n",
              "    </tr>\n",
              "    <tr>\n",
              "      <th>13</th>\n",
              "      <td>14</td>\n",
              "      <td>dd1</td>\n",
              "      <td>1063</td>\n",
              "      <td>205</td>\n",
              "    </tr>\n",
              "    <tr>\n",
              "      <th>14</th>\n",
              "      <td>15</td>\n",
              "      <td>ee1</td>\n",
              "      <td>1765</td>\n",
              "      <td>127</td>\n",
              "    </tr>\n",
              "    <tr>\n",
              "      <th>15</th>\n",
              "      <td>16</td>\n",
              "      <td>ff1</td>\n",
              "      <td>1260</td>\n",
              "      <td>121</td>\n",
              "    </tr>\n",
              "    <tr>\n",
              "      <th>16</th>\n",
              "      <td>17</td>\n",
              "      <td>gg1</td>\n",
              "      <td>1661</td>\n",
              "      <td>123</td>\n",
              "    </tr>\n",
              "    <tr>\n",
              "      <th>17</th>\n",
              "      <td>18</td>\n",
              "      <td>hh1</td>\n",
              "      <td>1764</td>\n",
              "      <td>129</td>\n",
              "    </tr>\n",
              "    <tr>\n",
              "      <th>18</th>\n",
              "      <td>19</td>\n",
              "      <td>ii1</td>\n",
              "      <td>1668</td>\n",
              "      <td>102</td>\n",
              "    </tr>\n",
              "    <tr>\n",
              "      <th>19</th>\n",
              "      <td>20</td>\n",
              "      <td>jj1</td>\n",
              "      <td>1562</td>\n",
              "      <td>182</td>\n",
              "    </tr>\n",
              "  </tbody>\n",
              "</table>\n",
              "</div>\n",
              "      <button class=\"colab-df-convert\" onclick=\"convertToInteractive('df-f22fe124-da95-4007-aa98-67857eb7a45b')\"\n",
              "              title=\"Convert this dataframe to an interactive table.\"\n",
              "              style=\"display:none;\">\n",
              "        \n",
              "  <svg xmlns=\"http://www.w3.org/2000/svg\" height=\"24px\"viewBox=\"0 0 24 24\"\n",
              "       width=\"24px\">\n",
              "    <path d=\"M0 0h24v24H0V0z\" fill=\"none\"/>\n",
              "    <path d=\"M18.56 5.44l.94 2.06.94-2.06 2.06-.94-2.06-.94-.94-2.06-.94 2.06-2.06.94zm-11 1L8.5 8.5l.94-2.06 2.06-.94-2.06-.94L8.5 2.5l-.94 2.06-2.06.94zm10 10l.94 2.06.94-2.06 2.06-.94-2.06-.94-.94-2.06-.94 2.06-2.06.94z\"/><path d=\"M17.41 7.96l-1.37-1.37c-.4-.4-.92-.59-1.43-.59-.52 0-1.04.2-1.43.59L10.3 9.45l-7.72 7.72c-.78.78-.78 2.05 0 2.83L4 21.41c.39.39.9.59 1.41.59.51 0 1.02-.2 1.41-.59l7.78-7.78 2.81-2.81c.8-.78.8-2.07 0-2.86zM5.41 20L4 18.59l7.72-7.72 1.47 1.35L5.41 20z\"/>\n",
              "  </svg>\n",
              "      </button>\n",
              "      \n",
              "  <style>\n",
              "    .colab-df-container {\n",
              "      display:flex;\n",
              "      flex-wrap:wrap;\n",
              "      gap: 12px;\n",
              "    }\n",
              "\n",
              "    .colab-df-convert {\n",
              "      background-color: #E8F0FE;\n",
              "      border: none;\n",
              "      border-radius: 50%;\n",
              "      cursor: pointer;\n",
              "      display: none;\n",
              "      fill: #1967D2;\n",
              "      height: 32px;\n",
              "      padding: 0 0 0 0;\n",
              "      width: 32px;\n",
              "    }\n",
              "\n",
              "    .colab-df-convert:hover {\n",
              "      background-color: #E2EBFA;\n",
              "      box-shadow: 0px 1px 2px rgba(60, 64, 67, 0.3), 0px 1px 3px 1px rgba(60, 64, 67, 0.15);\n",
              "      fill: #174EA6;\n",
              "    }\n",
              "\n",
              "    [theme=dark] .colab-df-convert {\n",
              "      background-color: #3B4455;\n",
              "      fill: #D2E3FC;\n",
              "    }\n",
              "\n",
              "    [theme=dark] .colab-df-convert:hover {\n",
              "      background-color: #434B5C;\n",
              "      box-shadow: 0px 1px 3px 1px rgba(0, 0, 0, 0.15);\n",
              "      filter: drop-shadow(0px 1px 2px rgba(0, 0, 0, 0.3));\n",
              "      fill: #FFFFFF;\n",
              "    }\n",
              "  </style>\n",
              "\n",
              "      <script>\n",
              "        const buttonEl =\n",
              "          document.querySelector('#df-f22fe124-da95-4007-aa98-67857eb7a45b button.colab-df-convert');\n",
              "        buttonEl.style.display =\n",
              "          google.colab.kernel.accessAllowed ? 'block' : 'none';\n",
              "\n",
              "        async function convertToInteractive(key) {\n",
              "          const element = document.querySelector('#df-f22fe124-da95-4007-aa98-67857eb7a45b');\n",
              "          const dataTable =\n",
              "            await google.colab.kernel.invokeFunction('convertToInteractive',\n",
              "                                                     [key], {});\n",
              "          if (!dataTable) return;\n",
              "\n",
              "          const docLinkHtml = 'Like what you see? Visit the ' +\n",
              "            '<a target=\"_blank\" href=https://colab.research.google.com/notebooks/data_table.ipynb>data table notebook</a>'\n",
              "            + ' to learn more about interactive tables.';\n",
              "          element.innerHTML = '';\n",
              "          dataTable['output_type'] = 'display_data';\n",
              "          await google.colab.output.renderOutput(dataTable, element);\n",
              "          const docLink = document.createElement('div');\n",
              "          docLink.innerHTML = docLinkHtml;\n",
              "          element.appendChild(docLink);\n",
              "        }\n",
              "      </script>\n",
              "    </div>\n",
              "  </div>\n",
              "  "
            ]
          },
          "metadata": {},
          "execution_count": 29
        }
      ]
    },
    {
      "cell_type": "code",
      "source": [],
      "metadata": {
        "id": "IFzlMW0V8MDg"
      },
      "execution_count": null,
      "outputs": []
    }
  ]
}